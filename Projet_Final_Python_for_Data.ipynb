{
  "nbformat": 4,
  "nbformat_minor": 0,
  "metadata": {
    "colab": {
      "name": "Projet Final Python for Data.ipynb",
      "provenance": [],
      "collapsed_sections": [
        "xX1lBsok18FZ",
        "rrGlOO4n1wyi",
        "3qQM-DPU3pBf",
        "YT-yWwCu9RiD",
        "sau4it2-NaZz",
        "fkQMOazyNf9X",
        "VNd6QW3FNl1q"
      ]
    },
    "kernelspec": {
      "name": "python3",
      "display_name": "Python 3"
    },
    "language_info": {
      "name": "python"
    }
  },
  "cells": [
    {
      "cell_type": "markdown",
      "source": [
        "## Import Library and Load Data"
      ],
      "metadata": {
        "id": "xX1lBsok18FZ"
      }
    },
    {
      "cell_type": "code",
      "metadata": {
        "id": "wgIDmoYyJaA1"
      },
      "source": [
        "#First off all we imoport all the library that we will use in this project\n",
        "import pandas as pd\n",
        "import numpy as np\n",
        "import matplotlib.pyplot as plt\n",
        "import sklearn\n",
        "from sklearn.preprocessing import LabelEncoder\n",
        "from sklearn.decomposition import PCA\n",
        "from sklearn.linear_model import LogisticRegression\n",
        "from sklearn.preprocessing import StandardScaler\n",
        "from sklearn.neighbors import KNeighborsClassifier\n",
        "from sklearn.ensemble import RandomForestClassifier\n",
        "from sklearn.metrics import accuracy_score\n",
        "from sklearn.metrics import precision_recall_fscore_support\n",
        "from sklearn.metrics import confusion_matrix\n",
        "\n",
        "\n",
        "#For Flask API\n",
        "import pickle"
      ],
      "execution_count": 608,
      "outputs": []
    },
    {
      "cell_type": "code",
      "metadata": {
        "id": "7WdsIvVEIbXo"
      },
      "source": [
        "#We create all columns that we need\n",
        "colums = ['F'+str(i) for i in range(1,11)]\n",
        "colums_tot = ['F'+str(i) for i in range(1,11)]\n",
        "colums_tot.append('class')\n",
        "colums2=['F'+str(i) for i in range(1,11)]\n",
        "colums2.append('mahalanobis')\n",
        "label = ['A', 'B', 'C', 'D', 'E', 'F', 'G', 'H', 'I', 'W', 'X', 'Y']"
      ],
      "execution_count": 609,
      "outputs": []
    },
    {
      "cell_type": "code",
      "metadata": {
        "id": "6pKUHET55LIc"
      },
      "source": [
        "# function to import data with name and columns= name\n",
        "def TxtToPandas(colums,name):\n",
        "  data = pd.read_csv(name, header = None)\n",
        "  data.columns=colums\n",
        "  return data"
      ],
      "execution_count": 610,
      "outputs": []
    },
    {
      "cell_type": "code",
      "metadata": {
        "id": "c8NTjFqaLPzG"
      },
      "source": [
        "#import data\n",
        "avilatrain=TxtToPandas(colums_tot,'avila-tr.txt')\n",
        "avilatest=TxtToPandas(colums_tot,'avila-ts.txt')\n",
        "#Split data between Values X and Y Class\n",
        "Ytrain=avilatrain.iloc[:,10]\n",
        "Xtrain=avilatrain.iloc[:, :-1]\n",
        "Ytest=avilatest.iloc[:,10]\n",
        "Xtest=avilatest.iloc[:, :-1]"
      ],
      "execution_count": 611,
      "outputs": []
    },
    {
      "cell_type": "markdown",
      "source": [
        "## Data Visalusation Before Cleanning\n"
      ],
      "metadata": {
        "id": "rrGlOO4n1wyi"
      }
    },
    {
      "cell_type": "code",
      "source": [
        "#We observe the repartition off trainning set bewtenn classes.\n",
        "plt.bar(Ytrain.value_counts().keys(),Ytrain.value_counts().values)"
      ],
      "metadata": {
        "colab": {
          "base_uri": "https://localhost:8080/",
          "height": 282
        },
        "id": "QEQmG2lfIfNA",
        "outputId": "ef54298d-a1ef-4f65-9d8a-cdd5e4d8f3f1"
      },
      "execution_count": 612,
      "outputs": [
        {
          "output_type": "execute_result",
          "data": {
            "text/plain": [
              "<BarContainer object of 12 artists>"
            ]
          },
          "metadata": {},
          "execution_count": 612
        },
        {
          "output_type": "display_data",
          "data": {
            "image/png": "[encoded data removed]",
            "text/plain": [
              "<Figure size 432x288 with 1 Axes>"
            ]
          },
          "metadata": {
            "needs_background": "light"
          }
        }
      ]
    },
    {
      "cell_type": "code",
      "source": [
        "#In the ReadMe of the dataset, it was said that the data are already scale this the Z-Normalized Method.\n",
        "#In fact, all mean are very close to 0 \n",
        "Xtrain.describe()"
      ],
      "metadata": {
        "colab": {
          "base_uri": "https://localhost:8080/",
          "height": 300
        },
        "id": "FtDaVTobIfAJ",
        "outputId": "bd4cffed-bea1-4ac3-be17-86ee0900ed47"
      },
      "execution_count": 613,
      "outputs": [
        {
          "output_type": "execute_result",
          "data": {
            "text/html": [
              "\n",
              "  <div id=\"df-f964df59-83f3-423b-b380-0f9e8d1bc1c0\">\n",
              "    <div class=\"colab-df-container\">\n",
              "      <div>\n",
              "<style scoped>\n",
              "    .dataframe tbody tr th:only-of-type {\n",
              "        vertical-align: middle;\n",
              "    }\n",
              "\n",
              "    .dataframe tbody tr th {\n",
              "        vertical-align: top;\n",
              "    }\n",
              "\n",
              "    .dataframe thead th {\n",
              "        text-align: right;\n",
              "    }\n",
              "</style>\n",
              "<table border=\"1\" class=\"dataframe\">\n",
              "  <thead>\n",
              "    <tr style=\"text-align: right;\">\n",
              "      <th></th>\n",
              "      <th>F1</th>\n",
              "      <th>F2</th>\n",
              "      <th>F3</th>\n",
              "      <th>F4</th>\n",
              "      <th>F5</th>\n",
              "      <th>F6</th>\n",
              "      <th>F7</th>\n",
              "      <th>F8</th>\n",
              "      <th>F9</th>\n",
              "      <th>F10</th>\n",
              "    </tr>\n",
              "  </thead>\n",
              "  <tbody>\n",
              "    <tr>\n",
              "      <th>count</th>\n",
              "      <td>10430.000000</td>\n",
              "      <td>10430.000000</td>\n",
              "      <td>10430.000000</td>\n",
              "      <td>10430.000000</td>\n",
              "      <td>10430.000000</td>\n",
              "      <td>10430.000000</td>\n",
              "      <td>10430.000000</td>\n",
              "      <td>10430.000000</td>\n",
              "      <td>10430.000000</td>\n",
              "      <td>10430.000000</td>\n",
              "    </tr>\n",
              "    <tr>\n",
              "      <th>mean</th>\n",
              "      <td>0.000852</td>\n",
              "      <td>0.033611</td>\n",
              "      <td>-0.000525</td>\n",
              "      <td>-0.002387</td>\n",
              "      <td>0.006370</td>\n",
              "      <td>0.013973</td>\n",
              "      <td>0.005605</td>\n",
              "      <td>0.010323</td>\n",
              "      <td>0.012914</td>\n",
              "      <td>0.000818</td>\n",
              "    </tr>\n",
              "    <tr>\n",
              "      <th>std</th>\n",
              "      <td>0.991431</td>\n",
              "      <td>3.920868</td>\n",
              "      <td>1.120202</td>\n",
              "      <td>1.008527</td>\n",
              "      <td>0.992053</td>\n",
              "      <td>1.126245</td>\n",
              "      <td>1.313754</td>\n",
              "      <td>1.003507</td>\n",
              "      <td>1.087665</td>\n",
              "      <td>1.007094</td>\n",
              "    </tr>\n",
              "    <tr>\n",
              "      <th>min</th>\n",
              "      <td>-3.498799</td>\n",
              "      <td>-2.426761</td>\n",
              "      <td>-3.210528</td>\n",
              "      <td>-5.440122</td>\n",
              "      <td>-4.922215</td>\n",
              "      <td>-7.450257</td>\n",
              "      <td>-11.935457</td>\n",
              "      <td>-4.247781</td>\n",
              "      <td>-5.486218</td>\n",
              "      <td>-6.719324</td>\n",
              "    </tr>\n",
              "    <tr>\n",
              "      <th>25%</th>\n",
              "      <td>-0.128929</td>\n",
              "      <td>-0.259834</td>\n",
              "      <td>0.064919</td>\n",
              "      <td>-0.528002</td>\n",
              "      <td>0.172340</td>\n",
              "      <td>-0.598658</td>\n",
              "      <td>-0.044076</td>\n",
              "      <td>-0.541992</td>\n",
              "      <td>-0.372457</td>\n",
              "      <td>-0.516097</td>\n",
              "    </tr>\n",
              "    <tr>\n",
              "      <th>50%</th>\n",
              "      <td>0.043885</td>\n",
              "      <td>-0.055704</td>\n",
              "      <td>0.217845</td>\n",
              "      <td>0.095763</td>\n",
              "      <td>0.261718</td>\n",
              "      <td>-0.058835</td>\n",
              "      <td>0.220177</td>\n",
              "      <td>0.111803</td>\n",
              "      <td>0.064084</td>\n",
              "      <td>-0.034513</td>\n",
              "    </tr>\n",
              "    <tr>\n",
              "      <th>75%</th>\n",
              "      <td>0.204355</td>\n",
              "      <td>0.203385</td>\n",
              "      <td>0.352988</td>\n",
              "      <td>0.658210</td>\n",
              "      <td>0.261718</td>\n",
              "      <td>0.564038</td>\n",
              "      <td>0.446679</td>\n",
              "      <td>0.654944</td>\n",
              "      <td>0.500624</td>\n",
              "      <td>0.530855</td>\n",
              "    </tr>\n",
              "    <tr>\n",
              "      <th>max</th>\n",
              "      <td>11.819916</td>\n",
              "      <td>386.000000</td>\n",
              "      <td>50.000000</td>\n",
              "      <td>3.987152</td>\n",
              "      <td>1.066121</td>\n",
              "      <td>53.000000</td>\n",
              "      <td>83.000000</td>\n",
              "      <td>13.173081</td>\n",
              "      <td>44.000000</td>\n",
              "      <td>4.671232</td>\n",
              "    </tr>\n",
              "  </tbody>\n",
              "</table>\n",
              "</div>\n",
              "      <button class=\"colab-df-convert\" onclick=\"convertToInteractive('df-f964df59-83f3-423b-b380-0f9e8d1bc1c0')\"\n",
              "              title=\"Convert this dataframe to an interactive table.\"\n",
              "              style=\"display:none;\">\n",
              "        \n",
              "  <svg xmlns=\"http://www.w3.org/2000/svg\" height=\"24px\"viewBox=\"0 0 24 24\"\n",
              "       width=\"24px\">\n",
              "    <path d=\"M0 0h24v24H0V0z\" fill=\"none\"/>\n",
              "    <path d=\"M18.56 5.44l.94 2.06.94-2.06 2.06-.94-2.06-.94-.94-2.06-.94 2.06-2.06.94zm-11 1L8.5 8.5l.94-2.06 2.06-.94-2.06-.94L8.5 2.5l-.94 2.06-2.06.94zm10 10l.94 2.06.94-2.06 2.06-.94-2.06-.94-.94-2.06-.94 2.06-2.06.94z\"/><path d=\"M17.41 7.96l-1.37-1.37c-.4-.4-.92-.59-1.43-.59-.52 0-1.04.2-1.43.59L10.3 9.45l-7.72 7.72c-.78.78-.78 2.05 0 2.83L4 21.41c.39.39.9.59 1.41.59.51 0 1.02-.2 1.41-.59l7.78-7.78 2.81-2.81c.8-.78.8-2.07 0-2.86zM5.41 20L4 18.59l7.72-7.72 1.47 1.35L5.41 20z\"/>\n",
              "  </svg>\n",
              "      </button>\n",
              "      \n",
              "  <style>\n",
              "    .colab-df-container {\n",
              "      display:flex;\n",
              "      flex-wrap:wrap;\n",
              "      gap: 12px;\n",
              "    }\n",
              "\n",
              "    .colab-df-convert {\n",
              "      background-color: #E8F0FE;\n",
              "      border: none;\n",
              "      border-radius: 50%;\n",
              "      cursor: pointer;\n",
              "      display: none;\n",
              "      fill: #1967D2;\n",
              "      height: 32px;\n",
              "      padding: 0 0 0 0;\n",
              "      width: 32px;\n",
              "    }\n",
              "\n",
              "    .colab-df-convert:hover {\n",
              "      background-color: #E2EBFA;\n",
              "      box-shadow: 0px 1px 2px rgba(60, 64, 67, 0.3), 0px 1px 3px 1px rgba(60, 64, 67, 0.15);\n",
              "      fill: #174EA6;\n",
              "    }\n",
              "\n",
              "    [theme=dark] .colab-df-convert {\n",
              "      background-color: #3B4455;\n",
              "      fill: #D2E3FC;\n",
              "    }\n",
              "\n",
              "    [theme=dark] .colab-df-convert:hover {\n",
              "      background-color: #434B5C;\n",
              "      box-shadow: 0px 1px 3px 1px rgba(0, 0, 0, 0.15);\n",
              "      filter: drop-shadow(0px 1px 2px rgba(0, 0, 0, 0.3));\n",
              "      fill: #FFFFFF;\n",
              "    }\n",
              "  </style>\n",
              "\n",
              "      <script>\n",
              "        const buttonEl =\n",
              "          document.querySelector('#df-f964df59-83f3-423b-b380-0f9e8d1bc1c0 button.colab-df-convert');\n",
              "        buttonEl.style.display =\n",
              "          google.colab.kernel.accessAllowed ? 'block' : 'none';\n",
              "\n",
              "        async function convertToInteractive(key) {\n",
              "          const element = document.querySelector('#df-f964df59-83f3-423b-b380-0f9e8d1bc1c0');\n",
              "          const dataTable =\n",
              "            await google.colab.kernel.invokeFunction('convertToInteractive',\n",
              "                                                     [key], {});\n",
              "          if (!dataTable) return;\n",
              "\n",
              "          const docLinkHtml = 'Like what you see? Visit the ' +\n",
              "            '<a target=\"_blank\" href=https://colab.research.google.com/notebooks/data_table.ipynb>data table notebook</a>'\n",
              "            + ' to learn more about interactive tables.';\n",
              "          element.innerHTML = '';\n",
              "          dataTable['output_type'] = 'display_data';\n",
              "          await google.colab.output.renderOutput(dataTable, element);\n",
              "          const docLink = document.createElement('div');\n",
              "          docLink.innerHTML = docLinkHtml;\n",
              "          element.appendChild(docLink);\n",
              "        }\n",
              "      </script>\n",
              "    </div>\n",
              "  </div>\n",
              "  "
            ],
            "text/plain": [
              "                 F1            F2  ...            F9           F10\n",
              "count  10430.000000  10430.000000  ...  10430.000000  10430.000000\n",
              "mean       0.000852      0.033611  ...      0.012914      0.000818\n",
              "std        0.991431      3.920868  ...      1.087665      1.007094\n",
              "min       -3.498799     -2.426761  ...     -5.486218     -6.719324\n",
              "25%       -0.128929     -0.259834  ...     -0.372457     -0.516097\n",
              "50%        0.043885     -0.055704  ...      0.064084     -0.034513\n",
              "75%        0.204355      0.203385  ...      0.500624      0.530855\n",
              "max       11.819916    386.000000  ...     44.000000      4.671232\n",
              "\n",
              "[8 rows x 10 columns]"
            ]
          },
          "metadata": {},
          "execution_count": 613
        }
      ]
    },
    {
      "cell_type": "code",
      "metadata": {
        "id": "_aC040hAISCH",
        "colab": {
          "base_uri": "https://localhost:8080/",
          "height": 337
        },
        "outputId": "b3480eed-e81a-411d-a747-3e8e89754f57"
      },
      "source": [
        "Xtrain.plot(kind='box',figsize=(19,5))\n",
        "#And we visualize the boxplot of the dataset to delete all the inconsistant values."
      ],
      "execution_count": 614,
      "outputs": [
        {
          "output_type": "execute_result",
          "data": {
            "text/plain": [
              "<matplotlib.axes._subplots.AxesSubplot at 0x7f90e6f05fd0>"
            ]
          },
          "metadata": {},
          "execution_count": 614
        },
        {
          "output_type": "display_data",
          "data": {
            "image/png": "[encoded data removed]",
            "text/plain": [
              "<Figure size 1368x360 with 1 Axes>"
            ]
          },
          "metadata": {
            "needs_background": "light"
          }
        }
      ]
    },
    {
      "cell_type": "markdown",
      "source": [
        "## Data Cleanning"
      ],
      "metadata": {
        "id": "3qQM-DPU3pBf"
      }
    },
    {
      "cell_type": "code",
      "source": [
        "#On the graphe above, we can observate a inconsistant values for F2. In this cell we delete all rows this F2<200\n",
        "#In observing the data set, this row is inconsistant for F6 F7 and F9 too.\n",
        "avilatrain2 = avilatrain.drop(avilatrain.index[avilatrain['F2'] > 200].tolist()) \n",
        "Ytrain2=avilatrain2.iloc[:,10]\n",
        "Xtrain2=avilatrain2.iloc[:, :-1]"
      ],
      "metadata": {
        "id": "eLQCKwDQY3eS"
      },
      "execution_count": 615,
      "outputs": []
    },
    {
      "cell_type": "code",
      "source": [
        "Xtrain2.plot(kind='box',figsize=(19,5))"
      ],
      "metadata": {
        "colab": {
          "base_uri": "https://localhost:8080/",
          "height": 337
        },
        "id": "3fx4L6RyY3ar",
        "outputId": "638ac83f-7b77-4286-ab13-7b63de8ca686"
      },
      "execution_count": 616,
      "outputs": [
        {
          "output_type": "execute_result",
          "data": {
            "text/plain": [
              "<matplotlib.axes._subplots.AxesSubplot at 0x7f90e6dd8310>"
            ]
          },
          "metadata": {},
          "execution_count": 616
        },
        {
          "output_type": "display_data",
          "data": {
            "image/png": "[encoded data removed]",
            "text/plain": [
              "<Figure size 1368x360 with 1 Axes>"
            ]
          },
          "metadata": {
            "needs_background": "light"
          }
        }
      ]
    },
    {
      "cell_type": "code",
      "source": [
        "#In a segond time the plot the DataFrame without the rows which have been deleted above.\n",
        "#We delete again some inconsistant rows on columns F2 and F8\n",
        "avilatrain3 = avilatrain2.drop(avilatrain2.index[avilatrain2['F2'] > 30].tolist()) \n",
        "avilatrain3 = avilatrain2.drop(avilatrain2.index[avilatrain2['F8'] > 10].tolist()) \n",
        "Ytrain3=avilatrain3.iloc[:,10]\n",
        "Xtrain3=avilatrain3.iloc[:, :-1]"
      ],
      "metadata": {
        "id": "DyOohLWUY3Ve"
      },
      "execution_count": 617,
      "outputs": []
    },
    {
      "cell_type": "code",
      "source": [
        "Xtrain3.plot(kind='box',figsize=(25,6))"
      ],
      "metadata": {
        "colab": {
          "base_uri": "https://localhost:8080/",
          "height": 391
        },
        "id": "eSnmTboRY3S7",
        "outputId": "92169497-df2e-4ec4-cc10-0cffcb2f8c9d"
      },
      "execution_count": 618,
      "outputs": [
        {
          "output_type": "execute_result",
          "data": {
            "text/plain": [
              "<matplotlib.axes._subplots.AxesSubplot at 0x7f90e6cacdd0>"
            ]
          },
          "metadata": {},
          "execution_count": 618
        },
        {
          "output_type": "display_data",
          "data": {
            "image/png": "[encoded data removed]",
            "text/plain": [
              "<Figure size 1800x432 with 1 Axes>"
            ]
          },
          "metadata": {
            "needs_background": "light"
          }
        }
      ]
    },
    {
      "cell_type": "code",
      "source": [
        "Xtrain3.describe()"
      ],
      "metadata": {
        "colab": {
          "base_uri": "https://localhost:8080/",
          "height": 300
        },
        "id": "fTmjKYveY3BG",
        "outputId": "90eebb47-75e5-4f68-b0a7-575eccc509e8"
      },
      "execution_count": 619,
      "outputs": [
        {
          "output_type": "execute_result",
          "data": {
            "text/html": [
              "\n",
              "  <div id=\"df-7910eff3-4ee7-4c2e-8543-0c7ee670fc23\">\n",
              "    <div class=\"colab-df-container\">\n",
              "      <div>\n",
              "<style scoped>\n",
              "    .dataframe tbody tr th:only-of-type {\n",
              "        vertical-align: middle;\n",
              "    }\n",
              "\n",
              "    .dataframe tbody tr th {\n",
              "        vertical-align: top;\n",
              "    }\n",
              "\n",
              "    .dataframe thead th {\n",
              "        text-align: right;\n",
              "    }\n",
              "</style>\n",
              "<table border=\"1\" class=\"dataframe\">\n",
              "  <thead>\n",
              "    <tr style=\"text-align: right;\">\n",
              "      <th></th>\n",
              "      <th>F1</th>\n",
              "      <th>F2</th>\n",
              "      <th>F3</th>\n",
              "      <th>F4</th>\n",
              "      <th>F5</th>\n",
              "      <th>F6</th>\n",
              "      <th>F7</th>\n",
              "      <th>F8</th>\n",
              "      <th>F9</th>\n",
              "      <th>F10</th>\n",
              "    </tr>\n",
              "  </thead>\n",
              "  <tbody>\n",
              "    <tr>\n",
              "      <th>count</th>\n",
              "      <td>10428.000000</td>\n",
              "      <td>10428.000000</td>\n",
              "      <td>10428.000000</td>\n",
              "      <td>10428.000000</td>\n",
              "      <td>10428.000000</td>\n",
              "      <td>10428.000000</td>\n",
              "      <td>10428.000000</td>\n",
              "      <td>10428.000000</td>\n",
              "      <td>10428.000000</td>\n",
              "      <td>10428.000000</td>\n",
              "    </tr>\n",
              "    <tr>\n",
              "      <th>mean</th>\n",
              "      <td>0.001188</td>\n",
              "      <td>-0.007535</td>\n",
              "      <td>-0.005012</td>\n",
              "      <td>-0.001882</td>\n",
              "      <td>0.006834</td>\n",
              "      <td>0.009608</td>\n",
              "      <td>-0.001208</td>\n",
              "      <td>0.009035</td>\n",
              "      <td>0.009223</td>\n",
              "      <td>0.001401</td>\n",
              "    </tr>\n",
              "    <tr>\n",
              "      <th>std</th>\n",
              "      <td>0.990934</td>\n",
              "      <td>0.953603</td>\n",
              "      <td>1.007133</td>\n",
              "      <td>1.007215</td>\n",
              "      <td>0.991016</td>\n",
              "      <td>0.997023</td>\n",
              "      <td>1.025651</td>\n",
              "      <td>0.995286</td>\n",
              "      <td>0.997380</td>\n",
              "      <td>1.005019</td>\n",
              "    </tr>\n",
              "    <tr>\n",
              "      <th>min</th>\n",
              "      <td>-3.498799</td>\n",
              "      <td>-2.426761</td>\n",
              "      <td>-3.210528</td>\n",
              "      <td>-5.440122</td>\n",
              "      <td>-4.922215</td>\n",
              "      <td>-7.450257</td>\n",
              "      <td>-11.935457</td>\n",
              "      <td>-4.247781</td>\n",
              "      <td>-5.423855</td>\n",
              "      <td>-6.719324</td>\n",
              "    </tr>\n",
              "    <tr>\n",
              "      <th>25%</th>\n",
              "      <td>-0.128929</td>\n",
              "      <td>-0.261797</td>\n",
              "      <td>0.064919</td>\n",
              "      <td>-0.528002</td>\n",
              "      <td>0.172340</td>\n",
              "      <td>-0.598658</td>\n",
              "      <td>-0.044076</td>\n",
              "      <td>-0.542021</td>\n",
              "      <td>-0.372457</td>\n",
              "      <td>-0.516086</td>\n",
              "    </tr>\n",
              "    <tr>\n",
              "      <th>50%</th>\n",
              "      <td>0.043885</td>\n",
              "      <td>-0.055704</td>\n",
              "      <td>0.217845</td>\n",
              "      <td>0.095763</td>\n",
              "      <td>0.261718</td>\n",
              "      <td>-0.058835</td>\n",
              "      <td>0.220177</td>\n",
              "      <td>0.111735</td>\n",
              "      <td>0.064084</td>\n",
              "      <td>-0.034513</td>\n",
              "    </tr>\n",
              "    <tr>\n",
              "      <th>75%</th>\n",
              "      <td>0.204355</td>\n",
              "      <td>0.203385</td>\n",
              "      <td>0.352988</td>\n",
              "      <td>0.658210</td>\n",
              "      <td>0.261718</td>\n",
              "      <td>0.564038</td>\n",
              "      <td>0.446679</td>\n",
              "      <td>0.654915</td>\n",
              "      <td>0.500624</td>\n",
              "      <td>0.530794</td>\n",
              "    </tr>\n",
              "    <tr>\n",
              "      <th>max</th>\n",
              "      <td>11.819916</td>\n",
              "      <td>19.470188</td>\n",
              "      <td>7.458681</td>\n",
              "      <td>3.987152</td>\n",
              "      <td>1.066121</td>\n",
              "      <td>5.505495</td>\n",
              "      <td>10.714792</td>\n",
              "      <td>4.510897</td>\n",
              "      <td>3.244594</td>\n",
              "      <td>4.671232</td>\n",
              "    </tr>\n",
              "  </tbody>\n",
              "</table>\n",
              "</div>\n",
              "      <button class=\"colab-df-convert\" onclick=\"convertToInteractive('df-7910eff3-4ee7-4c2e-8543-0c7ee670fc23')\"\n",
              "              title=\"Convert this dataframe to an interactive table.\"\n",
              "              style=\"display:none;\">\n",
              "        \n",
              "  <svg xmlns=\"http://www.w3.org/2000/svg\" height=\"24px\"viewBox=\"0 0 24 24\"\n",
              "       width=\"24px\">\n",
              "    <path d=\"M0 0h24v24H0V0z\" fill=\"none\"/>\n",
              "    <path d=\"M18.56 5.44l.94 2.06.94-2.06 2.06-.94-2.06-.94-.94-2.06-.94 2.06-2.06.94zm-11 1L8.5 8.5l.94-2.06 2.06-.94-2.06-.94L8.5 2.5l-.94 2.06-2.06.94zm10 10l.94 2.06.94-2.06 2.06-.94-2.06-.94-.94-2.06-.94 2.06-2.06.94z\"/><path d=\"M17.41 7.96l-1.37-1.37c-.4-.4-.92-.59-1.43-.59-.52 0-1.04.2-1.43.59L10.3 9.45l-7.72 7.72c-.78.78-.78 2.05 0 2.83L4 21.41c.39.39.9.59 1.41.59.51 0 1.02-.2 1.41-.59l7.78-7.78 2.81-2.81c.8-.78.8-2.07 0-2.86zM5.41 20L4 18.59l7.72-7.72 1.47 1.35L5.41 20z\"/>\n",
              "  </svg>\n",
              "      </button>\n",
              "      \n",
              "  <style>\n",
              "    .colab-df-container {\n",
              "      display:flex;\n",
              "      flex-wrap:wrap;\n",
              "      gap: 12px;\n",
              "    }\n",
              "\n",
              "    .colab-df-convert {\n",
              "      background-color: #E8F0FE;\n",
              "      border: none;\n",
              "      border-radius: 50%;\n",
              "      cursor: pointer;\n",
              "      display: none;\n",
              "      fill: #1967D2;\n",
              "      height: 32px;\n",
              "      padding: 0 0 0 0;\n",
              "      width: 32px;\n",
              "    }\n",
              "\n",
              "    .colab-df-convert:hover {\n",
              "      background-color: #E2EBFA;\n",
              "      box-shadow: 0px 1px 2px rgba(60, 64, 67, 0.3), 0px 1px 3px 1px rgba(60, 64, 67, 0.15);\n",
              "      fill: #174EA6;\n",
              "    }\n",
              "\n",
              "    [theme=dark] .colab-df-convert {\n",
              "      background-color: #3B4455;\n",
              "      fill: #D2E3FC;\n",
              "    }\n",
              "\n",
              "    [theme=dark] .colab-df-convert:hover {\n",
              "      background-color: #434B5C;\n",
              "      box-shadow: 0px 1px 3px 1px rgba(0, 0, 0, 0.15);\n",
              "      filter: drop-shadow(0px 1px 2px rgba(0, 0, 0, 0.3));\n",
              "      fill: #FFFFFF;\n",
              "    }\n",
              "  </style>\n",
              "\n",
              "      <script>\n",
              "        const buttonEl =\n",
              "          document.querySelector('#df-7910eff3-4ee7-4c2e-8543-0c7ee670fc23 button.colab-df-convert');\n",
              "        buttonEl.style.display =\n",
              "          google.colab.kernel.accessAllowed ? 'block' : 'none';\n",
              "\n",
              "        async function convertToInteractive(key) {\n",
              "          const element = document.querySelector('#df-7910eff3-4ee7-4c2e-8543-0c7ee670fc23');\n",
              "          const dataTable =\n",
              "            await google.colab.kernel.invokeFunction('convertToInteractive',\n",
              "                                                     [key], {});\n",
              "          if (!dataTable) return;\n",
              "\n",
              "          const docLinkHtml = 'Like what you see? Visit the ' +\n",
              "            '<a target=\"_blank\" href=https://colab.research.google.com/notebooks/data_table.ipynb>data table notebook</a>'\n",
              "            + ' to learn more about interactive tables.';\n",
              "          element.innerHTML = '';\n",
              "          dataTable['output_type'] = 'display_data';\n",
              "          await google.colab.output.renderOutput(dataTable, element);\n",
              "          const docLink = document.createElement('div');\n",
              "          docLink.innerHTML = docLinkHtml;\n",
              "          element.appendChild(docLink);\n",
              "        }\n",
              "      </script>\n",
              "    </div>\n",
              "  </div>\n",
              "  "
            ],
            "text/plain": [
              "                 F1            F2  ...            F9           F10\n",
              "count  10428.000000  10428.000000  ...  10428.000000  10428.000000\n",
              "mean       0.001188     -0.007535  ...      0.009223      0.001401\n",
              "std        0.990934      0.953603  ...      0.997380      1.005019\n",
              "min       -3.498799     -2.426761  ...     -5.423855     -6.719324\n",
              "25%       -0.128929     -0.261797  ...     -0.372457     -0.516086\n",
              "50%        0.043885     -0.055704  ...      0.064084     -0.034513\n",
              "75%        0.204355      0.203385  ...      0.500624      0.530794\n",
              "max       11.819916     19.470188  ...      3.244594      4.671232\n",
              "\n",
              "[8 rows x 10 columns]"
            ]
          },
          "metadata": {},
          "execution_count": 619
        }
      ]
    },
    {
      "cell_type": "code",
      "source": [
        "#To determinate all the inconsistant values in a DataFrame, the Mahalanobis distance is frequenty use.\n",
        "#Here is the function to calculate the mahalanobis distance for each rows on a DataFrame\n",
        "def mahalanobis(data=None,):\n",
        "    data_mean = data - np.mean(data)\n",
        "    cov = np.cov(data.values.T)\n",
        "    inv_covmat = np.linalg.inv(cov)\n",
        "    left = np.dot(data_mean, inv_covmat)\n",
        "    mahal = np.dot(left, data_mean.T)\n",
        "    return mahal.diagonal()"
      ],
      "metadata": {
        "id": "knjHKyjAxgtu"
      },
      "execution_count": 620,
      "outputs": []
    },
    {
      "cell_type": "code",
      "source": [
        "Xtrain['mahalanobis'] = mahalanobis(data=Xtrain)\n",
        "plt.scatter(Xtrain['mahalanobis'],Xtrain.index,s=10)\n",
        "plt.xlabel('Mahalanobis Distance')\n",
        "#We Observe well 2 point with a high Mahalanobis Distance.\n",
        "#In reallity they are already deleted above."
      ],
      "metadata": {
        "colab": {
          "base_uri": "https://localhost:8080/",
          "height": 296
        },
        "id": "ByegVLZ4SHsS",
        "outputId": "e86cc634-303e-4dae-fcac-1c296a9ccd68"
      },
      "execution_count": 621,
      "outputs": [
        {
          "output_type": "execute_result",
          "data": {
            "text/plain": [
              "Text(0.5, 0, 'Mahalanobis Distance')"
            ]
          },
          "metadata": {},
          "execution_count": 621
        },
        {
          "output_type": "display_data",
          "data": {
            "image/png": "[encoded data removed]",
            "text/plain": [
              "<Figure size 432x288 with 1 Axes>"
            ]
          },
          "metadata": {
            "needs_background": "light"
          }
        }
      ]
    },
    {
      "cell_type": "code",
      "source": [
        "Xtrain3['mahalanobis'] = mahalanobis(data=Xtrain3)\n",
        "plt.scatter(Xtrain3['mahalanobis'],Xtrain3.index,s=2)"
      ],
      "metadata": {
        "colab": {
          "base_uri": "https://localhost:8080/",
          "height": 282
        },
        "id": "4tSDtashxgwm",
        "outputId": "f5265859-f569-4c62-e62a-8ace07706d9d"
      },
      "execution_count": 622,
      "outputs": [
        {
          "output_type": "execute_result",
          "data": {
            "text/plain": [
              "<matplotlib.collections.PathCollection at 0x7f90e6aefcd0>"
            ]
          },
          "metadata": {},
          "execution_count": 622
        },
        {
          "output_type": "display_data",
          "data": {
            "image/png": "[encoded data removed]",
            "text/plain": [
              "<Figure size 432x288 with 1 Axes>"
            ]
          },
          "metadata": {
            "needs_background": "light"
          }
        }
      ]
    },
    {
      "cell_type": "code",
      "source": [
        "#Finally the have decided to delete all rows which have a Mahalanobis Distance >260\n",
        "avilatrainlast = avilatrain3.drop(Xtrain3.index[Xtrain3['mahalanobis'] > 260].tolist()) \n",
        "Ytrainlast=avilatrainlast.iloc[:,10]\n",
        "Xtrainlast=avilatrainlast.iloc[:, :-1]"
      ],
      "metadata": {
        "id": "YBqO9UPpoyHg"
      },
      "execution_count": 623,
      "outputs": []
    },
    {
      "cell_type": "code",
      "source": [
        "Xtrainlast['mahalanobis'] = mahalanobis(data=Xtrainlast)\n",
        "plt.scatter(Xtrainlast['mahalanobis'],Xtrainlast.index,s=2)\n",
        "#The DataFrame is now clean, so we are going to make some graphe to analyse the Data"
      ],
      "metadata": {
        "colab": {
          "base_uri": "https://localhost:8080/",
          "height": 282
        },
        "id": "ZPuG0Cf1oyK0",
        "outputId": "1e3af711-11a3-4b51-a067-3a8176d3caa0"
      },
      "execution_count": 624,
      "outputs": [
        {
          "output_type": "execute_result",
          "data": {
            "text/plain": [
              "<matplotlib.collections.PathCollection at 0x7f90e6aa4e10>"
            ]
          },
          "metadata": {},
          "execution_count": 624
        },
        {
          "output_type": "display_data",
          "data": {
            "image/png": "[encoded data removed]",
            "text/plain": [
              "<Figure size 432x288 with 1 Axes>"
            ]
          },
          "metadata": {
            "needs_background": "light"
          }
        }
      ]
    },
    {
      "cell_type": "markdown",
      "source": [
        "## Data Visulisation after Cleanning"
      ],
      "metadata": {
        "id": "YT-yWwCu9RiD"
      }
    },
    {
      "cell_type": "code",
      "source": [
        "Xtrainlast.describe()"
      ],
      "metadata": {
        "colab": {
          "base_uri": "https://localhost:8080/",
          "height": 300
        },
        "id": "E8XaMCCkuvTV",
        "outputId": "3606bf5a-c1c5-4443-ed23-6a074d3f8553"
      },
      "execution_count": 625,
      "outputs": [
        {
          "output_type": "execute_result",
          "data": {
            "text/html": [
              "\n",
              "  <div id=\"df-ef992344-848b-4044-8224-39c86c4eee4a\">\n",
              "    <div class=\"colab-df-container\">\n",
              "      <div>\n",
              "<style scoped>\n",
              "    .dataframe tbody tr th:only-of-type {\n",
              "        vertical-align: middle;\n",
              "    }\n",
              "\n",
              "    .dataframe tbody tr th {\n",
              "        vertical-align: top;\n",
              "    }\n",
              "\n",
              "    .dataframe thead th {\n",
              "        text-align: right;\n",
              "    }\n",
              "</style>\n",
              "<table border=\"1\" class=\"dataframe\">\n",
              "  <thead>\n",
              "    <tr style=\"text-align: right;\">\n",
              "      <th></th>\n",
              "      <th>F1</th>\n",
              "      <th>F2</th>\n",
              "      <th>F3</th>\n",
              "      <th>F4</th>\n",
              "      <th>F5</th>\n",
              "      <th>F6</th>\n",
              "      <th>F7</th>\n",
              "      <th>F8</th>\n",
              "      <th>F9</th>\n",
              "      <th>F10</th>\n",
              "      <th>mahalanobis</th>\n",
              "    </tr>\n",
              "  </thead>\n",
              "  <tbody>\n",
              "    <tr>\n",
              "      <th>count</th>\n",
              "      <td>10412.000000</td>\n",
              "      <td>10412.000000</td>\n",
              "      <td>10412.000000</td>\n",
              "      <td>10412.000000</td>\n",
              "      <td>10412.000000</td>\n",
              "      <td>10412.000000</td>\n",
              "      <td>10412.000000</td>\n",
              "      <td>10412.000000</td>\n",
              "      <td>10412.000000</td>\n",
              "      <td>10412.000000</td>\n",
              "      <td>10412.000000</td>\n",
              "    </tr>\n",
              "    <tr>\n",
              "      <th>mean</th>\n",
              "      <td>0.005233</td>\n",
              "      <td>-0.026898</td>\n",
              "      <td>-0.003691</td>\n",
              "      <td>-0.002080</td>\n",
              "      <td>0.012657</td>\n",
              "      <td>0.011922</td>\n",
              "      <td>0.005206</td>\n",
              "      <td>0.007117</td>\n",
              "      <td>0.013307</td>\n",
              "      <td>0.007354</td>\n",
              "      <td>9.999040</td>\n",
              "    </tr>\n",
              "    <tr>\n",
              "      <th>std</th>\n",
              "      <td>0.984539</td>\n",
              "      <td>0.755476</td>\n",
              "      <td>1.005425</td>\n",
              "      <td>1.007562</td>\n",
              "      <td>0.977441</td>\n",
              "      <td>0.993583</td>\n",
              "      <td>0.979180</td>\n",
              "      <td>0.992506</td>\n",
              "      <td>0.991020</td>\n",
              "      <td>0.988920</td>\n",
              "      <td>21.518941</td>\n",
              "    </tr>\n",
              "    <tr>\n",
              "      <th>min</th>\n",
              "      <td>-3.498799</td>\n",
              "      <td>-2.426761</td>\n",
              "      <td>-3.210528</td>\n",
              "      <td>-5.440122</td>\n",
              "      <td>-4.922215</td>\n",
              "      <td>-7.450257</td>\n",
              "      <td>-11.935457</td>\n",
              "      <td>-4.247781</td>\n",
              "      <td>-5.049677</td>\n",
              "      <td>-6.719324</td>\n",
              "      <td>0.159146</td>\n",
              "    </tr>\n",
              "    <tr>\n",
              "      <th>25%</th>\n",
              "      <td>-0.128929</td>\n",
              "      <td>-0.267686</td>\n",
              "      <td>0.064919</td>\n",
              "      <td>-0.528002</td>\n",
              "      <td>0.172340</td>\n",
              "      <td>-0.598658</td>\n",
              "      <td>-0.044076</td>\n",
              "      <td>-0.542967</td>\n",
              "      <td>-0.341275</td>\n",
              "      <td>-0.513370</td>\n",
              "      <td>2.071338</td>\n",
              "    </tr>\n",
              "    <tr>\n",
              "      <th>50%</th>\n",
              "      <td>0.043885</td>\n",
              "      <td>-0.055704</td>\n",
              "      <td>0.217845</td>\n",
              "      <td>0.095763</td>\n",
              "      <td>0.261718</td>\n",
              "      <td>-0.058835</td>\n",
              "      <td>0.220177</td>\n",
              "      <td>0.111172</td>\n",
              "      <td>0.064084</td>\n",
              "      <td>-0.032211</td>\n",
              "      <td>4.103691</td>\n",
              "    </tr>\n",
              "    <tr>\n",
              "      <th>75%</th>\n",
              "      <td>0.204355</td>\n",
              "      <td>0.203385</td>\n",
              "      <td>0.352988</td>\n",
              "      <td>0.658210</td>\n",
              "      <td>0.261718</td>\n",
              "      <td>0.564038</td>\n",
              "      <td>0.446679</td>\n",
              "      <td>0.653507</td>\n",
              "      <td>0.500624</td>\n",
              "      <td>0.532018</td>\n",
              "      <td>10.247644</td>\n",
              "    </tr>\n",
              "    <tr>\n",
              "      <th>max</th>\n",
              "      <td>11.819916</td>\n",
              "      <td>12.655362</td>\n",
              "      <td>7.458681</td>\n",
              "      <td>3.987152</td>\n",
              "      <td>1.066121</td>\n",
              "      <td>5.505495</td>\n",
              "      <td>8.902772</td>\n",
              "      <td>4.510897</td>\n",
              "      <td>3.244594</td>\n",
              "      <td>4.671232</td>\n",
              "      <td>323.717802</td>\n",
              "    </tr>\n",
              "  </tbody>\n",
              "</table>\n",
              "</div>\n",
              "      <button class=\"colab-df-convert\" onclick=\"convertToInteractive('df-ef992344-848b-4044-8224-39c86c4eee4a')\"\n",
              "              title=\"Convert this dataframe to an interactive table.\"\n",
              "              style=\"display:none;\">\n",
              "        \n",
              "  <svg xmlns=\"http://www.w3.org/2000/svg\" height=\"24px\"viewBox=\"0 0 24 24\"\n",
              "       width=\"24px\">\n",
              "    <path d=\"M0 0h24v24H0V0z\" fill=\"none\"/>\n",
              "    <path d=\"M18.56 5.44l.94 2.06.94-2.06 2.06-.94-2.06-.94-.94-2.06-.94 2.06-2.06.94zm-11 1L8.5 8.5l.94-2.06 2.06-.94-2.06-.94L8.5 2.5l-.94 2.06-2.06.94zm10 10l.94 2.06.94-2.06 2.06-.94-2.06-.94-.94-2.06-.94 2.06-2.06.94z\"/><path d=\"M17.41 7.96l-1.37-1.37c-.4-.4-.92-.59-1.43-.59-.52 0-1.04.2-1.43.59L10.3 9.45l-7.72 7.72c-.78.78-.78 2.05 0 2.83L4 21.41c.39.39.9.59 1.41.59.51 0 1.02-.2 1.41-.59l7.78-7.78 2.81-2.81c.8-.78.8-2.07 0-2.86zM5.41 20L4 18.59l7.72-7.72 1.47 1.35L5.41 20z\"/>\n",
              "  </svg>\n",
              "      </button>\n",
              "      \n",
              "  <style>\n",
              "    .colab-df-container {\n",
              "      display:flex;\n",
              "      flex-wrap:wrap;\n",
              "      gap: 12px;\n",
              "    }\n",
              "\n",
              "    .colab-df-convert {\n",
              "      background-color: #E8F0FE;\n",
              "      border: none;\n",
              "      border-radius: 50%;\n",
              "      cursor: pointer;\n",
              "      display: none;\n",
              "      fill: #1967D2;\n",
              "      height: 32px;\n",
              "      padding: 0 0 0 0;\n",
              "      width: 32px;\n",
              "    }\n",
              "\n",
              "    .colab-df-convert:hover {\n",
              "      background-color: #E2EBFA;\n",
              "      box-shadow: 0px 1px 2px rgba(60, 64, 67, 0.3), 0px 1px 3px 1px rgba(60, 64, 67, 0.15);\n",
              "      fill: #174EA6;\n",
              "    }\n",
              "\n",
              "    [theme=dark] .colab-df-convert {\n",
              "      background-color: #3B4455;\n",
              "      fill: #D2E3FC;\n",
              "    }\n",
              "\n",
              "    [theme=dark] .colab-df-convert:hover {\n",
              "      background-color: #434B5C;\n",
              "      box-shadow: 0px 1px 3px 1px rgba(0, 0, 0, 0.15);\n",
              "      filter: drop-shadow(0px 1px 2px rgba(0, 0, 0, 0.3));\n",
              "      fill: #FFFFFF;\n",
              "    }\n",
              "  </style>\n",
              "\n",
              "      <script>\n",
              "        const buttonEl =\n",
              "          document.querySelector('#df-ef992344-848b-4044-8224-39c86c4eee4a button.colab-df-convert');\n",
              "        buttonEl.style.display =\n",
              "          google.colab.kernel.accessAllowed ? 'block' : 'none';\n",
              "\n",
              "        async function convertToInteractive(key) {\n",
              "          const element = document.querySelector('#df-ef992344-848b-4044-8224-39c86c4eee4a');\n",
              "          const dataTable =\n",
              "            await google.colab.kernel.invokeFunction('convertToInteractive',\n",
              "                                                     [key], {});\n",
              "          if (!dataTable) return;\n",
              "\n",
              "          const docLinkHtml = 'Like what you see? Visit the ' +\n",
              "            '<a target=\"_blank\" href=https://colab.research.google.com/notebooks/data_table.ipynb>data table notebook</a>'\n",
              "            + ' to learn more about interactive tables.';\n",
              "          element.innerHTML = '';\n",
              "          dataTable['output_type'] = 'display_data';\n",
              "          await google.colab.output.renderOutput(dataTable, element);\n",
              "          const docLink = document.createElement('div');\n",
              "          docLink.innerHTML = docLinkHtml;\n",
              "          element.appendChild(docLink);\n",
              "        }\n",
              "      </script>\n",
              "    </div>\n",
              "  </div>\n",
              "  "
            ],
            "text/plain": [
              "                 F1            F2  ...           F10   mahalanobis\n",
              "count  10412.000000  10412.000000  ...  10412.000000  10412.000000\n",
              "mean       0.005233     -0.026898  ...      0.007354      9.999040\n",
              "std        0.984539      0.755476  ...      0.988920     21.518941\n",
              "min       -3.498799     -2.426761  ...     -6.719324      0.159146\n",
              "25%       -0.128929     -0.267686  ...     -0.513370      2.071338\n",
              "50%        0.043885     -0.055704  ...     -0.032211      4.103691\n",
              "75%        0.204355      0.203385  ...      0.532018     10.247644\n",
              "max       11.819916     12.655362  ...      4.671232    323.717802\n",
              "\n",
              "[8 rows x 11 columns]"
            ]
          },
          "metadata": {},
          "execution_count": 625
        }
      ]
    },
    {
      "cell_type": "code",
      "source": [
        "#To observe the DataFrame, we print the corelation matrix to see if some columns have a correlation between then\n",
        "plt.figure(figsize=(6, 5))\n",
        "plt.imshow(Xtrainlast.corr(), aspect='auto')\n",
        "plt.xticks(range(Xtrainlast.shape[1]),colums2, rotation=45)\n",
        "plt.yticks(range(Xtrainlast.shape[1]),colums2)\n",
        "plt.colorbar()\n",
        "#On this correlation matrix, we can see a important correlation between columns F6 and F10 and between F9 and F8 "
      ],
      "metadata": {
        "colab": {
          "base_uri": "https://localhost:8080/",
          "height": 383
        },
        "id": "wGCAVOXlsU4c",
        "outputId": "a4a53dc6-3656-422c-ccc5-f4b51b9eda45"
      },
      "execution_count": 626,
      "outputs": [
        {
          "output_type": "execute_result",
          "data": {
            "text/plain": [
              "<matplotlib.colorbar.Colorbar at 0x7f90e6941b50>"
            ]
          },
          "metadata": {},
          "execution_count": 626
        },
        {
          "output_type": "display_data",
          "data": {
            "image/png": "[encoded data removed]",
            "text/plain": [
              "<Figure size 432x360 with 2 Axes>"
            ]
          },
          "metadata": {
            "needs_background": "light"
          }
        }
      ]
    },
    {
      "cell_type": "code",
      "source": [
        "#In fact on this scatter plot, the can see very well the corelation bewteen F6 and F10\n",
        "plt.scatter(Xtrainlast['F6'],Xtrainlast['F10'],s=2)"
      ],
      "metadata": {
        "id": "LACBfoWbsVFm",
        "colab": {
          "base_uri": "https://localhost:8080/",
          "height": 282
        },
        "outputId": "5a2ffc6a-4871-40f4-9e37-f3e5afcf6933"
      },
      "execution_count": 627,
      "outputs": [
        {
          "output_type": "execute_result",
          "data": {
            "text/plain": [
              "<matplotlib.collections.PathCollection at 0x7f90e6974ed0>"
            ]
          },
          "metadata": {},
          "execution_count": 627
        },
        {
          "output_type": "display_data",
          "data": {
            "image/png": "[encoded data removed]",
            "text/plain": [
              "<Figure size 432x288 with 1 Axes>"
            ]
          },
          "metadata": {
            "needs_background": "light"
          }
        }
      ]
    },
    {
      "cell_type": "code",
      "source": [
        "del Xtrainlast['mahalanobis']\n",
        "#We delete the column Mahalanobis because it is useless now "
      ],
      "metadata": {
        "id": "QVG201qRElmb"
      },
      "execution_count": 628,
      "outputs": []
    },
    {
      "cell_type": "code",
      "source": [
        "#To finish the Analyse Part, we do the PCA Method to determined the importance of all columns in the Predicition\n",
        "pca = PCA()\n",
        "principalComponents = pca.fit_transform(Xtrainlast)\n",
        "plt.plot(pca.explained_variance_ratio_)\n",
        "plt.xticks(np.arange(0, 10, step=1),range(1,11))\n",
        "plt.ylabel('Variance')\n",
        "plt.xlabel('Columns')\n",
        "#We can said that F1, F2 and F3 are the most important columns in the DataFrame"
      ],
      "metadata": {
        "id": "bXPTgdRxCz7d",
        "colab": {
          "base_uri": "https://localhost:8080/",
          "height": 298
        },
        "outputId": "c5513d78-4855-4eaf-e10f-15b1b54d811e"
      },
      "execution_count": 629,
      "outputs": [
        {
          "output_type": "execute_result",
          "data": {
            "text/plain": [
              "Text(0.5, 0, 'Columns')"
            ]
          },
          "metadata": {},
          "execution_count": 629
        },
        {
          "output_type": "display_data",
          "data": {
            "image/png": "[encoded data removed]",
            "text/plain": [
              "<Figure size 432x288 with 1 Axes>"
            ]
          },
          "metadata": {
            "needs_background": "light"
          }
        }
      ]
    },
    {
      "cell_type": "markdown",
      "source": [
        "## Machine Learning"
      ],
      "metadata": {
        "id": "RJMCHHa7L7pK"
      }
    },
    {
      "cell_type": "code",
      "source": [
        "#We initialize 4 dictionnaries to kepp all values and to compare models at the end\n",
        "accuracy_stock={}\n",
        "precision_stock={}\n",
        "recall_stock={}\n",
        "f1_score_stock={}"
      ],
      "metadata": {
        "id": "HDt0Ry-KC0BC"
      },
      "execution_count": 630,
      "outputs": []
    },
    {
      "cell_type": "markdown",
      "source": [
        "### Logistical Regression"
      ],
      "metadata": {
        "id": "ZFU9e-nJMhqI"
      }
    },
    {
      "cell_type": "code",
      "source": [
        "#Logistical Regression\n",
        "log_reg=LogisticRegression()\n",
        "log_reg.fit(Xtrainlast, Ytrainlast)\n",
        "pred=log_reg.predict(Xtest)\n",
        "accuracy=accuracy_score(Ytest,pred)\n",
        "precision, recall, f1_score, x = precision_recall_fscore_support(Ytest,pred, average='macro')\n",
        "accuracy_stock[\"log_reg\"]=accuracy\n",
        "precision_stock[\"log_reg\"]=precision\n",
        "recall_stock[\"log_reg\"]=recall\n",
        "f1_score_stock[\"log_reg\"]=f1_score\n",
        "pd.DataFrame(confusion_matrix(Ytest,pred),columns =label, index=label).apply(pd.to_numeric).style.background_gradient(cmap='viridis')"
      ],
      "metadata": {
        "id": "GDsopukKC0GK",
        "colab": {
          "base_uri": "https://localhost:8080/",
          "height": 619
        },
        "outputId": "c72c97e4-b493-4f86-ca35-2109a83e32a8"
      },
      "execution_count": 631,
      "outputs": [
        {
          "output_type": "stream",
          "name": "stderr",
          "text": [
            "/usr/local/lib/python3.7/dist-packages/sklearn/linear_model/_logistic.py:818: ConvergenceWarning: lbfgs failed to converge (status=1):\n",
            "STOP: TOTAL NO. of ITERATIONS REACHED LIMIT.\n",
            "\n",
            "Increase the number of iterations (max_iter) or scale the data as shown in:\n",
            "    https://scikit-learn.org/stable/modules/preprocessing.html\n",
            "Please also refer to the documentation for alternative solver options:\n",
            "    https://scikit-learn.org/stable/modules/linear_model.html#logistic-regression\n",
            "  extra_warning_msg=_LOGISTIC_SOLVER_CONVERGENCE_MSG,\n",
            "/usr/local/lib/python3.7/dist-packages/sklearn/metrics/_classification.py:1308: UndefinedMetricWarning: Precision and F-score are ill-defined and being set to 0.0 in labels with no predicted samples. Use `zero_division` parameter to control this behavior.\n",
            "  _warn_prf(average, modifier, msg_start, len(result))\n"
          ]
        },
        {
          "output_type": "execute_result",
          "data": {
            "text/html": [
              "<style  type=\"text/css\" >\n",
              "#T_6dad468e_6e4f_11ec_a2e2_0242ac1c0002row0_col0,#T_6dad468e_6e4f_11ec_a2e2_0242ac1c0002row0_col3,#T_6dad468e_6e4f_11ec_a2e2_0242ac1c0002row0_col6,#T_6dad468e_6e4f_11ec_a2e2_0242ac1c0002row1_col1,#T_6dad468e_6e4f_11ec_a2e2_0242ac1c0002row4_col4,#T_6dad468e_6e4f_11ec_a2e2_0242ac1c0002row5_col5,#T_6dad468e_6e4f_11ec_a2e2_0242ac1c0002row7_col7,#T_6dad468e_6e4f_11ec_a2e2_0242ac1c0002row8_col8,#T_6dad468e_6e4f_11ec_a2e2_0242ac1c0002row10_col9,#T_6dad468e_6e4f_11ec_a2e2_0242ac1c0002row10_col10,#T_6dad468e_6e4f_11ec_a2e2_0242ac1c0002row11_col11{\n",
              "            background-color:  #fde725;\n",
              "            color:  #000000;\n",
              "        }#T_6dad468e_6e4f_11ec_a2e2_0242ac1c0002row0_col1,#T_6dad468e_6e4f_11ec_a2e2_0242ac1c0002row0_col2,#T_6dad468e_6e4f_11ec_a2e2_0242ac1c0002row0_col9,#T_6dad468e_6e4f_11ec_a2e2_0242ac1c0002row1_col0,#T_6dad468e_6e4f_11ec_a2e2_0242ac1c0002row1_col2,#T_6dad468e_6e4f_11ec_a2e2_0242ac1c0002row1_col3,#T_6dad468e_6e4f_11ec_a2e2_0242ac1c0002row1_col4,#T_6dad468e_6e4f_11ec_a2e2_0242ac1c0002row1_col5,#T_6dad468e_6e4f_11ec_a2e2_0242ac1c0002row1_col6,#T_6dad468e_6e4f_11ec_a2e2_0242ac1c0002row1_col7,#T_6dad468e_6e4f_11ec_a2e2_0242ac1c0002row1_col8,#T_6dad468e_6e4f_11ec_a2e2_0242ac1c0002row1_col9,#T_6dad468e_6e4f_11ec_a2e2_0242ac1c0002row1_col10,#T_6dad468e_6e4f_11ec_a2e2_0242ac1c0002row1_col11,#T_6dad468e_6e4f_11ec_a2e2_0242ac1c0002row2_col1,#T_6dad468e_6e4f_11ec_a2e2_0242ac1c0002row2_col2,#T_6dad468e_6e4f_11ec_a2e2_0242ac1c0002row2_col3,#T_6dad468e_6e4f_11ec_a2e2_0242ac1c0002row2_col9,#T_6dad468e_6e4f_11ec_a2e2_0242ac1c0002row2_col10,#T_6dad468e_6e4f_11ec_a2e2_0242ac1c0002row2_col11,#T_6dad468e_6e4f_11ec_a2e2_0242ac1c0002row3_col1,#T_6dad468e_6e4f_11ec_a2e2_0242ac1c0002row3_col2,#T_6dad468e_6e4f_11ec_a2e2_0242ac1c0002row3_col3,#T_6dad468e_6e4f_11ec_a2e2_0242ac1c0002row3_col6,#T_6dad468e_6e4f_11ec_a2e2_0242ac1c0002row3_col8,#T_6dad468e_6e4f_11ec_a2e2_0242ac1c0002row3_col9,#T_6dad468e_6e4f_11ec_a2e2_0242ac1c0002row3_col11,#T_6dad468e_6e4f_11ec_a2e2_0242ac1c0002row4_col1,#T_6dad468e_6e4f_11ec_a2e2_0242ac1c0002row4_col2,#T_6dad468e_6e4f_11ec_a2e2_0242ac1c0002row4_col3,#T_6dad468e_6e4f_11ec_a2e2_0242ac1c0002row4_col9,#T_6dad468e_6e4f_11ec_a2e2_0242ac1c0002row5_col1,#T_6dad468e_6e4f_11ec_a2e2_0242ac1c0002row5_col2,#T_6dad468e_6e4f_11ec_a2e2_0242ac1c0002row5_col9,#T_6dad468e_6e4f_11ec_a2e2_0242ac1c0002row5_col10,#T_6dad468e_6e4f_11ec_a2e2_0242ac1c0002row6_col1,#T_6dad468e_6e4f_11ec_a2e2_0242ac1c0002row6_col2,#T_6dad468e_6e4f_11ec_a2e2_0242ac1c0002row6_col3,#T_6dad468e_6e4f_11ec_a2e2_0242ac1c0002row6_col8,#T_6dad468e_6e4f_11ec_a2e2_0242ac1c0002row6_col9,#T_6dad468e_6e4f_11ec_a2e2_0242ac1c0002row6_col11,#T_6dad468e_6e4f_11ec_a2e2_0242ac1c0002row7_col1,#T_6dad468e_6e4f_11ec_a2e2_0242ac1c0002row7_col2,#T_6dad468e_6e4f_11ec_a2e2_0242ac1c0002row7_col3,#T_6dad468e_6e4f_11ec_a2e2_0242ac1c0002row7_col9,#T_6dad468e_6e4f_11ec_a2e2_0242ac1c0002row7_col10,#T_6dad468e_6e4f_11ec_a2e2_0242ac1c0002row8_col1,#T_6dad468e_6e4f_11ec_a2e2_0242ac1c0002row8_col2,#T_6dad468e_6e4f_11ec_a2e2_0242ac1c0002row8_col3,#T_6dad468e_6e4f_11ec_a2e2_0242ac1c0002row8_col6,#T_6dad468e_6e4f_11ec_a2e2_0242ac1c0002row8_col9,#T_6dad468e_6e4f_11ec_a2e2_0242ac1c0002row9_col1,#T_6dad468e_6e4f_11ec_a2e2_0242ac1c0002row9_col2,#T_6dad468e_6e4f_11ec_a2e2_0242ac1c0002row9_col3,#T_6dad468e_6e4f_11ec_a2e2_0242ac1c0002row9_col5,#T_6dad468e_6e4f_11ec_a2e2_0242ac1c0002row9_col6,#T_6dad468e_6e4f_11ec_a2e2_0242ac1c0002row9_col7,#T_6dad468e_6e4f_11ec_a2e2_0242ac1c0002row9_col8,#T_6dad468e_6e4f_11ec_a2e2_0242ac1c0002row9_col11,#T_6dad468e_6e4f_11ec_a2e2_0242ac1c0002row10_col1,#T_6dad468e_6e4f_11ec_a2e2_0242ac1c0002row10_col2,#T_6dad468e_6e4f_11ec_a2e2_0242ac1c0002row10_col3,#T_6dad468e_6e4f_11ec_a2e2_0242ac1c0002row10_col6,#T_6dad468e_6e4f_11ec_a2e2_0242ac1c0002row10_col7,#T_6dad468e_6e4f_11ec_a2e2_0242ac1c0002row11_col1,#T_6dad468e_6e4f_11ec_a2e2_0242ac1c0002row11_col2,#T_6dad468e_6e4f_11ec_a2e2_0242ac1c0002row11_col3,#T_6dad468e_6e4f_11ec_a2e2_0242ac1c0002row11_col6,#T_6dad468e_6e4f_11ec_a2e2_0242ac1c0002row11_col7,#T_6dad468e_6e4f_11ec_a2e2_0242ac1c0002row11_col9{\n",
              "            background-color:  #440154;\n",
              "            color:  #f1f1f1;\n",
              "        }#T_6dad468e_6e4f_11ec_a2e2_0242ac1c0002row0_col4{\n",
              "            background-color:  #3e4989;\n",
              "            color:  #f1f1f1;\n",
              "        }#T_6dad468e_6e4f_11ec_a2e2_0242ac1c0002row0_col5{\n",
              "            background-color:  #90d743;\n",
              "            color:  #000000;\n",
              "        }#T_6dad468e_6e4f_11ec_a2e2_0242ac1c0002row0_col7,#T_6dad468e_6e4f_11ec_a2e2_0242ac1c0002row4_col7{\n",
              "            background-color:  #424186;\n",
              "            color:  #f1f1f1;\n",
              "        }#T_6dad468e_6e4f_11ec_a2e2_0242ac1c0002row0_col8,#T_6dad468e_6e4f_11ec_a2e2_0242ac1c0002row0_col11,#T_6dad468e_6e4f_11ec_a2e2_0242ac1c0002row5_col11{\n",
              "            background-color:  #460b5e;\n",
              "            color:  #f1f1f1;\n",
              "        }#T_6dad468e_6e4f_11ec_a2e2_0242ac1c0002row0_col10,#T_6dad468e_6e4f_11ec_a2e2_0242ac1c0002row2_col0,#T_6dad468e_6e4f_11ec_a2e2_0242ac1c0002row2_col7,#T_6dad468e_6e4f_11ec_a2e2_0242ac1c0002row4_col8,#T_6dad468e_6e4f_11ec_a2e2_0242ac1c0002row8_col4,#T_6dad468e_6e4f_11ec_a2e2_0242ac1c0002row10_col5{\n",
              "            background-color:  #46075a;\n",
              "            color:  #f1f1f1;\n",
              "        }#T_6dad468e_6e4f_11ec_a2e2_0242ac1c0002row2_col4,#T_6dad468e_6e4f_11ec_a2e2_0242ac1c0002row6_col4{\n",
              "            background-color:  #471365;\n",
              "            color:  #f1f1f1;\n",
              "        }#T_6dad468e_6e4f_11ec_a2e2_0242ac1c0002row2_col5{\n",
              "            background-color:  #482475;\n",
              "            color:  #f1f1f1;\n",
              "        }#T_6dad468e_6e4f_11ec_a2e2_0242ac1c0002row2_col6{\n",
              "            background-color:  #443983;\n",
              "            color:  #f1f1f1;\n",
              "        }#T_6dad468e_6e4f_11ec_a2e2_0242ac1c0002row2_col8,#T_6dad468e_6e4f_11ec_a2e2_0242ac1c0002row3_col10,#T_6dad468e_6e4f_11ec_a2e2_0242ac1c0002row7_col11,#T_6dad468e_6e4f_11ec_a2e2_0242ac1c0002row9_col0,#T_6dad468e_6e4f_11ec_a2e2_0242ac1c0002row9_col10,#T_6dad468e_6e4f_11ec_a2e2_0242ac1c0002row11_col5{\n",
              "            background-color:  #440256;\n",
              "            color:  #f1f1f1;\n",
              "        }#T_6dad468e_6e4f_11ec_a2e2_0242ac1c0002row3_col0{\n",
              "            background-color:  #481b6d;\n",
              "            color:  #f1f1f1;\n",
              "        }#T_6dad468e_6e4f_11ec_a2e2_0242ac1c0002row3_col4{\n",
              "            background-color:  #472c7a;\n",
              "            color:  #f1f1f1;\n",
              "        }#T_6dad468e_6e4f_11ec_a2e2_0242ac1c0002row3_col5,#T_6dad468e_6e4f_11ec_a2e2_0242ac1c0002row8_col10{\n",
              "            background-color:  #481769;\n",
              "            color:  #f1f1f1;\n",
              "        }#T_6dad468e_6e4f_11ec_a2e2_0242ac1c0002row3_col7{\n",
              "            background-color:  #472a7a;\n",
              "            color:  #f1f1f1;\n",
              "        }#T_6dad468e_6e4f_11ec_a2e2_0242ac1c0002row4_col0{\n",
              "            background-color:  #453882;\n",
              "            color:  #f1f1f1;\n",
              "        }#T_6dad468e_6e4f_11ec_a2e2_0242ac1c0002row4_col5{\n",
              "            background-color:  #2f6b8e;\n",
              "            color:  #f1f1f1;\n",
              "        }#T_6dad468e_6e4f_11ec_a2e2_0242ac1c0002row4_col6,#T_6dad468e_6e4f_11ec_a2e2_0242ac1c0002row10_col4{\n",
              "            background-color:  #472d7b;\n",
              "            color:  #f1f1f1;\n",
              "        }#T_6dad468e_6e4f_11ec_a2e2_0242ac1c0002row4_col10{\n",
              "            background-color:  #453581;\n",
              "            color:  #f1f1f1;\n",
              "        }#T_6dad468e_6e4f_11ec_a2e2_0242ac1c0002row4_col11,#T_6dad468e_6e4f_11ec_a2e2_0242ac1c0002row5_col8{\n",
              "            background-color:  #46085c;\n",
              "            color:  #f1f1f1;\n",
              "        }#T_6dad468e_6e4f_11ec_a2e2_0242ac1c0002row5_col0{\n",
              "            background-color:  #27808e;\n",
              "            color:  #000000;\n",
              "        }#T_6dad468e_6e4f_11ec_a2e2_0242ac1c0002row5_col3{\n",
              "            background-color:  #31688e;\n",
              "            color:  #f1f1f1;\n",
              "        }#T_6dad468e_6e4f_11ec_a2e2_0242ac1c0002row5_col4{\n",
              "            background-color:  #481467;\n",
              "            color:  #f1f1f1;\n",
              "        }#T_6dad468e_6e4f_11ec_a2e2_0242ac1c0002row5_col6{\n",
              "            background-color:  #287c8e;\n",
              "            color:  #000000;\n",
              "        }#T_6dad468e_6e4f_11ec_a2e2_0242ac1c0002row5_col7{\n",
              "            background-color:  #472e7c;\n",
              "            color:  #f1f1f1;\n",
              "        }#T_6dad468e_6e4f_11ec_a2e2_0242ac1c0002row6_col0,#T_6dad468e_6e4f_11ec_a2e2_0242ac1c0002row11_col10{\n",
              "            background-color:  #481d6f;\n",
              "            color:  #f1f1f1;\n",
              "        }#T_6dad468e_6e4f_11ec_a2e2_0242ac1c0002row6_col5{\n",
              "            background-color:  #3f4788;\n",
              "            color:  #f1f1f1;\n",
              "        }#T_6dad468e_6e4f_11ec_a2e2_0242ac1c0002row6_col6{\n",
              "            background-color:  #21918c;\n",
              "            color:  #000000;\n",
              "        }#T_6dad468e_6e4f_11ec_a2e2_0242ac1c0002row6_col7{\n",
              "            background-color:  #23888e;\n",
              "            color:  #000000;\n",
              "        }#T_6dad468e_6e4f_11ec_a2e2_0242ac1c0002row6_col10,#T_6dad468e_6e4f_11ec_a2e2_0242ac1c0002row8_col0,#T_6dad468e_6e4f_11ec_a2e2_0242ac1c0002row11_col0,#T_6dad468e_6e4f_11ec_a2e2_0242ac1c0002row11_col4{\n",
              "            background-color:  #450457;\n",
              "            color:  #f1f1f1;\n",
              "        }#T_6dad468e_6e4f_11ec_a2e2_0242ac1c0002row7_col0{\n",
              "            background-color:  #481a6c;\n",
              "            color:  #f1f1f1;\n",
              "        }#T_6dad468e_6e4f_11ec_a2e2_0242ac1c0002row7_col4{\n",
              "            background-color:  #423f85;\n",
              "            color:  #f1f1f1;\n",
              "        }#T_6dad468e_6e4f_11ec_a2e2_0242ac1c0002row7_col5{\n",
              "            background-color:  #365d8d;\n",
              "            color:  #f1f1f1;\n",
              "        }#T_6dad468e_6e4f_11ec_a2e2_0242ac1c0002row7_col6,#T_6dad468e_6e4f_11ec_a2e2_0242ac1c0002row8_col5{\n",
              "            background-color:  #481f70;\n",
              "            color:  #f1f1f1;\n",
              "        }#T_6dad468e_6e4f_11ec_a2e2_0242ac1c0002row7_col8,#T_6dad468e_6e4f_11ec_a2e2_0242ac1c0002row10_col0{\n",
              "            background-color:  #450559;\n",
              "            color:  #f1f1f1;\n",
              "        }#T_6dad468e_6e4f_11ec_a2e2_0242ac1c0002row8_col7{\n",
              "            background-color:  #48186a;\n",
              "            color:  #f1f1f1;\n",
              "        }#T_6dad468e_6e4f_11ec_a2e2_0242ac1c0002row8_col11{\n",
              "            background-color:  #482878;\n",
              "            color:  #f1f1f1;\n",
              "        }#T_6dad468e_6e4f_11ec_a2e2_0242ac1c0002row9_col4,#T_6dad468e_6e4f_11ec_a2e2_0242ac1c0002row10_col8{\n",
              "            background-color:  #470d60;\n",
              "            color:  #f1f1f1;\n",
              "        }#T_6dad468e_6e4f_11ec_a2e2_0242ac1c0002row9_col9{\n",
              "            background-color:  #22a884;\n",
              "            color:  #000000;\n",
              "        }#T_6dad468e_6e4f_11ec_a2e2_0242ac1c0002row10_col11{\n",
              "            background-color:  #404688;\n",
              "            color:  #f1f1f1;\n",
              "        }#T_6dad468e_6e4f_11ec_a2e2_0242ac1c0002row11_col8{\n",
              "            background-color:  #471063;\n",
              "            color:  #f1f1f1;\n",
              "        }</style><table id=\"T_6dad468e_6e4f_11ec_a2e2_0242ac1c0002\" class=\"dataframe\"><thead>    <tr>        <th class=\"blank level0\" ></th>        <th class=\"col_heading level0 col0\" >A</th>        <th class=\"col_heading level0 col1\" >B</th>        <th class=\"col_heading level0 col2\" >C</th>        <th class=\"col_heading level0 col3\" >D</th>        <th class=\"col_heading level0 col4\" >E</th>        <th class=\"col_heading level0 col5\" >F</th>        <th class=\"col_heading level0 col6\" >G</th>        <th class=\"col_heading level0 col7\" >H</th>        <th class=\"col_heading level0 col8\" >I</th>        <th class=\"col_heading level0 col9\" >W</th>        <th class=\"col_heading level0 col10\" >X</th>        <th class=\"col_heading level0 col11\" >Y</th>    </tr></thead><tbody>\n",
              "                <tr>\n",
              "                        <th id=\"T_6dad468e_6e4f_11ec_a2e2_0242ac1c0002level0_row0\" class=\"row_heading level0 row0\" >A</th>\n",
              "                        <td id=\"T_6dad468e_6e4f_11ec_a2e2_0242ac1c0002row0_col0\" class=\"data row0 col0\" >3999</td>\n",
              "                        <td id=\"T_6dad468e_6e4f_11ec_a2e2_0242ac1c0002row0_col1\" class=\"data row0 col1\" >0</td>\n",
              "                        <td id=\"T_6dad468e_6e4f_11ec_a2e2_0242ac1c0002row0_col2\" class=\"data row0 col2\" >0</td>\n",
              "                        <td id=\"T_6dad468e_6e4f_11ec_a2e2_0242ac1c0002row0_col3\" class=\"data row0 col3\" >3</td>\n",
              "                        <td id=\"T_6dad468e_6e4f_11ec_a2e2_0242ac1c0002row0_col4\" class=\"data row0 col4\" >64</td>\n",
              "                        <td id=\"T_6dad468e_6e4f_11ec_a2e2_0242ac1c0002row0_col5\" class=\"data row0 col5\" >140</td>\n",
              "                        <td id=\"T_6dad468e_6e4f_11ec_a2e2_0242ac1c0002row0_col6\" class=\"data row0 col6\" >24</td>\n",
              "                        <td id=\"T_6dad468e_6e4f_11ec_a2e2_0242ac1c0002row0_col7\" class=\"data row0 col7\" >24</td>\n",
              "                        <td id=\"T_6dad468e_6e4f_11ec_a2e2_0242ac1c0002row0_col8\" class=\"data row0 col8\" >20</td>\n",
              "                        <td id=\"T_6dad468e_6e4f_11ec_a2e2_0242ac1c0002row0_col9\" class=\"data row0 col9\" >0</td>\n",
              "                        <td id=\"T_6dad468e_6e4f_11ec_a2e2_0242ac1c0002row0_col10\" class=\"data row0 col10\" >7</td>\n",
              "                        <td id=\"T_6dad468e_6e4f_11ec_a2e2_0242ac1c0002row0_col11\" class=\"data row0 col11\" >5</td>\n",
              "            </tr>\n",
              "            <tr>\n",
              "                        <th id=\"T_6dad468e_6e4f_11ec_a2e2_0242ac1c0002level0_row1\" class=\"row_heading level0 row1\" >B</th>\n",
              "                        <td id=\"T_6dad468e_6e4f_11ec_a2e2_0242ac1c0002row1_col0\" class=\"data row1 col0\" >0</td>\n",
              "                        <td id=\"T_6dad468e_6e4f_11ec_a2e2_0242ac1c0002row1_col1\" class=\"data row1 col1\" >5</td>\n",
              "                        <td id=\"T_6dad468e_6e4f_11ec_a2e2_0242ac1c0002row1_col2\" class=\"data row1 col2\" >0</td>\n",
              "                        <td id=\"T_6dad468e_6e4f_11ec_a2e2_0242ac1c0002row1_col3\" class=\"data row1 col3\" >0</td>\n",
              "                        <td id=\"T_6dad468e_6e4f_11ec_a2e2_0242ac1c0002row1_col4\" class=\"data row1 col4\" >0</td>\n",
              "                        <td id=\"T_6dad468e_6e4f_11ec_a2e2_0242ac1c0002row1_col5\" class=\"data row1 col5\" >0</td>\n",
              "                        <td id=\"T_6dad468e_6e4f_11ec_a2e2_0242ac1c0002row1_col6\" class=\"data row1 col6\" >0</td>\n",
              "                        <td id=\"T_6dad468e_6e4f_11ec_a2e2_0242ac1c0002row1_col7\" class=\"data row1 col7\" >0</td>\n",
              "                        <td id=\"T_6dad468e_6e4f_11ec_a2e2_0242ac1c0002row1_col8\" class=\"data row1 col8\" >0</td>\n",
              "                        <td id=\"T_6dad468e_6e4f_11ec_a2e2_0242ac1c0002row1_col9\" class=\"data row1 col9\" >0</td>\n",
              "                        <td id=\"T_6dad468e_6e4f_11ec_a2e2_0242ac1c0002row1_col10\" class=\"data row1 col10\" >0</td>\n",
              "                        <td id=\"T_6dad468e_6e4f_11ec_a2e2_0242ac1c0002row1_col11\" class=\"data row1 col11\" >0</td>\n",
              "            </tr>\n",
              "            <tr>\n",
              "                        <th id=\"T_6dad468e_6e4f_11ec_a2e2_0242ac1c0002level0_row2\" class=\"row_heading level0 row2\" >C</th>\n",
              "                        <td id=\"T_6dad468e_6e4f_11ec_a2e2_0242ac1c0002row2_col0\" class=\"data row2 col0\" >63</td>\n",
              "                        <td id=\"T_6dad468e_6e4f_11ec_a2e2_0242ac1c0002row2_col1\" class=\"data row2 col1\" >0</td>\n",
              "                        <td id=\"T_6dad468e_6e4f_11ec_a2e2_0242ac1c0002row2_col2\" class=\"data row2 col2\" >0</td>\n",
              "                        <td id=\"T_6dad468e_6e4f_11ec_a2e2_0242ac1c0002row2_col3\" class=\"data row2 col3\" >0</td>\n",
              "                        <td id=\"T_6dad468e_6e4f_11ec_a2e2_0242ac1c0002row2_col4\" class=\"data row2 col4\" >14</td>\n",
              "                        <td id=\"T_6dad468e_6e4f_11ec_a2e2_0242ac1c0002row2_col5\" class=\"data row2 col5\" >17</td>\n",
              "                        <td id=\"T_6dad468e_6e4f_11ec_a2e2_0242ac1c0002row2_col6\" class=\"data row2 col6\" >4</td>\n",
              "                        <td id=\"T_6dad468e_6e4f_11ec_a2e2_0242ac1c0002row2_col7\" class=\"data row2 col7\" >2</td>\n",
              "                        <td id=\"T_6dad468e_6e4f_11ec_a2e2_0242ac1c0002row2_col8\" class=\"data row2 col8\" >3</td>\n",
              "                        <td id=\"T_6dad468e_6e4f_11ec_a2e2_0242ac1c0002row2_col9\" class=\"data row2 col9\" >0</td>\n",
              "                        <td id=\"T_6dad468e_6e4f_11ec_a2e2_0242ac1c0002row2_col10\" class=\"data row2 col10\" >0</td>\n",
              "                        <td id=\"T_6dad468e_6e4f_11ec_a2e2_0242ac1c0002row2_col11\" class=\"data row2 col11\" >0</td>\n",
              "            </tr>\n",
              "            <tr>\n",
              "                        <th id=\"T_6dad468e_6e4f_11ec_a2e2_0242ac1c0002level0_row3\" class=\"row_heading level0 row3\" >D</th>\n",
              "                        <td id=\"T_6dad468e_6e4f_11ec_a2e2_0242ac1c0002row3_col0\" class=\"data row3 col0\" >290</td>\n",
              "                        <td id=\"T_6dad468e_6e4f_11ec_a2e2_0242ac1c0002row3_col1\" class=\"data row3 col1\" >0</td>\n",
              "                        <td id=\"T_6dad468e_6e4f_11ec_a2e2_0242ac1c0002row3_col2\" class=\"data row3 col2\" >0</td>\n",
              "                        <td id=\"T_6dad468e_6e4f_11ec_a2e2_0242ac1c0002row3_col3\" class=\"data row3 col3\" >0</td>\n",
              "                        <td id=\"T_6dad468e_6e4f_11ec_a2e2_0242ac1c0002row3_col4\" class=\"data row3 col4\" >35</td>\n",
              "                        <td id=\"T_6dad468e_6e4f_11ec_a2e2_0242ac1c0002row3_col5\" class=\"data row3 col5\" >10</td>\n",
              "                        <td id=\"T_6dad468e_6e4f_11ec_a2e2_0242ac1c0002row3_col6\" class=\"data row3 col6\" >0</td>\n",
              "                        <td id=\"T_6dad468e_6e4f_11ec_a2e2_0242ac1c0002row3_col7\" class=\"data row3 col7\" >15</td>\n",
              "                        <td id=\"T_6dad468e_6e4f_11ec_a2e2_0242ac1c0002row3_col8\" class=\"data row3 col8\" >1</td>\n",
              "                        <td id=\"T_6dad468e_6e4f_11ec_a2e2_0242ac1c0002row3_col9\" class=\"data row3 col9\" >0</td>\n",
              "                        <td id=\"T_6dad468e_6e4f_11ec_a2e2_0242ac1c0002row3_col10\" class=\"data row3 col10\" >2</td>\n",
              "                        <td id=\"T_6dad468e_6e4f_11ec_a2e2_0242ac1c0002row3_col11\" class=\"data row3 col11\" >0</td>\n",
              "            </tr>\n",
              "            <tr>\n",
              "                        <th id=\"T_6dad468e_6e4f_11ec_a2e2_0242ac1c0002level0_row4\" class=\"row_heading level0 row4\" >E</th>\n",
              "                        <td id=\"T_6dad468e_6e4f_11ec_a2e2_0242ac1c0002row4_col0\" class=\"data row4 col0\" >646</td>\n",
              "                        <td id=\"T_6dad468e_6e4f_11ec_a2e2_0242ac1c0002row4_col1\" class=\"data row4 col1\" >0</td>\n",
              "                        <td id=\"T_6dad468e_6e4f_11ec_a2e2_0242ac1c0002row4_col2\" class=\"data row4 col2\" >0</td>\n",
              "                        <td id=\"T_6dad468e_6e4f_11ec_a2e2_0242ac1c0002row4_col3\" class=\"data row4 col3\" >0</td>\n",
              "                        <td id=\"T_6dad468e_6e4f_11ec_a2e2_0242ac1c0002row4_col4\" class=\"data row4 col4\" >289</td>\n",
              "                        <td id=\"T_6dad468e_6e4f_11ec_a2e2_0242ac1c0002row4_col5\" class=\"data row4 col5\" >58</td>\n",
              "                        <td id=\"T_6dad468e_6e4f_11ec_a2e2_0242ac1c0002row4_col6\" class=\"data row4 col6\" >3</td>\n",
              "                        <td id=\"T_6dad468e_6e4f_11ec_a2e2_0242ac1c0002row4_col7\" class=\"data row4 col7\" >24</td>\n",
              "                        <td id=\"T_6dad468e_6e4f_11ec_a2e2_0242ac1c0002row4_col8\" class=\"data row4 col8\" >14</td>\n",
              "                        <td id=\"T_6dad468e_6e4f_11ec_a2e2_0242ac1c0002row4_col9\" class=\"data row4 col9\" >0</td>\n",
              "                        <td id=\"T_6dad468e_6e4f_11ec_a2e2_0242ac1c0002row4_col10\" class=\"data row4 col10\" >57</td>\n",
              "                        <td id=\"T_6dad468e_6e4f_11ec_a2e2_0242ac1c0002row4_col11\" class=\"data row4 col11\" >4</td>\n",
              "            </tr>\n",
              "            <tr>\n",
              "                        <th id=\"T_6dad468e_6e4f_11ec_a2e2_0242ac1c0002level0_row5\" class=\"row_heading level0 row5\" >F</th>\n",
              "                        <td id=\"T_6dad468e_6e4f_11ec_a2e2_0242ac1c0002row5_col0\" class=\"data row5 col0\" >1731</td>\n",
              "                        <td id=\"T_6dad468e_6e4f_11ec_a2e2_0242ac1c0002row5_col1\" class=\"data row5 col1\" >0</td>\n",
              "                        <td id=\"T_6dad468e_6e4f_11ec_a2e2_0242ac1c0002row5_col2\" class=\"data row5 col2\" >0</td>\n",
              "                        <td id=\"T_6dad468e_6e4f_11ec_a2e2_0242ac1c0002row5_col3\" class=\"data row5 col3\" >1</td>\n",
              "                        <td id=\"T_6dad468e_6e4f_11ec_a2e2_0242ac1c0002row5_col4\" class=\"data row5 col4\" >15</td>\n",
              "                        <td id=\"T_6dad468e_6e4f_11ec_a2e2_0242ac1c0002row5_col5\" class=\"data row5 col5\" >168</td>\n",
              "                        <td id=\"T_6dad468e_6e4f_11ec_a2e2_0242ac1c0002row5_col6\" class=\"data row5 col6\" >10</td>\n",
              "                        <td id=\"T_6dad468e_6e4f_11ec_a2e2_0242ac1c0002row5_col7\" class=\"data row5 col7\" >16</td>\n",
              "                        <td id=\"T_6dad468e_6e4f_11ec_a2e2_0242ac1c0002row5_col8\" class=\"data row5 col8\" >15</td>\n",
              "                        <td id=\"T_6dad468e_6e4f_11ec_a2e2_0242ac1c0002row5_col9\" class=\"data row5 col9\" >0</td>\n",
              "                        <td id=\"T_6dad468e_6e4f_11ec_a2e2_0242ac1c0002row5_col10\" class=\"data row5 col10\" >1</td>\n",
              "                        <td id=\"T_6dad468e_6e4f_11ec_a2e2_0242ac1c0002row5_col11\" class=\"data row5 col11\" >5</td>\n",
              "            </tr>\n",
              "            <tr>\n",
              "                        <th id=\"T_6dad468e_6e4f_11ec_a2e2_0242ac1c0002level0_row6\" class=\"row_heading level0 row6\" >G</th>\n",
              "                        <td id=\"T_6dad468e_6e4f_11ec_a2e2_0242ac1c0002row6_col0\" class=\"data row6 col0\" >323</td>\n",
              "                        <td id=\"T_6dad468e_6e4f_11ec_a2e2_0242ac1c0002row6_col1\" class=\"data row6 col1\" >0</td>\n",
              "                        <td id=\"T_6dad468e_6e4f_11ec_a2e2_0242ac1c0002row6_col2\" class=\"data row6 col2\" >0</td>\n",
              "                        <td id=\"T_6dad468e_6e4f_11ec_a2e2_0242ac1c0002row6_col3\" class=\"data row6 col3\" >0</td>\n",
              "                        <td id=\"T_6dad468e_6e4f_11ec_a2e2_0242ac1c0002row6_col4\" class=\"data row6 col4\" >14</td>\n",
              "                        <td id=\"T_6dad468e_6e4f_11ec_a2e2_0242ac1c0002row6_col5\" class=\"data row6 col5\" >36</td>\n",
              "                        <td id=\"T_6dad468e_6e4f_11ec_a2e2_0242ac1c0002row6_col6\" class=\"data row6 col6\" >12</td>\n",
              "                        <td id=\"T_6dad468e_6e4f_11ec_a2e2_0242ac1c0002row6_col7\" class=\"data row6 col7\" >58</td>\n",
              "                        <td id=\"T_6dad468e_6e4f_11ec_a2e2_0242ac1c0002row6_col8\" class=\"data row6 col8\" >0</td>\n",
              "                        <td id=\"T_6dad468e_6e4f_11ec_a2e2_0242ac1c0002row6_col9\" class=\"data row6 col9\" >0</td>\n",
              "                        <td id=\"T_6dad468e_6e4f_11ec_a2e2_0242ac1c0002row6_col10\" class=\"data row6 col10\" >4</td>\n",
              "                        <td id=\"T_6dad468e_6e4f_11ec_a2e2_0242ac1c0002row6_col11\" class=\"data row6 col11\" >0</td>\n",
              "            </tr>\n",
              "            <tr>\n",
              "                        <th id=\"T_6dad468e_6e4f_11ec_a2e2_0242ac1c0002level0_row7\" class=\"row_heading level0 row7\" >H</th>\n",
              "                        <td id=\"T_6dad468e_6e4f_11ec_a2e2_0242ac1c0002row7_col0\" class=\"data row7 col0\" >278</td>\n",
              "                        <td id=\"T_6dad468e_6e4f_11ec_a2e2_0242ac1c0002row7_col1\" class=\"data row7 col1\" >0</td>\n",
              "                        <td id=\"T_6dad468e_6e4f_11ec_a2e2_0242ac1c0002row7_col2\" class=\"data row7 col2\" >0</td>\n",
              "                        <td id=\"T_6dad468e_6e4f_11ec_a2e2_0242ac1c0002row7_col3\" class=\"data row7 col3\" >0</td>\n",
              "                        <td id=\"T_6dad468e_6e4f_11ec_a2e2_0242ac1c0002row7_col4\" class=\"data row7 col4\" >54</td>\n",
              "                        <td id=\"T_6dad468e_6e4f_11ec_a2e2_0242ac1c0002row7_col5\" class=\"data row7 col5\" >49</td>\n",
              "                        <td id=\"T_6dad468e_6e4f_11ec_a2e2_0242ac1c0002row7_col6\" class=\"data row7 col6\" >2</td>\n",
              "                        <td id=\"T_6dad468e_6e4f_11ec_a2e2_0242ac1c0002row7_col7\" class=\"data row7 col7\" >124</td>\n",
              "                        <td id=\"T_6dad468e_6e4f_11ec_a2e2_0242ac1c0002row7_col8\" class=\"data row7 col8\" >11</td>\n",
              "                        <td id=\"T_6dad468e_6e4f_11ec_a2e2_0242ac1c0002row7_col9\" class=\"data row7 col9\" >0</td>\n",
              "                        <td id=\"T_6dad468e_6e4f_11ec_a2e2_0242ac1c0002row7_col10\" class=\"data row7 col10\" >1</td>\n",
              "                        <td id=\"T_6dad468e_6e4f_11ec_a2e2_0242ac1c0002row7_col11\" class=\"data row7 col11\" >1</td>\n",
              "            </tr>\n",
              "            <tr>\n",
              "                        <th id=\"T_6dad468e_6e4f_11ec_a2e2_0242ac1c0002level0_row8\" class=\"row_heading level0 row8\" >I</th>\n",
              "                        <td id=\"T_6dad468e_6e4f_11ec_a2e2_0242ac1c0002row8_col0\" class=\"data row8 col0\" >40</td>\n",
              "                        <td id=\"T_6dad468e_6e4f_11ec_a2e2_0242ac1c0002row8_col1\" class=\"data row8 col1\" >0</td>\n",
              "                        <td id=\"T_6dad468e_6e4f_11ec_a2e2_0242ac1c0002row8_col2\" class=\"data row8 col2\" >0</td>\n",
              "                        <td id=\"T_6dad468e_6e4f_11ec_a2e2_0242ac1c0002row8_col3\" class=\"data row8 col3\" >0</td>\n",
              "                        <td id=\"T_6dad468e_6e4f_11ec_a2e2_0242ac1c0002row8_col4\" class=\"data row8 col4\" >5</td>\n",
              "                        <td id=\"T_6dad468e_6e4f_11ec_a2e2_0242ac1c0002row8_col5\" class=\"data row8 col5\" >14</td>\n",
              "                        <td id=\"T_6dad468e_6e4f_11ec_a2e2_0242ac1c0002row8_col6\" class=\"data row8 col6\" >0</td>\n",
              "                        <td id=\"T_6dad468e_6e4f_11ec_a2e2_0242ac1c0002row8_col7\" class=\"data row8 col7\" >8</td>\n",
              "                        <td id=\"T_6dad468e_6e4f_11ec_a2e2_0242ac1c0002row8_col8\" class=\"data row8 col8\" >723</td>\n",
              "                        <td id=\"T_6dad468e_6e4f_11ec_a2e2_0242ac1c0002row8_col9\" class=\"data row8 col9\" >0</td>\n",
              "                        <td id=\"T_6dad468e_6e4f_11ec_a2e2_0242ac1c0002row8_col10\" class=\"data row8 col10\" >23</td>\n",
              "                        <td id=\"T_6dad468e_6e4f_11ec_a2e2_0242ac1c0002row8_col11\" class=\"data row8 col11\" >19</td>\n",
              "            </tr>\n",
              "            <tr>\n",
              "                        <th id=\"T_6dad468e_6e4f_11ec_a2e2_0242ac1c0002level0_row9\" class=\"row_heading level0 row9\" >W</th>\n",
              "                        <td id=\"T_6dad468e_6e4f_11ec_a2e2_0242ac1c0002row9_col0\" class=\"data row9 col0\" >30</td>\n",
              "                        <td id=\"T_6dad468e_6e4f_11ec_a2e2_0242ac1c0002row9_col1\" class=\"data row9 col1\" >0</td>\n",
              "                        <td id=\"T_6dad468e_6e4f_11ec_a2e2_0242ac1c0002row9_col2\" class=\"data row9 col2\" >0</td>\n",
              "                        <td id=\"T_6dad468e_6e4f_11ec_a2e2_0242ac1c0002row9_col3\" class=\"data row9 col3\" >0</td>\n",
              "                        <td id=\"T_6dad468e_6e4f_11ec_a2e2_0242ac1c0002row9_col4\" class=\"data row9 col4\" >10</td>\n",
              "                        <td id=\"T_6dad468e_6e4f_11ec_a2e2_0242ac1c0002row9_col5\" class=\"data row9 col5\" >0</td>\n",
              "                        <td id=\"T_6dad468e_6e4f_11ec_a2e2_0242ac1c0002row9_col6\" class=\"data row9 col6\" >0</td>\n",
              "                        <td id=\"T_6dad468e_6e4f_11ec_a2e2_0242ac1c0002row9_col7\" class=\"data row9 col7\" >0</td>\n",
              "                        <td id=\"T_6dad468e_6e4f_11ec_a2e2_0242ac1c0002row9_col8\" class=\"data row9 col8\" >0</td>\n",
              "                        <td id=\"T_6dad468e_6e4f_11ec_a2e2_0242ac1c0002row9_col9\" class=\"data row9 col9\" >3</td>\n",
              "                        <td id=\"T_6dad468e_6e4f_11ec_a2e2_0242ac1c0002row9_col10\" class=\"data row9 col10\" >2</td>\n",
              "                        <td id=\"T_6dad468e_6e4f_11ec_a2e2_0242ac1c0002row9_col11\" class=\"data row9 col11\" >0</td>\n",
              "            </tr>\n",
              "            <tr>\n",
              "                        <th id=\"T_6dad468e_6e4f_11ec_a2e2_0242ac1c0002level0_row10\" class=\"row_heading level0 row10\" >X</th>\n",
              "                        <td id=\"T_6dad468e_6e4f_11ec_a2e2_0242ac1c0002row10_col0\" class=\"data row10 col0\" >49</td>\n",
              "                        <td id=\"T_6dad468e_6e4f_11ec_a2e2_0242ac1c0002row10_col1\" class=\"data row10 col1\" >0</td>\n",
              "                        <td id=\"T_6dad468e_6e4f_11ec_a2e2_0242ac1c0002row10_col2\" class=\"data row10 col2\" >0</td>\n",
              "                        <td id=\"T_6dad468e_6e4f_11ec_a2e2_0242ac1c0002row10_col3\" class=\"data row10 col3\" >0</td>\n",
              "                        <td id=\"T_6dad468e_6e4f_11ec_a2e2_0242ac1c0002row10_col4\" class=\"data row10 col4\" >37</td>\n",
              "                        <td id=\"T_6dad468e_6e4f_11ec_a2e2_0242ac1c0002row10_col5\" class=\"data row10 col5\" >3</td>\n",
              "                        <td id=\"T_6dad468e_6e4f_11ec_a2e2_0242ac1c0002row10_col6\" class=\"data row10 col6\" >0</td>\n",
              "                        <td id=\"T_6dad468e_6e4f_11ec_a2e2_0242ac1c0002row10_col7\" class=\"data row10 col7\" >0</td>\n",
              "                        <td id=\"T_6dad468e_6e4f_11ec_a2e2_0242ac1c0002row10_col8\" class=\"data row10 col8\" >23</td>\n",
              "                        <td id=\"T_6dad468e_6e4f_11ec_a2e2_0242ac1c0002row10_col9\" class=\"data row10 col9\" >5</td>\n",
              "                        <td id=\"T_6dad468e_6e4f_11ec_a2e2_0242ac1c0002row10_col10\" class=\"data row10 col10\" >369</td>\n",
              "                        <td id=\"T_6dad468e_6e4f_11ec_a2e2_0242ac1c0002row10_col11\" class=\"data row10 col11\" >36</td>\n",
              "            </tr>\n",
              "            <tr>\n",
              "                        <th id=\"T_6dad468e_6e4f_11ec_a2e2_0242ac1c0002level0_row11\" class=\"row_heading level0 row11\" >Y</th>\n",
              "                        <td id=\"T_6dad468e_6e4f_11ec_a2e2_0242ac1c0002row11_col0\" class=\"data row11 col0\" >32</td>\n",
              "                        <td id=\"T_6dad468e_6e4f_11ec_a2e2_0242ac1c0002row11_col1\" class=\"data row11 col1\" >0</td>\n",
              "                        <td id=\"T_6dad468e_6e4f_11ec_a2e2_0242ac1c0002row11_col2\" class=\"data row11 col2\" >0</td>\n",
              "                        <td id=\"T_6dad468e_6e4f_11ec_a2e2_0242ac1c0002row11_col3\" class=\"data row11 col3\" >0</td>\n",
              "                        <td id=\"T_6dad468e_6e4f_11ec_a2e2_0242ac1c0002row11_col4\" class=\"data row11 col4\" >3</td>\n",
              "                        <td id=\"T_6dad468e_6e4f_11ec_a2e2_0242ac1c0002row11_col5\" class=\"data row11 col5\" >1</td>\n",
              "                        <td id=\"T_6dad468e_6e4f_11ec_a2e2_0242ac1c0002row11_col6\" class=\"data row11 col6\" >0</td>\n",
              "                        <td id=\"T_6dad468e_6e4f_11ec_a2e2_0242ac1c0002row11_col7\" class=\"data row11 col7\" >0</td>\n",
              "                        <td id=\"T_6dad468e_6e4f_11ec_a2e2_0242ac1c0002row11_col8\" class=\"data row11 col8\" >31</td>\n",
              "                        <td id=\"T_6dad468e_6e4f_11ec_a2e2_0242ac1c0002row11_col9\" class=\"data row11 col9\" >0</td>\n",
              "                        <td id=\"T_6dad468e_6e4f_11ec_a2e2_0242ac1c0002row11_col10\" class=\"data row11 col10\" >29</td>\n",
              "                        <td id=\"T_6dad468e_6e4f_11ec_a2e2_0242ac1c0002row11_col11\" class=\"data row11 col11\" >171</td>\n",
              "            </tr>\n",
              "    </tbody></table>"
            ],
            "text/plain": [
              "<pandas.io.formats.style.Styler at 0x7f90e692db50>"
            ]
          },
          "metadata": {},
          "execution_count": 631
        }
      ]
    },
    {
      "cell_type": "markdown",
      "source": [
        "### Logistical Regression PCA\n"
      ],
      "metadata": {
        "id": "R4a1OVg9M3u4"
      }
    },
    {
      "cell_type": "code",
      "source": [
        "#Logistical Regression PCA\n",
        "log_reg_pca=LogisticRegression()\n",
        "log_reg_pca.fit(principalComponents, Ytrainlast)\n",
        "pred=log_reg_pca.predict(pca.transform(Xtest))\n",
        "accuracy=accuracy_score(Ytest,pred)\n",
        "precision, recall, f1_score, x = precision_recall_fscore_support(Ytest,pred, average='macro')\n",
        "accuracy_stock[\"log_reg_pca\"]=accuracy\n",
        "precision_stock[\"log_reg_pca\"]=precision\n",
        "recall_stock[\"log_reg_pca\"]=recall\n",
        "f1_score_stock[\"log_reg_pca\"]=f1_score\n",
        "pd.DataFrame(confusion_matrix(Ytest,pred),columns =label, index=label).apply(pd.to_numeric).style.background_gradient(cmap='viridis')"
      ],
      "metadata": {
        "id": "pT6frfb6nkho",
        "colab": {
          "base_uri": "https://localhost:8080/",
          "height": 619
        },
        "outputId": "3b11e137-18e6-48de-d98e-5559d7245a26"
      },
      "execution_count": 632,
      "outputs": [
        {
          "output_type": "stream",
          "name": "stderr",
          "text": [
            "/usr/local/lib/python3.7/dist-packages/sklearn/linear_model/_logistic.py:818: ConvergenceWarning: lbfgs failed to converge (status=1):\n",
            "STOP: TOTAL NO. of ITERATIONS REACHED LIMIT.\n",
            "\n",
            "Increase the number of iterations (max_iter) or scale the data as shown in:\n",
            "    https://scikit-learn.org/stable/modules/preprocessing.html\n",
            "Please also refer to the documentation for alternative solver options:\n",
            "    https://scikit-learn.org/stable/modules/linear_model.html#logistic-regression\n",
            "  extra_warning_msg=_LOGISTIC_SOLVER_CONVERGENCE_MSG,\n",
            "/usr/local/lib/python3.7/dist-packages/sklearn/metrics/_classification.py:1308: UndefinedMetricWarning: Precision and F-score are ill-defined and being set to 0.0 in labels with no predicted samples. Use `zero_division` parameter to control this behavior.\n",
            "  _warn_prf(average, modifier, msg_start, len(result))\n"
          ]
        },
        {
          "output_type": "execute_result",
          "data": {
            "text/html": [
              "<style  type=\"text/css\" >\n",
              "#T_6ed42bae_6e4f_11ec_a2e2_0242ac1c0002row0_col0,#T_6ed42bae_6e4f_11ec_a2e2_0242ac1c0002row0_col3,#T_6ed42bae_6e4f_11ec_a2e2_0242ac1c0002row0_col6,#T_6ed42bae_6e4f_11ec_a2e2_0242ac1c0002row1_col1,#T_6ed42bae_6e4f_11ec_a2e2_0242ac1c0002row4_col4,#T_6ed42bae_6e4f_11ec_a2e2_0242ac1c0002row5_col5,#T_6ed42bae_6e4f_11ec_a2e2_0242ac1c0002row7_col7,#T_6ed42bae_6e4f_11ec_a2e2_0242ac1c0002row8_col8,#T_6ed42bae_6e4f_11ec_a2e2_0242ac1c0002row10_col9,#T_6ed42bae_6e4f_11ec_a2e2_0242ac1c0002row10_col10,#T_6ed42bae_6e4f_11ec_a2e2_0242ac1c0002row11_col11{\n",
              "            background-color:  #fde725;\n",
              "            color:  #000000;\n",
              "        }#T_6ed42bae_6e4f_11ec_a2e2_0242ac1c0002row0_col1,#T_6ed42bae_6e4f_11ec_a2e2_0242ac1c0002row0_col2,#T_6ed42bae_6e4f_11ec_a2e2_0242ac1c0002row0_col9,#T_6ed42bae_6e4f_11ec_a2e2_0242ac1c0002row1_col0,#T_6ed42bae_6e4f_11ec_a2e2_0242ac1c0002row1_col2,#T_6ed42bae_6e4f_11ec_a2e2_0242ac1c0002row1_col3,#T_6ed42bae_6e4f_11ec_a2e2_0242ac1c0002row1_col4,#T_6ed42bae_6e4f_11ec_a2e2_0242ac1c0002row1_col5,#T_6ed42bae_6e4f_11ec_a2e2_0242ac1c0002row1_col6,#T_6ed42bae_6e4f_11ec_a2e2_0242ac1c0002row1_col7,#T_6ed42bae_6e4f_11ec_a2e2_0242ac1c0002row1_col8,#T_6ed42bae_6e4f_11ec_a2e2_0242ac1c0002row1_col9,#T_6ed42bae_6e4f_11ec_a2e2_0242ac1c0002row1_col10,#T_6ed42bae_6e4f_11ec_a2e2_0242ac1c0002row1_col11,#T_6ed42bae_6e4f_11ec_a2e2_0242ac1c0002row2_col1,#T_6ed42bae_6e4f_11ec_a2e2_0242ac1c0002row2_col2,#T_6ed42bae_6e4f_11ec_a2e2_0242ac1c0002row2_col3,#T_6ed42bae_6e4f_11ec_a2e2_0242ac1c0002row2_col9,#T_6ed42bae_6e4f_11ec_a2e2_0242ac1c0002row2_col10,#T_6ed42bae_6e4f_11ec_a2e2_0242ac1c0002row2_col11,#T_6ed42bae_6e4f_11ec_a2e2_0242ac1c0002row3_col1,#T_6ed42bae_6e4f_11ec_a2e2_0242ac1c0002row3_col2,#T_6ed42bae_6e4f_11ec_a2e2_0242ac1c0002row3_col3,#T_6ed42bae_6e4f_11ec_a2e2_0242ac1c0002row3_col6,#T_6ed42bae_6e4f_11ec_a2e2_0242ac1c0002row3_col8,#T_6ed42bae_6e4f_11ec_a2e2_0242ac1c0002row3_col9,#T_6ed42bae_6e4f_11ec_a2e2_0242ac1c0002row3_col11,#T_6ed42bae_6e4f_11ec_a2e2_0242ac1c0002row4_col1,#T_6ed42bae_6e4f_11ec_a2e2_0242ac1c0002row4_col2,#T_6ed42bae_6e4f_11ec_a2e2_0242ac1c0002row4_col3,#T_6ed42bae_6e4f_11ec_a2e2_0242ac1c0002row4_col9,#T_6ed42bae_6e4f_11ec_a2e2_0242ac1c0002row5_col1,#T_6ed42bae_6e4f_11ec_a2e2_0242ac1c0002row5_col2,#T_6ed42bae_6e4f_11ec_a2e2_0242ac1c0002row5_col9,#T_6ed42bae_6e4f_11ec_a2e2_0242ac1c0002row5_col10,#T_6ed42bae_6e4f_11ec_a2e2_0242ac1c0002row6_col1,#T_6ed42bae_6e4f_11ec_a2e2_0242ac1c0002row6_col2,#T_6ed42bae_6e4f_11ec_a2e2_0242ac1c0002row6_col3,#T_6ed42bae_6e4f_11ec_a2e2_0242ac1c0002row6_col8,#T_6ed42bae_6e4f_11ec_a2e2_0242ac1c0002row6_col9,#T_6ed42bae_6e4f_11ec_a2e2_0242ac1c0002row6_col11,#T_6ed42bae_6e4f_11ec_a2e2_0242ac1c0002row7_col1,#T_6ed42bae_6e4f_11ec_a2e2_0242ac1c0002row7_col2,#T_6ed42bae_6e4f_11ec_a2e2_0242ac1c0002row7_col3,#T_6ed42bae_6e4f_11ec_a2e2_0242ac1c0002row7_col9,#T_6ed42bae_6e4f_11ec_a2e2_0242ac1c0002row7_col10,#T_6ed42bae_6e4f_11ec_a2e2_0242ac1c0002row8_col1,#T_6ed42bae_6e4f_11ec_a2e2_0242ac1c0002row8_col2,#T_6ed42bae_6e4f_11ec_a2e2_0242ac1c0002row8_col3,#T_6ed42bae_6e4f_11ec_a2e2_0242ac1c0002row8_col6,#T_6ed42bae_6e4f_11ec_a2e2_0242ac1c0002row8_col9,#T_6ed42bae_6e4f_11ec_a2e2_0242ac1c0002row9_col1,#T_6ed42bae_6e4f_11ec_a2e2_0242ac1c0002row9_col2,#T_6ed42bae_6e4f_11ec_a2e2_0242ac1c0002row9_col3,#T_6ed42bae_6e4f_11ec_a2e2_0242ac1c0002row9_col5,#T_6ed42bae_6e4f_11ec_a2e2_0242ac1c0002row9_col6,#T_6ed42bae_6e4f_11ec_a2e2_0242ac1c0002row9_col7,#T_6ed42bae_6e4f_11ec_a2e2_0242ac1c0002row9_col8,#T_6ed42bae_6e4f_11ec_a2e2_0242ac1c0002row9_col11,#T_6ed42bae_6e4f_11ec_a2e2_0242ac1c0002row10_col1,#T_6ed42bae_6e4f_11ec_a2e2_0242ac1c0002row10_col2,#T_6ed42bae_6e4f_11ec_a2e2_0242ac1c0002row10_col3,#T_6ed42bae_6e4f_11ec_a2e2_0242ac1c0002row10_col6,#T_6ed42bae_6e4f_11ec_a2e2_0242ac1c0002row10_col7,#T_6ed42bae_6e4f_11ec_a2e2_0242ac1c0002row11_col1,#T_6ed42bae_6e4f_11ec_a2e2_0242ac1c0002row11_col2,#T_6ed42bae_6e4f_11ec_a2e2_0242ac1c0002row11_col3,#T_6ed42bae_6e4f_11ec_a2e2_0242ac1c0002row11_col6,#T_6ed42bae_6e4f_11ec_a2e2_0242ac1c0002row11_col7,#T_6ed42bae_6e4f_11ec_a2e2_0242ac1c0002row11_col9{\n",
              "            background-color:  #440154;\n",
              "            color:  #f1f1f1;\n",
              "        }#T_6ed42bae_6e4f_11ec_a2e2_0242ac1c0002row0_col4{\n",
              "            background-color:  #3f4889;\n",
              "            color:  #f1f1f1;\n",
              "        }#T_6ed42bae_6e4f_11ec_a2e2_0242ac1c0002row0_col5{\n",
              "            background-color:  #84d44b;\n",
              "            color:  #000000;\n",
              "        }#T_6ed42bae_6e4f_11ec_a2e2_0242ac1c0002row0_col7{\n",
              "            background-color:  #414487;\n",
              "            color:  #f1f1f1;\n",
              "        }#T_6ed42bae_6e4f_11ec_a2e2_0242ac1c0002row0_col8,#T_6ed42bae_6e4f_11ec_a2e2_0242ac1c0002row5_col11,#T_6ed42bae_6e4f_11ec_a2e2_0242ac1c0002row10_col8{\n",
              "            background-color:  #460b5e;\n",
              "            color:  #f1f1f1;\n",
              "        }#T_6ed42bae_6e4f_11ec_a2e2_0242ac1c0002row0_col10,#T_6ed42bae_6e4f_11ec_a2e2_0242ac1c0002row2_col0,#T_6ed42bae_6e4f_11ec_a2e2_0242ac1c0002row2_col7,#T_6ed42bae_6e4f_11ec_a2e2_0242ac1c0002row4_col8,#T_6ed42bae_6e4f_11ec_a2e2_0242ac1c0002row8_col4,#T_6ed42bae_6e4f_11ec_a2e2_0242ac1c0002row10_col5{\n",
              "            background-color:  #46075a;\n",
              "            color:  #f1f1f1;\n",
              "        }#T_6ed42bae_6e4f_11ec_a2e2_0242ac1c0002row0_col11,#T_6ed42bae_6e4f_11ec_a2e2_0242ac1c0002row4_col11,#T_6ed42bae_6e4f_11ec_a2e2_0242ac1c0002row5_col8{\n",
              "            background-color:  #46085c;\n",
              "            color:  #f1f1f1;\n",
              "        }#T_6ed42bae_6e4f_11ec_a2e2_0242ac1c0002row2_col4,#T_6ed42bae_6e4f_11ec_a2e2_0242ac1c0002row6_col4{\n",
              "            background-color:  #471365;\n",
              "            color:  #f1f1f1;\n",
              "        }#T_6ed42bae_6e4f_11ec_a2e2_0242ac1c0002row2_col5{\n",
              "            background-color:  #482475;\n",
              "            color:  #f1f1f1;\n",
              "        }#T_6ed42bae_6e4f_11ec_a2e2_0242ac1c0002row2_col6{\n",
              "            background-color:  #443983;\n",
              "            color:  #f1f1f1;\n",
              "        }#T_6ed42bae_6e4f_11ec_a2e2_0242ac1c0002row2_col8,#T_6ed42bae_6e4f_11ec_a2e2_0242ac1c0002row3_col10,#T_6ed42bae_6e4f_11ec_a2e2_0242ac1c0002row7_col11,#T_6ed42bae_6e4f_11ec_a2e2_0242ac1c0002row9_col0,#T_6ed42bae_6e4f_11ec_a2e2_0242ac1c0002row9_col10,#T_6ed42bae_6e4f_11ec_a2e2_0242ac1c0002row11_col0,#T_6ed42bae_6e4f_11ec_a2e2_0242ac1c0002row11_col5{\n",
              "            background-color:  #440256;\n",
              "            color:  #f1f1f1;\n",
              "        }#T_6ed42bae_6e4f_11ec_a2e2_0242ac1c0002row3_col0{\n",
              "            background-color:  #481b6d;\n",
              "            color:  #f1f1f1;\n",
              "        }#T_6ed42bae_6e4f_11ec_a2e2_0242ac1c0002row3_col4{\n",
              "            background-color:  #482979;\n",
              "            color:  #f1f1f1;\n",
              "        }#T_6ed42bae_6e4f_11ec_a2e2_0242ac1c0002row3_col5{\n",
              "            background-color:  #481769;\n",
              "            color:  #f1f1f1;\n",
              "        }#T_6ed42bae_6e4f_11ec_a2e2_0242ac1c0002row3_col7{\n",
              "            background-color:  #472a7a;\n",
              "            color:  #f1f1f1;\n",
              "        }#T_6ed42bae_6e4f_11ec_a2e2_0242ac1c0002row4_col0{\n",
              "            background-color:  #453882;\n",
              "            color:  #f1f1f1;\n",
              "        }#T_6ed42bae_6e4f_11ec_a2e2_0242ac1c0002row4_col5{\n",
              "            background-color:  #30698e;\n",
              "            color:  #f1f1f1;\n",
              "        }#T_6ed42bae_6e4f_11ec_a2e2_0242ac1c0002row4_col6,#T_6ed42bae_6e4f_11ec_a2e2_0242ac1c0002row5_col7,#T_6ed42bae_6e4f_11ec_a2e2_0242ac1c0002row10_col4{\n",
              "            background-color:  #472d7b;\n",
              "            color:  #f1f1f1;\n",
              "        }#T_6ed42bae_6e4f_11ec_a2e2_0242ac1c0002row4_col7{\n",
              "            background-color:  #424186;\n",
              "            color:  #f1f1f1;\n",
              "        }#T_6ed42bae_6e4f_11ec_a2e2_0242ac1c0002row4_col10{\n",
              "            background-color:  #453581;\n",
              "            color:  #f1f1f1;\n",
              "        }#T_6ed42bae_6e4f_11ec_a2e2_0242ac1c0002row5_col0{\n",
              "            background-color:  #27808e;\n",
              "            color:  #000000;\n",
              "        }#T_6ed42bae_6e4f_11ec_a2e2_0242ac1c0002row5_col3{\n",
              "            background-color:  #3b528b;\n",
              "            color:  #f1f1f1;\n",
              "        }#T_6ed42bae_6e4f_11ec_a2e2_0242ac1c0002row5_col4{\n",
              "            background-color:  #481467;\n",
              "            color:  #f1f1f1;\n",
              "        }#T_6ed42bae_6e4f_11ec_a2e2_0242ac1c0002row5_col6{\n",
              "            background-color:  #287c8e;\n",
              "            color:  #000000;\n",
              "        }#T_6ed42bae_6e4f_11ec_a2e2_0242ac1c0002row6_col0,#T_6ed42bae_6e4f_11ec_a2e2_0242ac1c0002row11_col10{\n",
              "            background-color:  #481d6f;\n",
              "            color:  #f1f1f1;\n",
              "        }#T_6ed42bae_6e4f_11ec_a2e2_0242ac1c0002row6_col5{\n",
              "            background-color:  #3f4788;\n",
              "            color:  #f1f1f1;\n",
              "        }#T_6ed42bae_6e4f_11ec_a2e2_0242ac1c0002row6_col6{\n",
              "            background-color:  #24868e;\n",
              "            color:  #000000;\n",
              "        }#T_6ed42bae_6e4f_11ec_a2e2_0242ac1c0002row6_col7{\n",
              "            background-color:  #23898e;\n",
              "            color:  #000000;\n",
              "        }#T_6ed42bae_6e4f_11ec_a2e2_0242ac1c0002row6_col10,#T_6ed42bae_6e4f_11ec_a2e2_0242ac1c0002row8_col0,#T_6ed42bae_6e4f_11ec_a2e2_0242ac1c0002row11_col4{\n",
              "            background-color:  #450457;\n",
              "            color:  #f1f1f1;\n",
              "        }#T_6ed42bae_6e4f_11ec_a2e2_0242ac1c0002row7_col0{\n",
              "            background-color:  #481a6c;\n",
              "            color:  #f1f1f1;\n",
              "        }#T_6ed42bae_6e4f_11ec_a2e2_0242ac1c0002row7_col4{\n",
              "            background-color:  #433e85;\n",
              "            color:  #f1f1f1;\n",
              "        }#T_6ed42bae_6e4f_11ec_a2e2_0242ac1c0002row7_col5{\n",
              "            background-color:  #365d8d;\n",
              "            color:  #f1f1f1;\n",
              "        }#T_6ed42bae_6e4f_11ec_a2e2_0242ac1c0002row7_col6,#T_6ed42bae_6e4f_11ec_a2e2_0242ac1c0002row8_col5{\n",
              "            background-color:  #481f70;\n",
              "            color:  #f1f1f1;\n",
              "        }#T_6ed42bae_6e4f_11ec_a2e2_0242ac1c0002row7_col8,#T_6ed42bae_6e4f_11ec_a2e2_0242ac1c0002row10_col0{\n",
              "            background-color:  #450559;\n",
              "            color:  #f1f1f1;\n",
              "        }#T_6ed42bae_6e4f_11ec_a2e2_0242ac1c0002row8_col7,#T_6ed42bae_6e4f_11ec_a2e2_0242ac1c0002row8_col10{\n",
              "            background-color:  #48186a;\n",
              "            color:  #f1f1f1;\n",
              "        }#T_6ed42bae_6e4f_11ec_a2e2_0242ac1c0002row8_col11{\n",
              "            background-color:  #482878;\n",
              "            color:  #f1f1f1;\n",
              "        }#T_6ed42bae_6e4f_11ec_a2e2_0242ac1c0002row9_col4{\n",
              "            background-color:  #470d60;\n",
              "            color:  #f1f1f1;\n",
              "        }#T_6ed42bae_6e4f_11ec_a2e2_0242ac1c0002row9_col9{\n",
              "            background-color:  #22a884;\n",
              "            color:  #000000;\n",
              "        }#T_6ed42bae_6e4f_11ec_a2e2_0242ac1c0002row10_col11{\n",
              "            background-color:  #404688;\n",
              "            color:  #f1f1f1;\n",
              "        }#T_6ed42bae_6e4f_11ec_a2e2_0242ac1c0002row11_col8{\n",
              "            background-color:  #471164;\n",
              "            color:  #f1f1f1;\n",
              "        }</style><table id=\"T_6ed42bae_6e4f_11ec_a2e2_0242ac1c0002\" class=\"dataframe\"><thead>    <tr>        <th class=\"blank level0\" ></th>        <th class=\"col_heading level0 col0\" >A</th>        <th class=\"col_heading level0 col1\" >B</th>        <th class=\"col_heading level0 col2\" >C</th>        <th class=\"col_heading level0 col3\" >D</th>        <th class=\"col_heading level0 col4\" >E</th>        <th class=\"col_heading level0 col5\" >F</th>        <th class=\"col_heading level0 col6\" >G</th>        <th class=\"col_heading level0 col7\" >H</th>        <th class=\"col_heading level0 col8\" >I</th>        <th class=\"col_heading level0 col9\" >W</th>        <th class=\"col_heading level0 col10\" >X</th>        <th class=\"col_heading level0 col11\" >Y</th>    </tr></thead><tbody>\n",
              "                <tr>\n",
              "                        <th id=\"T_6ed42bae_6e4f_11ec_a2e2_0242ac1c0002level0_row0\" class=\"row_heading level0 row0\" >A</th>\n",
              "                        <td id=\"T_6ed42bae_6e4f_11ec_a2e2_0242ac1c0002row0_col0\" class=\"data row0 col0\" >4002</td>\n",
              "                        <td id=\"T_6ed42bae_6e4f_11ec_a2e2_0242ac1c0002row0_col1\" class=\"data row0 col1\" >0</td>\n",
              "                        <td id=\"T_6ed42bae_6e4f_11ec_a2e2_0242ac1c0002row0_col2\" class=\"data row0 col2\" >0</td>\n",
              "                        <td id=\"T_6ed42bae_6e4f_11ec_a2e2_0242ac1c0002row0_col3\" class=\"data row0 col3\" >4</td>\n",
              "                        <td id=\"T_6ed42bae_6e4f_11ec_a2e2_0242ac1c0002row0_col4\" class=\"data row0 col4\" >63</td>\n",
              "                        <td id=\"T_6ed42bae_6e4f_11ec_a2e2_0242ac1c0002row0_col5\" class=\"data row0 col5\" >137</td>\n",
              "                        <td id=\"T_6ed42bae_6e4f_11ec_a2e2_0242ac1c0002row0_col6\" class=\"data row0 col6\" >24</td>\n",
              "                        <td id=\"T_6ed42bae_6e4f_11ec_a2e2_0242ac1c0002row0_col7\" class=\"data row0 col7\" >25</td>\n",
              "                        <td id=\"T_6ed42bae_6e4f_11ec_a2e2_0242ac1c0002row0_col8\" class=\"data row0 col8\" >20</td>\n",
              "                        <td id=\"T_6ed42bae_6e4f_11ec_a2e2_0242ac1c0002row0_col9\" class=\"data row0 col9\" >0</td>\n",
              "                        <td id=\"T_6ed42bae_6e4f_11ec_a2e2_0242ac1c0002row0_col10\" class=\"data row0 col10\" >7</td>\n",
              "                        <td id=\"T_6ed42bae_6e4f_11ec_a2e2_0242ac1c0002row0_col11\" class=\"data row0 col11\" >4</td>\n",
              "            </tr>\n",
              "            <tr>\n",
              "                        <th id=\"T_6ed42bae_6e4f_11ec_a2e2_0242ac1c0002level0_row1\" class=\"row_heading level0 row1\" >B</th>\n",
              "                        <td id=\"T_6ed42bae_6e4f_11ec_a2e2_0242ac1c0002row1_col0\" class=\"data row1 col0\" >0</td>\n",
              "                        <td id=\"T_6ed42bae_6e4f_11ec_a2e2_0242ac1c0002row1_col1\" class=\"data row1 col1\" >5</td>\n",
              "                        <td id=\"T_6ed42bae_6e4f_11ec_a2e2_0242ac1c0002row1_col2\" class=\"data row1 col2\" >0</td>\n",
              "                        <td id=\"T_6ed42bae_6e4f_11ec_a2e2_0242ac1c0002row1_col3\" class=\"data row1 col3\" >0</td>\n",
              "                        <td id=\"T_6ed42bae_6e4f_11ec_a2e2_0242ac1c0002row1_col4\" class=\"data row1 col4\" >0</td>\n",
              "                        <td id=\"T_6ed42bae_6e4f_11ec_a2e2_0242ac1c0002row1_col5\" class=\"data row1 col5\" >0</td>\n",
              "                        <td id=\"T_6ed42bae_6e4f_11ec_a2e2_0242ac1c0002row1_col6\" class=\"data row1 col6\" >0</td>\n",
              "                        <td id=\"T_6ed42bae_6e4f_11ec_a2e2_0242ac1c0002row1_col7\" class=\"data row1 col7\" >0</td>\n",
              "                        <td id=\"T_6ed42bae_6e4f_11ec_a2e2_0242ac1c0002row1_col8\" class=\"data row1 col8\" >0</td>\n",
              "                        <td id=\"T_6ed42bae_6e4f_11ec_a2e2_0242ac1c0002row1_col9\" class=\"data row1 col9\" >0</td>\n",
              "                        <td id=\"T_6ed42bae_6e4f_11ec_a2e2_0242ac1c0002row1_col10\" class=\"data row1 col10\" >0</td>\n",
              "                        <td id=\"T_6ed42bae_6e4f_11ec_a2e2_0242ac1c0002row1_col11\" class=\"data row1 col11\" >0</td>\n",
              "            </tr>\n",
              "            <tr>\n",
              "                        <th id=\"T_6ed42bae_6e4f_11ec_a2e2_0242ac1c0002level0_row2\" class=\"row_heading level0 row2\" >C</th>\n",
              "                        <td id=\"T_6ed42bae_6e4f_11ec_a2e2_0242ac1c0002row2_col0\" class=\"data row2 col0\" >63</td>\n",
              "                        <td id=\"T_6ed42bae_6e4f_11ec_a2e2_0242ac1c0002row2_col1\" class=\"data row2 col1\" >0</td>\n",
              "                        <td id=\"T_6ed42bae_6e4f_11ec_a2e2_0242ac1c0002row2_col2\" class=\"data row2 col2\" >0</td>\n",
              "                        <td id=\"T_6ed42bae_6e4f_11ec_a2e2_0242ac1c0002row2_col3\" class=\"data row2 col3\" >0</td>\n",
              "                        <td id=\"T_6ed42bae_6e4f_11ec_a2e2_0242ac1c0002row2_col4\" class=\"data row2 col4\" >14</td>\n",
              "                        <td id=\"T_6ed42bae_6e4f_11ec_a2e2_0242ac1c0002row2_col5\" class=\"data row2 col5\" >17</td>\n",
              "                        <td id=\"T_6ed42bae_6e4f_11ec_a2e2_0242ac1c0002row2_col6\" class=\"data row2 col6\" >4</td>\n",
              "                        <td id=\"T_6ed42bae_6e4f_11ec_a2e2_0242ac1c0002row2_col7\" class=\"data row2 col7\" >2</td>\n",
              "                        <td id=\"T_6ed42bae_6e4f_11ec_a2e2_0242ac1c0002row2_col8\" class=\"data row2 col8\" >3</td>\n",
              "                        <td id=\"T_6ed42bae_6e4f_11ec_a2e2_0242ac1c0002row2_col9\" class=\"data row2 col9\" >0</td>\n",
              "                        <td id=\"T_6ed42bae_6e4f_11ec_a2e2_0242ac1c0002row2_col10\" class=\"data row2 col10\" >0</td>\n",
              "                        <td id=\"T_6ed42bae_6e4f_11ec_a2e2_0242ac1c0002row2_col11\" class=\"data row2 col11\" >0</td>\n",
              "            </tr>\n",
              "            <tr>\n",
              "                        <th id=\"T_6ed42bae_6e4f_11ec_a2e2_0242ac1c0002level0_row3\" class=\"row_heading level0 row3\" >D</th>\n",
              "                        <td id=\"T_6ed42bae_6e4f_11ec_a2e2_0242ac1c0002row3_col0\" class=\"data row3 col0\" >292</td>\n",
              "                        <td id=\"T_6ed42bae_6e4f_11ec_a2e2_0242ac1c0002row3_col1\" class=\"data row3 col1\" >0</td>\n",
              "                        <td id=\"T_6ed42bae_6e4f_11ec_a2e2_0242ac1c0002row3_col2\" class=\"data row3 col2\" >0</td>\n",
              "                        <td id=\"T_6ed42bae_6e4f_11ec_a2e2_0242ac1c0002row3_col3\" class=\"data row3 col3\" >0</td>\n",
              "                        <td id=\"T_6ed42bae_6e4f_11ec_a2e2_0242ac1c0002row3_col4\" class=\"data row3 col4\" >33</td>\n",
              "                        <td id=\"T_6ed42bae_6e4f_11ec_a2e2_0242ac1c0002row3_col5\" class=\"data row3 col5\" >10</td>\n",
              "                        <td id=\"T_6ed42bae_6e4f_11ec_a2e2_0242ac1c0002row3_col6\" class=\"data row3 col6\" >0</td>\n",
              "                        <td id=\"T_6ed42bae_6e4f_11ec_a2e2_0242ac1c0002row3_col7\" class=\"data row3 col7\" >15</td>\n",
              "                        <td id=\"T_6ed42bae_6e4f_11ec_a2e2_0242ac1c0002row3_col8\" class=\"data row3 col8\" >1</td>\n",
              "                        <td id=\"T_6ed42bae_6e4f_11ec_a2e2_0242ac1c0002row3_col9\" class=\"data row3 col9\" >0</td>\n",
              "                        <td id=\"T_6ed42bae_6e4f_11ec_a2e2_0242ac1c0002row3_col10\" class=\"data row3 col10\" >2</td>\n",
              "                        <td id=\"T_6ed42bae_6e4f_11ec_a2e2_0242ac1c0002row3_col11\" class=\"data row3 col11\" >0</td>\n",
              "            </tr>\n",
              "            <tr>\n",
              "                        <th id=\"T_6ed42bae_6e4f_11ec_a2e2_0242ac1c0002level0_row4\" class=\"row_heading level0 row4\" >E</th>\n",
              "                        <td id=\"T_6ed42bae_6e4f_11ec_a2e2_0242ac1c0002row4_col0\" class=\"data row4 col0\" >647</td>\n",
              "                        <td id=\"T_6ed42bae_6e4f_11ec_a2e2_0242ac1c0002row4_col1\" class=\"data row4 col1\" >0</td>\n",
              "                        <td id=\"T_6ed42bae_6e4f_11ec_a2e2_0242ac1c0002row4_col2\" class=\"data row4 col2\" >0</td>\n",
              "                        <td id=\"T_6ed42bae_6e4f_11ec_a2e2_0242ac1c0002row4_col3\" class=\"data row4 col3\" >0</td>\n",
              "                        <td id=\"T_6ed42bae_6e4f_11ec_a2e2_0242ac1c0002row4_col4\" class=\"data row4 col4\" >289</td>\n",
              "                        <td id=\"T_6ed42bae_6e4f_11ec_a2e2_0242ac1c0002row4_col5\" class=\"data row4 col5\" >57</td>\n",
              "                        <td id=\"T_6ed42bae_6e4f_11ec_a2e2_0242ac1c0002row4_col6\" class=\"data row4 col6\" >3</td>\n",
              "                        <td id=\"T_6ed42bae_6e4f_11ec_a2e2_0242ac1c0002row4_col7\" class=\"data row4 col7\" >24</td>\n",
              "                        <td id=\"T_6ed42bae_6e4f_11ec_a2e2_0242ac1c0002row4_col8\" class=\"data row4 col8\" >14</td>\n",
              "                        <td id=\"T_6ed42bae_6e4f_11ec_a2e2_0242ac1c0002row4_col9\" class=\"data row4 col9\" >0</td>\n",
              "                        <td id=\"T_6ed42bae_6e4f_11ec_a2e2_0242ac1c0002row4_col10\" class=\"data row4 col10\" >57</td>\n",
              "                        <td id=\"T_6ed42bae_6e4f_11ec_a2e2_0242ac1c0002row4_col11\" class=\"data row4 col11\" >4</td>\n",
              "            </tr>\n",
              "            <tr>\n",
              "                        <th id=\"T_6ed42bae_6e4f_11ec_a2e2_0242ac1c0002level0_row5\" class=\"row_heading level0 row5\" >F</th>\n",
              "                        <td id=\"T_6ed42bae_6e4f_11ec_a2e2_0242ac1c0002row5_col0\" class=\"data row5 col0\" >1731</td>\n",
              "                        <td id=\"T_6ed42bae_6e4f_11ec_a2e2_0242ac1c0002row5_col1\" class=\"data row5 col1\" >0</td>\n",
              "                        <td id=\"T_6ed42bae_6e4f_11ec_a2e2_0242ac1c0002row5_col2\" class=\"data row5 col2\" >0</td>\n",
              "                        <td id=\"T_6ed42bae_6e4f_11ec_a2e2_0242ac1c0002row5_col3\" class=\"data row5 col3\" >1</td>\n",
              "                        <td id=\"T_6ed42bae_6e4f_11ec_a2e2_0242ac1c0002row5_col4\" class=\"data row5 col4\" >15</td>\n",
              "                        <td id=\"T_6ed42bae_6e4f_11ec_a2e2_0242ac1c0002row5_col5\" class=\"data row5 col5\" >168</td>\n",
              "                        <td id=\"T_6ed42bae_6e4f_11ec_a2e2_0242ac1c0002row5_col6\" class=\"data row5 col6\" >10</td>\n",
              "                        <td id=\"T_6ed42bae_6e4f_11ec_a2e2_0242ac1c0002row5_col7\" class=\"data row5 col7\" >16</td>\n",
              "                        <td id=\"T_6ed42bae_6e4f_11ec_a2e2_0242ac1c0002row5_col8\" class=\"data row5 col8\" >15</td>\n",
              "                        <td id=\"T_6ed42bae_6e4f_11ec_a2e2_0242ac1c0002row5_col9\" class=\"data row5 col9\" >0</td>\n",
              "                        <td id=\"T_6ed42bae_6e4f_11ec_a2e2_0242ac1c0002row5_col10\" class=\"data row5 col10\" >1</td>\n",
              "                        <td id=\"T_6ed42bae_6e4f_11ec_a2e2_0242ac1c0002row5_col11\" class=\"data row5 col11\" >5</td>\n",
              "            </tr>\n",
              "            <tr>\n",
              "                        <th id=\"T_6ed42bae_6e4f_11ec_a2e2_0242ac1c0002level0_row6\" class=\"row_heading level0 row6\" >G</th>\n",
              "                        <td id=\"T_6ed42bae_6e4f_11ec_a2e2_0242ac1c0002row6_col0\" class=\"data row6 col0\" >323</td>\n",
              "                        <td id=\"T_6ed42bae_6e4f_11ec_a2e2_0242ac1c0002row6_col1\" class=\"data row6 col1\" >0</td>\n",
              "                        <td id=\"T_6ed42bae_6e4f_11ec_a2e2_0242ac1c0002row6_col2\" class=\"data row6 col2\" >0</td>\n",
              "                        <td id=\"T_6ed42bae_6e4f_11ec_a2e2_0242ac1c0002row6_col3\" class=\"data row6 col3\" >0</td>\n",
              "                        <td id=\"T_6ed42bae_6e4f_11ec_a2e2_0242ac1c0002row6_col4\" class=\"data row6 col4\" >14</td>\n",
              "                        <td id=\"T_6ed42bae_6e4f_11ec_a2e2_0242ac1c0002row6_col5\" class=\"data row6 col5\" >36</td>\n",
              "                        <td id=\"T_6ed42bae_6e4f_11ec_a2e2_0242ac1c0002row6_col6\" class=\"data row6 col6\" >11</td>\n",
              "                        <td id=\"T_6ed42bae_6e4f_11ec_a2e2_0242ac1c0002row6_col7\" class=\"data row6 col7\" >59</td>\n",
              "                        <td id=\"T_6ed42bae_6e4f_11ec_a2e2_0242ac1c0002row6_col8\" class=\"data row6 col8\" >0</td>\n",
              "                        <td id=\"T_6ed42bae_6e4f_11ec_a2e2_0242ac1c0002row6_col9\" class=\"data row6 col9\" >0</td>\n",
              "                        <td id=\"T_6ed42bae_6e4f_11ec_a2e2_0242ac1c0002row6_col10\" class=\"data row6 col10\" >4</td>\n",
              "                        <td id=\"T_6ed42bae_6e4f_11ec_a2e2_0242ac1c0002row6_col11\" class=\"data row6 col11\" >0</td>\n",
              "            </tr>\n",
              "            <tr>\n",
              "                        <th id=\"T_6ed42bae_6e4f_11ec_a2e2_0242ac1c0002level0_row7\" class=\"row_heading level0 row7\" >H</th>\n",
              "                        <td id=\"T_6ed42bae_6e4f_11ec_a2e2_0242ac1c0002row7_col0\" class=\"data row7 col0\" >278</td>\n",
              "                        <td id=\"T_6ed42bae_6e4f_11ec_a2e2_0242ac1c0002row7_col1\" class=\"data row7 col1\" >0</td>\n",
              "                        <td id=\"T_6ed42bae_6e4f_11ec_a2e2_0242ac1c0002row7_col2\" class=\"data row7 col2\" >0</td>\n",
              "                        <td id=\"T_6ed42bae_6e4f_11ec_a2e2_0242ac1c0002row7_col3\" class=\"data row7 col3\" >0</td>\n",
              "                        <td id=\"T_6ed42bae_6e4f_11ec_a2e2_0242ac1c0002row7_col4\" class=\"data row7 col4\" >53</td>\n",
              "                        <td id=\"T_6ed42bae_6e4f_11ec_a2e2_0242ac1c0002row7_col5\" class=\"data row7 col5\" >49</td>\n",
              "                        <td id=\"T_6ed42bae_6e4f_11ec_a2e2_0242ac1c0002row7_col6\" class=\"data row7 col6\" >2</td>\n",
              "                        <td id=\"T_6ed42bae_6e4f_11ec_a2e2_0242ac1c0002row7_col7\" class=\"data row7 col7\" >125</td>\n",
              "                        <td id=\"T_6ed42bae_6e4f_11ec_a2e2_0242ac1c0002row7_col8\" class=\"data row7 col8\" >11</td>\n",
              "                        <td id=\"T_6ed42bae_6e4f_11ec_a2e2_0242ac1c0002row7_col9\" class=\"data row7 col9\" >0</td>\n",
              "                        <td id=\"T_6ed42bae_6e4f_11ec_a2e2_0242ac1c0002row7_col10\" class=\"data row7 col10\" >1</td>\n",
              "                        <td id=\"T_6ed42bae_6e4f_11ec_a2e2_0242ac1c0002row7_col11\" class=\"data row7 col11\" >1</td>\n",
              "            </tr>\n",
              "            <tr>\n",
              "                        <th id=\"T_6ed42bae_6e4f_11ec_a2e2_0242ac1c0002level0_row8\" class=\"row_heading level0 row8\" >I</th>\n",
              "                        <td id=\"T_6ed42bae_6e4f_11ec_a2e2_0242ac1c0002row8_col0\" class=\"data row8 col0\" >40</td>\n",
              "                        <td id=\"T_6ed42bae_6e4f_11ec_a2e2_0242ac1c0002row8_col1\" class=\"data row8 col1\" >0</td>\n",
              "                        <td id=\"T_6ed42bae_6e4f_11ec_a2e2_0242ac1c0002row8_col2\" class=\"data row8 col2\" >0</td>\n",
              "                        <td id=\"T_6ed42bae_6e4f_11ec_a2e2_0242ac1c0002row8_col3\" class=\"data row8 col3\" >0</td>\n",
              "                        <td id=\"T_6ed42bae_6e4f_11ec_a2e2_0242ac1c0002row8_col4\" class=\"data row8 col4\" >5</td>\n",
              "                        <td id=\"T_6ed42bae_6e4f_11ec_a2e2_0242ac1c0002row8_col5\" class=\"data row8 col5\" >14</td>\n",
              "                        <td id=\"T_6ed42bae_6e4f_11ec_a2e2_0242ac1c0002row8_col6\" class=\"data row8 col6\" >0</td>\n",
              "                        <td id=\"T_6ed42bae_6e4f_11ec_a2e2_0242ac1c0002row8_col7\" class=\"data row8 col7\" >8</td>\n",
              "                        <td id=\"T_6ed42bae_6e4f_11ec_a2e2_0242ac1c0002row8_col8\" class=\"data row8 col8\" >722</td>\n",
              "                        <td id=\"T_6ed42bae_6e4f_11ec_a2e2_0242ac1c0002row8_col9\" class=\"data row8 col9\" >0</td>\n",
              "                        <td id=\"T_6ed42bae_6e4f_11ec_a2e2_0242ac1c0002row8_col10\" class=\"data row8 col10\" >24</td>\n",
              "                        <td id=\"T_6ed42bae_6e4f_11ec_a2e2_0242ac1c0002row8_col11\" class=\"data row8 col11\" >19</td>\n",
              "            </tr>\n",
              "            <tr>\n",
              "                        <th id=\"T_6ed42bae_6e4f_11ec_a2e2_0242ac1c0002level0_row9\" class=\"row_heading level0 row9\" >W</th>\n",
              "                        <td id=\"T_6ed42bae_6e4f_11ec_a2e2_0242ac1c0002row9_col0\" class=\"data row9 col0\" >30</td>\n",
              "                        <td id=\"T_6ed42bae_6e4f_11ec_a2e2_0242ac1c0002row9_col1\" class=\"data row9 col1\" >0</td>\n",
              "                        <td id=\"T_6ed42bae_6e4f_11ec_a2e2_0242ac1c0002row9_col2\" class=\"data row9 col2\" >0</td>\n",
              "                        <td id=\"T_6ed42bae_6e4f_11ec_a2e2_0242ac1c0002row9_col3\" class=\"data row9 col3\" >0</td>\n",
              "                        <td id=\"T_6ed42bae_6e4f_11ec_a2e2_0242ac1c0002row9_col4\" class=\"data row9 col4\" >10</td>\n",
              "                        <td id=\"T_6ed42bae_6e4f_11ec_a2e2_0242ac1c0002row9_col5\" class=\"data row9 col5\" >0</td>\n",
              "                        <td id=\"T_6ed42bae_6e4f_11ec_a2e2_0242ac1c0002row9_col6\" class=\"data row9 col6\" >0</td>\n",
              "                        <td id=\"T_6ed42bae_6e4f_11ec_a2e2_0242ac1c0002row9_col7\" class=\"data row9 col7\" >0</td>\n",
              "                        <td id=\"T_6ed42bae_6e4f_11ec_a2e2_0242ac1c0002row9_col8\" class=\"data row9 col8\" >0</td>\n",
              "                        <td id=\"T_6ed42bae_6e4f_11ec_a2e2_0242ac1c0002row9_col9\" class=\"data row9 col9\" >3</td>\n",
              "                        <td id=\"T_6ed42bae_6e4f_11ec_a2e2_0242ac1c0002row9_col10\" class=\"data row9 col10\" >2</td>\n",
              "                        <td id=\"T_6ed42bae_6e4f_11ec_a2e2_0242ac1c0002row9_col11\" class=\"data row9 col11\" >0</td>\n",
              "            </tr>\n",
              "            <tr>\n",
              "                        <th id=\"T_6ed42bae_6e4f_11ec_a2e2_0242ac1c0002level0_row10\" class=\"row_heading level0 row10\" >X</th>\n",
              "                        <td id=\"T_6ed42bae_6e4f_11ec_a2e2_0242ac1c0002row10_col0\" class=\"data row10 col0\" >48</td>\n",
              "                        <td id=\"T_6ed42bae_6e4f_11ec_a2e2_0242ac1c0002row10_col1\" class=\"data row10 col1\" >0</td>\n",
              "                        <td id=\"T_6ed42bae_6e4f_11ec_a2e2_0242ac1c0002row10_col2\" class=\"data row10 col2\" >0</td>\n",
              "                        <td id=\"T_6ed42bae_6e4f_11ec_a2e2_0242ac1c0002row10_col3\" class=\"data row10 col3\" >0</td>\n",
              "                        <td id=\"T_6ed42bae_6e4f_11ec_a2e2_0242ac1c0002row10_col4\" class=\"data row10 col4\" >37</td>\n",
              "                        <td id=\"T_6ed42bae_6e4f_11ec_a2e2_0242ac1c0002row10_col5\" class=\"data row10 col5\" >3</td>\n",
              "                        <td id=\"T_6ed42bae_6e4f_11ec_a2e2_0242ac1c0002row10_col6\" class=\"data row10 col6\" >0</td>\n",
              "                        <td id=\"T_6ed42bae_6e4f_11ec_a2e2_0242ac1c0002row10_col7\" class=\"data row10 col7\" >0</td>\n",
              "                        <td id=\"T_6ed42bae_6e4f_11ec_a2e2_0242ac1c0002row10_col8\" class=\"data row10 col8\" >22</td>\n",
              "                        <td id=\"T_6ed42bae_6e4f_11ec_a2e2_0242ac1c0002row10_col9\" class=\"data row10 col9\" >5</td>\n",
              "                        <td id=\"T_6ed42bae_6e4f_11ec_a2e2_0242ac1c0002row10_col10\" class=\"data row10 col10\" >371</td>\n",
              "                        <td id=\"T_6ed42bae_6e4f_11ec_a2e2_0242ac1c0002row10_col11\" class=\"data row10 col11\" >36</td>\n",
              "            </tr>\n",
              "            <tr>\n",
              "                        <th id=\"T_6ed42bae_6e4f_11ec_a2e2_0242ac1c0002level0_row11\" class=\"row_heading level0 row11\" >Y</th>\n",
              "                        <td id=\"T_6ed42bae_6e4f_11ec_a2e2_0242ac1c0002row11_col0\" class=\"data row11 col0\" >31</td>\n",
              "                        <td id=\"T_6ed42bae_6e4f_11ec_a2e2_0242ac1c0002row11_col1\" class=\"data row11 col1\" >0</td>\n",
              "                        <td id=\"T_6ed42bae_6e4f_11ec_a2e2_0242ac1c0002row11_col2\" class=\"data row11 col2\" >0</td>\n",
              "                        <td id=\"T_6ed42bae_6e4f_11ec_a2e2_0242ac1c0002row11_col3\" class=\"data row11 col3\" >0</td>\n",
              "                        <td id=\"T_6ed42bae_6e4f_11ec_a2e2_0242ac1c0002row11_col4\" class=\"data row11 col4\" >3</td>\n",
              "                        <td id=\"T_6ed42bae_6e4f_11ec_a2e2_0242ac1c0002row11_col5\" class=\"data row11 col5\" >1</td>\n",
              "                        <td id=\"T_6ed42bae_6e4f_11ec_a2e2_0242ac1c0002row11_col6\" class=\"data row11 col6\" >0</td>\n",
              "                        <td id=\"T_6ed42bae_6e4f_11ec_a2e2_0242ac1c0002row11_col7\" class=\"data row11 col7\" >0</td>\n",
              "                        <td id=\"T_6ed42bae_6e4f_11ec_a2e2_0242ac1c0002row11_col8\" class=\"data row11 col8\" >32</td>\n",
              "                        <td id=\"T_6ed42bae_6e4f_11ec_a2e2_0242ac1c0002row11_col9\" class=\"data row11 col9\" >0</td>\n",
              "                        <td id=\"T_6ed42bae_6e4f_11ec_a2e2_0242ac1c0002row11_col10\" class=\"data row11 col10\" >29</td>\n",
              "                        <td id=\"T_6ed42bae_6e4f_11ec_a2e2_0242ac1c0002row11_col11\" class=\"data row11 col11\" >171</td>\n",
              "            </tr>\n",
              "    </tbody></table>"
            ],
            "text/plain": [
              "<pandas.io.formats.style.Styler at 0x7f90e68dd650>"
            ]
          },
          "metadata": {},
          "execution_count": 632
        }
      ]
    },
    {
      "cell_type": "markdown",
      "source": [
        "### K Neighbors Classifier"
      ],
      "metadata": {
        "id": "D0vJRXqyNNAz"
      }
    },
    {
      "cell_type": "code",
      "source": [
        "n=[1,3,5,7]\n",
        "accuracy=0\n",
        "mat_conf=[]\n",
        "besti=0\n",
        "for i in n:\n",
        "\n",
        "  knn = KNeighborsClassifier(i)\n",
        "  knn.fit(Xtrainlast,Ytrainlast)\n",
        "  pred= knn.predict(Xtest)\n",
        "  accuracyi=accuracy_score(Ytest,pred)\n",
        "  precisioni, recalli, f1_scorei, x = precision_recall_fscore_support(Ytest,pred, average='macro')\n",
        "  mat_confi=confusion_matrix(Ytest,pred)\n",
        "  if accuracy< accuracyi:\n",
        "    accuracy,besti,precision, recall, f1_score,mat_conf=accuracyi,i,precisioni, recalli, f1_scorei,mat_confi\n",
        "accuracy_stock[\"knn\"]=accuracy\n",
        "precision_stock[\"knn\"]=precision\n",
        "recall_stock[\"knn\"]=recall\n",
        "f1_score_stock[\"knn\"]=f1_score\n",
        "pd.DataFrame(mat_conf,columns =label, index=label).apply(pd.to_numeric).style.background_gradient(cmap='viridis')"
      ],
      "metadata": {
        "id": "QlxeBQxKnkm0"
      },
      "execution_count": null,
      "outputs": []
    },
    {
      "cell_type": "markdown",
      "source": [
        "### Random Forest"
      ],
      "metadata": {
        "id": "zDYeClE_NWBp"
      }
    },
    {
      "cell_type": "code",
      "source": [
        "#Random Forest\n",
        "rand_for=RandomForestClassifier()\n",
        "rand_for.fit(Xtrainlast,Ytrainlast)\n",
        "pred=rand_for.predict(Xtest)\n",
        "accuracy=accuracy_score(Ytest,pred)\n",
        "precision, recall, f1_score, x = precision_recall_fscore_support(Ytest,pred, average='macro')\n",
        "accuracy_stock[\"rand_for\"]=accuracy\n",
        "precision_stock[\"rand_for\"]=precision\n",
        "recall_stock[\"rand_for\"]=recall\n",
        "f1_score_stock[\"rand_for\"]=f1_score\n",
        "pd.DataFrame(confusion_matrix(Ytest,pred),columns =label, index=label).apply(pd.to_numeric).style.background_gradient(cmap='viridis')"
      ],
      "metadata": {
        "id": "fWaIpvRenkpk"
      },
      "execution_count": null,
      "outputs": []
    },
    {
      "cell_type": "markdown",
      "source": [
        "### Random Forest PCA"
      ],
      "metadata": {
        "id": "sau4it2-NaZz"
      }
    },
    {
      "cell_type": "code",
      "source": [
        "#Random Forest PCA\n",
        "rand_for_pca=RandomForestClassifier()\n",
        "rand_for_pca.fit(principalComponents, Ytrainlast)\n",
        "pred=rand_for_pca.predict(pca.transform(Xtest))\n",
        "accuracy=accuracy_score(Ytest,pred)\n",
        "precision, recall, f1_score, _ = precision_recall_fscore_support(Ytest,pred, average='macro')\n",
        "accuracy_stock[\"rand_for_pca\"]=accuracy\n",
        "precision_stock[\"rand_for_pca\"]=precision\n",
        "recall_stock[\"rand_for_pca\"]=recall\n",
        "f1_score_stock[\"rand_for_pca\"]=f1_score\n",
        "pd.DataFrame(confusion_matrix(Ytest,pred),columns =label, index=label).apply(pd.to_numeric).style.background_gradient(cmap='viridis')"
      ],
      "metadata": {
        "id": "bUPPDgknnksS"
      },
      "execution_count": null,
      "outputs": []
    },
    {
      "cell_type": "markdown",
      "source": [
        "## Conclusion"
      ],
      "metadata": {
        "id": "fkQMOazyNf9X"
      }
    },
    {
      "cell_type": "code",
      "source": [
        "print('Model         |    Accuracy\\t|\\tPrecision\\t|\\t recall \\t|\\tf1_score\\t|')\n",
        "for i in accuracy_stock.keys(): \n",
        "  print(i,end='')\n",
        "  for a in range(len(i),14):\n",
        "    print(' ', end='')\n",
        "  print('|    '+str(round(accuracy_stock[i],6))+'\\t',end='')\n",
        "  print('|\\t'+str(round(precision_stock[i],6))+'\\t',end='')\n",
        "  print('|\\t'+str(round(recall_stock[i],7))+'\\t',end='')\n",
        "  print('|\\t'+str(round(f1_score_stock[i],7))+'\\t|')"
      ],
      "metadata": {
        "id": "W2VyuukzO9af"
      },
      "execution_count": null,
      "outputs": []
    },
    {
      "cell_type": "markdown",
      "source": [
        "To conclude this Project,we can observe all models that we have build.\n",
        "\n",
        "We can observate that the Random Forest is the better Method for this DataFrame.\n",
        "\n",
        "In fact on each values (accuracy, precision, recall and f1_score), it is the better algorithm."
      ],
      "metadata": {
        "id": "TAL4WmolOiUH"
      }
    },
    {
      "cell_type": "markdown",
      "source": [
        "## Pickle for Flask API"
      ],
      "metadata": {
        "id": "VNd6QW3FNl1q"
      }
    },
    {
      "cell_type": "code",
      "source": [
        "pickle.dump(rand_for,open(\"rand_for.pkl\",\"wb\"))"
      ],
      "metadata": {
        "id": "5m5M5TnzO9dT"
      },
      "execution_count": null,
      "outputs": []
    }
  ]
}