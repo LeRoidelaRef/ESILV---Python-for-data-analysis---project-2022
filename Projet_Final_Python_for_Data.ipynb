{
  "nbformat": 4,
  "nbformat_minor": 0,
  "metadata": {
    "colab": {
      "name": "Projet Final Python for Data.ipynb",
      "provenance": [],
      "collapsed_sections": []
    },
    "kernelspec": {
      "name": "python3",
      "display_name": "Python 3"
    },
    "language_info": {
      "name": "python"
    }
  },
  "cells": [
    {
      "cell_type": "markdown",
      "source": [
        "##Import Library and Load Data"
      ],
      "metadata": {
        "id": "xX1lBsok18FZ"
      }
    },
    {
      "cell_type": "code",
      "metadata": {
        "id": "wgIDmoYyJaA1"
      },
      "source": [
        "#First off all we imoport all the library that we will use in this project\n",
        "import pandas as pd\n",
        "import numpy as np\n",
        "import matplotlib.pyplot as plt\n",
        "import sklearn\n",
        "from sklearn.preprocessing import LabelEncoder\n",
        "from sklearn.decomposition import PCA\n",
        "from sklearn.linear_model import LogisticRegression\n",
        "from sklearn.preprocessing import StandardScaler\n",
        "from sklearn.neighbors import KNeighborsClassifier\n",
        "from sklearn.ensemble import RandomForestClassifier\n",
        "from sklearn.metrics import accuracy_score\n",
        "from sklearn.metrics import precision_recall_fscore_support\n",
        "from sklearn.metrics import confusion_matrix\n"
      ],
      "execution_count": 298,
      "outputs": []
    },
    {
      "cell_type": "code",
      "metadata": {
        "id": "7WdsIvVEIbXo"
      },
      "source": [
        "#We create all columns that we need\n",
        "colums = ['F'+str(i) for i in range(1,11)]\n",
        "columstot = ['F'+str(i) for i in range(1,11)]\n",
        "columstot.append('class')\n",
        "colums2=['F'+str(i) for i in range(1,11)]\n",
        "colums2.append('mahalanobis')\n",
        "label = ['A', 'B', 'C', 'D', 'E', 'F', 'G', 'H', 'I', 'W', 'X', 'Y']"
      ],
      "execution_count": 299,
      "outputs": []
    },
    {
      "cell_type": "code",
      "metadata": {
        "id": "6pKUHET55LIc"
      },
      "source": [
        "# function to import data with name and columns= name\n",
        "def TxtToPandas(colums,name):\n",
        "  data = pd.read_csv(name, header = None)\n",
        "  data.columns=colums\n",
        "  return data"
      ],
      "execution_count": 300,
      "outputs": []
    },
    {
      "cell_type": "code",
      "metadata": {
        "id": "c8NTjFqaLPzG"
      },
      "source": [
        "#import data\n",
        "avilatrain=TxtToPandas(columstot,'avila-tr.txt')\n",
        "avilatest=TxtToPandas(columstot,'avila-ts.txt')\n",
        "#Split data between Values X and Y Class\n",
        "Ytrain=avilatrain.iloc[:,10]\n",
        "Xtrain=avilatrain.iloc[:, :-1]\n",
        "Ytest=avilatest.iloc[:,10]\n",
        "Xtest=avilatest.iloc[:, :-1]"
      ],
      "execution_count": 301,
      "outputs": []
    },
    {
      "cell_type": "markdown",
      "source": [
        "##Data Visalusation Before Cleanning\n"
      ],
      "metadata": {
        "id": "rrGlOO4n1wyi"
      }
    },
    {
      "cell_type": "code",
      "source": [
        "#We observe the repartition off trainning set bewtenn classes.\n",
        "plt.bar(Ytrain.value_counts().keys(),Ytrain.value_counts().values)"
      ],
      "metadata": {
        "colab": {
          "base_uri": "https://localhost:8080/",
          "height": 282
        },
        "id": "QEQmG2lfIfNA",
        "outputId": "f87bfadb-3013-40c9-a4c0-a698ccb3d3bf"
      },
      "execution_count": 302,
      "outputs": [
        {
          "output_type": "execute_result",
          "data": {
            "text/plain": [
              "<BarContainer object of 12 artists>"
            ]
          },
          "metadata": {},
          "execution_count": 302
        },
        {
          "output_type": "display_data",
          "data": {
            "image/png": "[encoded data removed]",
            "text/plain": [
              "<Figure size 432x288 with 1 Axes>"
            ]
          },
          "metadata": {
            "needs_background": "light"
          }
        }
      ]
    },
    {
      "cell_type": "code",
      "source": [
        "\n",
        "Xtrain.describe()"
      ],
      "metadata": {
        "colab": {
          "base_uri": "https://localhost:8080/",
          "height": 344
        },
        "id": "FtDaVTobIfAJ",
        "outputId": "f8c0c682-2f72-4ab0-de37-465492785ab8"
      },
      "execution_count": 303,
      "outputs": [
        {
          "output_type": "execute_result",
          "data": {
            "text/html": [
              "\n",
              "  <div id=\"df-bbd02c60-a086-46a5-90c5-f60381ee90fb\">\n",
              "    <div class=\"colab-df-container\">\n",
              "      <div>\n",
              "<style scoped>\n",
              "    .dataframe tbody tr th:only-of-type {\n",
              "        vertical-align: middle;\n",
              "    }\n",
              "\n",
              "    .dataframe tbody tr th {\n",
              "        vertical-align: top;\n",
              "    }\n",
              "\n",
              "    .dataframe thead th {\n",
              "        text-align: right;\n",
              "    }\n",
              "</style>\n",
              "<table border=\"1\" class=\"dataframe\">\n",
              "  <thead>\n",
              "    <tr style=\"text-align: right;\">\n",
              "      <th></th>\n",
              "      <th>F1</th>\n",
              "      <th>F2</th>\n",
              "      <th>F3</th>\n",
              "      <th>F4</th>\n",
              "      <th>F5</th>\n",
              "      <th>F6</th>\n",
              "      <th>F7</th>\n",
              "      <th>F8</th>\n",
              "      <th>F9</th>\n",
              "      <th>F10</th>\n",
              "    </tr>\n",
              "  </thead>\n",
              "  <tbody>\n",
              "    <tr>\n",
              "      <th>count</th>\n",
              "      <td>10430.000000</td>\n",
              "      <td>10430.000000</td>\n",
              "      <td>10430.000000</td>\n",
              "      <td>10430.000000</td>\n",
              "      <td>10430.000000</td>\n",
              "      <td>10430.000000</td>\n",
              "      <td>10430.000000</td>\n",
              "      <td>10430.000000</td>\n",
              "      <td>10430.000000</td>\n",
              "      <td>10430.000000</td>\n",
              "    </tr>\n",
              "    <tr>\n",
              "      <th>mean</th>\n",
              "      <td>0.000852</td>\n",
              "      <td>0.033611</td>\n",
              "      <td>-0.000525</td>\n",
              "      <td>-0.002387</td>\n",
              "      <td>0.006370</td>\n",
              "      <td>0.013973</td>\n",
              "      <td>0.005605</td>\n",
              "      <td>0.010323</td>\n",
              "      <td>0.012914</td>\n",
              "      <td>0.000818</td>\n",
              "    </tr>\n",
              "    <tr>\n",
              "      <th>std</th>\n",
              "      <td>0.991431</td>\n",
              "      <td>3.920868</td>\n",
              "      <td>1.120202</td>\n",
              "      <td>1.008527</td>\n",
              "      <td>0.992053</td>\n",
              "      <td>1.126245</td>\n",
              "      <td>1.313754</td>\n",
              "      <td>1.003507</td>\n",
              "      <td>1.087665</td>\n",
              "      <td>1.007094</td>\n",
              "    </tr>\n",
              "    <tr>\n",
              "      <th>min</th>\n",
              "      <td>-3.498799</td>\n",
              "      <td>-2.426761</td>\n",
              "      <td>-3.210528</td>\n",
              "      <td>-5.440122</td>\n",
              "      <td>-4.922215</td>\n",
              "      <td>-7.450257</td>\n",
              "      <td>-11.935457</td>\n",
              "      <td>-4.247781</td>\n",
              "      <td>-5.486218</td>\n",
              "      <td>-6.719324</td>\n",
              "    </tr>\n",
              "    <tr>\n",
              "      <th>25%</th>\n",
              "      <td>-0.128929</td>\n",
              "      <td>-0.259834</td>\n",
              "      <td>0.064919</td>\n",
              "      <td>-0.528002</td>\n",
              "      <td>0.172340</td>\n",
              "      <td>-0.598658</td>\n",
              "      <td>-0.044076</td>\n",
              "      <td>-0.541992</td>\n",
              "      <td>-0.372457</td>\n",
              "      <td>-0.516097</td>\n",
              "    </tr>\n",
              "    <tr>\n",
              "      <th>50%</th>\n",
              "      <td>0.043885</td>\n",
              "      <td>-0.055704</td>\n",
              "      <td>0.217845</td>\n",
              "      <td>0.095763</td>\n",
              "      <td>0.261718</td>\n",
              "      <td>-0.058835</td>\n",
              "      <td>0.220177</td>\n",
              "      <td>0.111803</td>\n",
              "      <td>0.064084</td>\n",
              "      <td>-0.034513</td>\n",
              "    </tr>\n",
              "    <tr>\n",
              "      <th>75%</th>\n",
              "      <td>0.204355</td>\n",
              "      <td>0.203385</td>\n",
              "      <td>0.352988</td>\n",
              "      <td>0.658210</td>\n",
              "      <td>0.261718</td>\n",
              "      <td>0.564038</td>\n",
              "      <td>0.446679</td>\n",
              "      <td>0.654944</td>\n",
              "      <td>0.500624</td>\n",
              "      <td>0.530855</td>\n",
              "    </tr>\n",
              "    <tr>\n",
              "      <th>max</th>\n",
              "      <td>11.819916</td>\n",
              "      <td>386.000000</td>\n",
              "      <td>50.000000</td>\n",
              "      <td>3.987152</td>\n",
              "      <td>1.066121</td>\n",
              "      <td>53.000000</td>\n",
              "      <td>83.000000</td>\n",
              "      <td>13.173081</td>\n",
              "      <td>44.000000</td>\n",
              "      <td>4.671232</td>\n",
              "    </tr>\n",
              "  </tbody>\n",
              "</table>\n",
              "</div>\n",
              "      <button class=\"colab-df-convert\" onclick=\"convertToInteractive('df-bbd02c60-a086-46a5-90c5-f60381ee90fb')\"\n",
              "              title=\"Convert this dataframe to an interactive table.\"\n",
              "              style=\"display:none;\">\n",
              "        \n",
              "  <svg xmlns=\"http://www.w3.org/2000/svg\" height=\"24px\"viewBox=\"0 0 24 24\"\n",
              "       width=\"24px\">\n",
              "    <path d=\"M0 0h24v24H0V0z\" fill=\"none\"/>\n",
              "    <path d=\"M18.56 5.44l.94 2.06.94-2.06 2.06-.94-2.06-.94-.94-2.06-.94 2.06-2.06.94zm-11 1L8.5 8.5l.94-2.06 2.06-.94-2.06-.94L8.5 2.5l-.94 2.06-2.06.94zm10 10l.94 2.06.94-2.06 2.06-.94-2.06-.94-.94-2.06-.94 2.06-2.06.94z\"/><path d=\"M17.41 7.96l-1.37-1.37c-.4-.4-.92-.59-1.43-.59-.52 0-1.04.2-1.43.59L10.3 9.45l-7.72 7.72c-.78.78-.78 2.05 0 2.83L4 21.41c.39.39.9.59 1.41.59.51 0 1.02-.2 1.41-.59l7.78-7.78 2.81-2.81c.8-.78.8-2.07 0-2.86zM5.41 20L4 18.59l7.72-7.72 1.47 1.35L5.41 20z\"/>\n",
              "  </svg>\n",
              "      </button>\n",
              "      \n",
              "  <style>\n",
              "    .colab-df-container {\n",
              "      display:flex;\n",
              "      flex-wrap:wrap;\n",
              "      gap: 12px;\n",
              "    }\n",
              "\n",
              "    .colab-df-convert {\n",
              "      background-color: #E8F0FE;\n",
              "      border: none;\n",
              "      border-radius: 50%;\n",
              "      cursor: pointer;\n",
              "      display: none;\n",
              "      fill: #1967D2;\n",
              "      height: 32px;\n",
              "      padding: 0 0 0 0;\n",
              "      width: 32px;\n",
              "    }\n",
              "\n",
              "    .colab-df-convert:hover {\n",
              "      background-color: #E2EBFA;\n",
              "      box-shadow: 0px 1px 2px rgba(60, 64, 67, 0.3), 0px 1px 3px 1px rgba(60, 64, 67, 0.15);\n",
              "      fill: #174EA6;\n",
              "    }\n",
              "\n",
              "    [theme=dark] .colab-df-convert {\n",
              "      background-color: #3B4455;\n",
              "      fill: #D2E3FC;\n",
              "    }\n",
              "\n",
              "    [theme=dark] .colab-df-convert:hover {\n",
              "      background-color: #434B5C;\n",
              "      box-shadow: 0px 1px 3px 1px rgba(0, 0, 0, 0.15);\n",
              "      filter: drop-shadow(0px 1px 2px rgba(0, 0, 0, 0.3));\n",
              "      fill: #FFFFFF;\n",
              "    }\n",
              "  </style>\n",
              "\n",
              "      <script>\n",
              "        const buttonEl =\n",
              "          document.querySelector('#df-bbd02c60-a086-46a5-90c5-f60381ee90fb button.colab-df-convert');\n",
              "        buttonEl.style.display =\n",
              "          google.colab.kernel.accessAllowed ? 'block' : 'none';\n",
              "\n",
              "        async function convertToInteractive(key) {\n",
              "          const element = document.querySelector('#df-bbd02c60-a086-46a5-90c5-f60381ee90fb');\n",
              "          const dataTable =\n",
              "            await google.colab.kernel.invokeFunction('convertToInteractive',\n",
              "                                                     [key], {});\n",
              "          if (!dataTable) return;\n",
              "\n",
              "          const docLinkHtml = 'Like what you see? Visit the ' +\n",
              "            '<a target=\"_blank\" href=https://colab.research.google.com/notebooks/data_table.ipynb>data table notebook</a>'\n",
              "            + ' to learn more about interactive tables.';\n",
              "          element.innerHTML = '';\n",
              "          dataTable['output_type'] = 'display_data';\n",
              "          await google.colab.output.renderOutput(dataTable, element);\n",
              "          const docLink = document.createElement('div');\n",
              "          docLink.innerHTML = docLinkHtml;\n",
              "          element.appendChild(docLink);\n",
              "        }\n",
              "      </script>\n",
              "    </div>\n",
              "  </div>\n",
              "  "
            ],
            "text/plain": [
              "                 F1            F2  ...            F9           F10\n",
              "count  10430.000000  10430.000000  ...  10430.000000  10430.000000\n",
              "mean       0.000852      0.033611  ...      0.012914      0.000818\n",
              "std        0.991431      3.920868  ...      1.087665      1.007094\n",
              "min       -3.498799     -2.426761  ...     -5.486218     -6.719324\n",
              "25%       -0.128929     -0.259834  ...     -0.372457     -0.516097\n",
              "50%        0.043885     -0.055704  ...      0.064084     -0.034513\n",
              "75%        0.204355      0.203385  ...      0.500624      0.530855\n",
              "max       11.819916    386.000000  ...     44.000000      4.671232\n",
              "\n",
              "[8 rows x 10 columns]"
            ]
          },
          "metadata": {},
          "execution_count": 303
        }
      ]
    },
    {
      "cell_type": "code",
      "metadata": {
        "id": "_aC040hAISCH",
        "colab": {
          "base_uri": "https://localhost:8080/",
          "height": 338
        },
        "outputId": "3dcb9a8b-1c79-495b-b9fe-7dccdad49a03"
      },
      "source": [
        "Xtrain.plot(kind='box',figsize=(19,5))\n",
        "#And we visualize the boxplot of the dataset to delete all the inconsistant values."
      ],
      "execution_count": 304,
      "outputs": [
        {
          "output_type": "execute_result",
          "data": {
            "text/plain": [
              "<matplotlib.axes._subplots.AxesSubplot at 0x7f90ec140950>"
            ]
          },
          "metadata": {},
          "execution_count": 304
        },
        {
          "output_type": "display_data",
          "data": {
            "image/png": "[encoded data removed]",
            "text/plain": [
              "<Figure size 1368x360 with 1 Axes>"
            ]
          },
          "metadata": {
            "needs_background": "light"
          }
        }
      ]
    },
    {
      "cell_type": "markdown",
      "source": [
        "##Data Cleanning"
      ],
      "metadata": {
        "id": "3qQM-DPU3pBf"
      }
    },
    {
      "cell_type": "code",
      "source": [
        "#On the graphe above, we can observate a inconsistant values for F2. In this cell we delete all rows this F2<200\n",
        "#In observing the data set, this row is inconsistant for F6 F7 and F9 too.\n",
        "avilatrain2 = avilatrain.drop(avilatrain.index[avilatrain['F2'] > 200].tolist()) \n",
        "Ytrain2=avilatrain2.iloc[:,10]\n",
        "Xtrain2=avilatrain2.iloc[:, :-1]"
      ],
      "metadata": {
        "id": "eLQCKwDQY3eS"
      },
      "execution_count": 305,
      "outputs": []
    },
    {
      "cell_type": "code",
      "source": [
        "Xtrain2.plot(kind='box',figsize=(19,5))"
      ],
      "metadata": {
        "colab": {
          "base_uri": "https://localhost:8080/",
          "height": 338
        },
        "id": "3fx4L6RyY3ar",
        "outputId": "a6df76bf-19d6-4f28-ceee-e8070fd970ba"
      },
      "execution_count": 306,
      "outputs": [
        {
          "output_type": "execute_result",
          "data": {
            "text/plain": [
              "<matplotlib.axes._subplots.AxesSubplot at 0x7f90ec0fa5d0>"
            ]
          },
          "metadata": {},
          "execution_count": 306
        },
        {
          "output_type": "display_data",
          "data": {
            "image/png": "[encoded data removed]",
            "text/plain": [
              "<Figure size 1368x360 with 1 Axes>"
            ]
          },
          "metadata": {
            "needs_background": "light"
          }
        }
      ]
    },
    {
      "cell_type": "code",
      "source": [
        "#In a segond time the plot the DataFrame without the rows who have been deleted above.\n",
        "#We delete again some inconsistant rows on columns F2 and F8\n",
        "avilatrain3 = avilatrain2.drop(avilatrain2.index[avilatrain2['F2'] > 30].tolist()) \n",
        "avilatrain3 = avilatrain2.drop(avilatrain2.index[avilatrain2['F8'] > 10].tolist()) \n",
        "Ytrain3=avilatrain3.iloc[:,10]\n",
        "Xtrain3=avilatrain3.iloc[:, :-1]"
      ],
      "metadata": {
        "id": "DyOohLWUY3Ve"
      },
      "execution_count": 307,
      "outputs": []
    },
    {
      "cell_type": "code",
      "source": [
        "Xtrain3.plot(kind='box',figsize=(25,6))"
      ],
      "metadata": {
        "colab": {
          "base_uri": "https://localhost:8080/",
          "height": 311
        },
        "id": "eSnmTboRY3S7",
        "outputId": "eac6f7dd-8818-4a23-c773-edea3349c9d1"
      },
      "execution_count": 308,
      "outputs": [
        {
          "output_type": "execute_result",
          "data": {
            "text/plain": [
              "<matplotlib.axes._subplots.AxesSubplot at 0x7f90ebe90a50>"
            ]
          },
          "metadata": {},
          "execution_count": 308
        },
        {
          "output_type": "display_data",
          "data": {
            "image/png": "[encoded data removed]",
            "text/plain": [
              "<Figure size 1800x432 with 1 Axes>"
            ]
          },
          "metadata": {
            "needs_background": "light"
          }
        }
      ]
    },
    {
      "cell_type": "code",
      "source": [
        "Xtrain3.describe()"
      ],
      "metadata": {
        "colab": {
          "base_uri": "https://localhost:8080/",
          "height": 344
        },
        "id": "fTmjKYveY3BG",
        "outputId": "bb53a4df-97d1-40e4-8367-4f669c420ef3"
      },
      "execution_count": 309,
      "outputs": [
        {
          "output_type": "execute_result",
          "data": {
            "text/html": [
              "\n",
              "  <div id=\"df-ef0a843f-b0b4-40bf-9c66-8b83f79e2c8c\">\n",
              "    <div class=\"colab-df-container\">\n",
              "      <div>\n",
              "<style scoped>\n",
              "    .dataframe tbody tr th:only-of-type {\n",
              "        vertical-align: middle;\n",
              "    }\n",
              "\n",
              "    .dataframe tbody tr th {\n",
              "        vertical-align: top;\n",
              "    }\n",
              "\n",
              "    .dataframe thead th {\n",
              "        text-align: right;\n",
              "    }\n",
              "</style>\n",
              "<table border=\"1\" class=\"dataframe\">\n",
              "  <thead>\n",
              "    <tr style=\"text-align: right;\">\n",
              "      <th></th>\n",
              "      <th>F1</th>\n",
              "      <th>F2</th>\n",
              "      <th>F3</th>\n",
              "      <th>F4</th>\n",
              "      <th>F5</th>\n",
              "      <th>F6</th>\n",
              "      <th>F7</th>\n",
              "      <th>F8</th>\n",
              "      <th>F9</th>\n",
              "      <th>F10</th>\n",
              "    </tr>\n",
              "  </thead>\n",
              "  <tbody>\n",
              "    <tr>\n",
              "      <th>count</th>\n",
              "      <td>10428.000000</td>\n",
              "      <td>10428.000000</td>\n",
              "      <td>10428.000000</td>\n",
              "      <td>10428.000000</td>\n",
              "      <td>10428.000000</td>\n",
              "      <td>10428.000000</td>\n",
              "      <td>10428.000000</td>\n",
              "      <td>10428.000000</td>\n",
              "      <td>10428.000000</td>\n",
              "      <td>10428.000000</td>\n",
              "    </tr>\n",
              "    <tr>\n",
              "      <th>mean</th>\n",
              "      <td>0.001188</td>\n",
              "      <td>-0.007535</td>\n",
              "      <td>-0.005012</td>\n",
              "      <td>-0.001882</td>\n",
              "      <td>0.006834</td>\n",
              "      <td>0.009608</td>\n",
              "      <td>-0.001208</td>\n",
              "      <td>0.009035</td>\n",
              "      <td>0.009223</td>\n",
              "      <td>0.001401</td>\n",
              "    </tr>\n",
              "    <tr>\n",
              "      <th>std</th>\n",
              "      <td>0.990934</td>\n",
              "      <td>0.953603</td>\n",
              "      <td>1.007133</td>\n",
              "      <td>1.007215</td>\n",
              "      <td>0.991016</td>\n",
              "      <td>0.997023</td>\n",
              "      <td>1.025651</td>\n",
              "      <td>0.995286</td>\n",
              "      <td>0.997380</td>\n",
              "      <td>1.005019</td>\n",
              "    </tr>\n",
              "    <tr>\n",
              "      <th>min</th>\n",
              "      <td>-3.498799</td>\n",
              "      <td>-2.426761</td>\n",
              "      <td>-3.210528</td>\n",
              "      <td>-5.440122</td>\n",
              "      <td>-4.922215</td>\n",
              "      <td>-7.450257</td>\n",
              "      <td>-11.935457</td>\n",
              "      <td>-4.247781</td>\n",
              "      <td>-5.423855</td>\n",
              "      <td>-6.719324</td>\n",
              "    </tr>\n",
              "    <tr>\n",
              "      <th>25%</th>\n",
              "      <td>-0.128929</td>\n",
              "      <td>-0.261797</td>\n",
              "      <td>0.064919</td>\n",
              "      <td>-0.528002</td>\n",
              "      <td>0.172340</td>\n",
              "      <td>-0.598658</td>\n",
              "      <td>-0.044076</td>\n",
              "      <td>-0.542021</td>\n",
              "      <td>-0.372457</td>\n",
              "      <td>-0.516086</td>\n",
              "    </tr>\n",
              "    <tr>\n",
              "      <th>50%</th>\n",
              "      <td>0.043885</td>\n",
              "      <td>-0.055704</td>\n",
              "      <td>0.217845</td>\n",
              "      <td>0.095763</td>\n",
              "      <td>0.261718</td>\n",
              "      <td>-0.058835</td>\n",
              "      <td>0.220177</td>\n",
              "      <td>0.111735</td>\n",
              "      <td>0.064084</td>\n",
              "      <td>-0.034513</td>\n",
              "    </tr>\n",
              "    <tr>\n",
              "      <th>75%</th>\n",
              "      <td>0.204355</td>\n",
              "      <td>0.203385</td>\n",
              "      <td>0.352988</td>\n",
              "      <td>0.658210</td>\n",
              "      <td>0.261718</td>\n",
              "      <td>0.564038</td>\n",
              "      <td>0.446679</td>\n",
              "      <td>0.654915</td>\n",
              "      <td>0.500624</td>\n",
              "      <td>0.530794</td>\n",
              "    </tr>\n",
              "    <tr>\n",
              "      <th>max</th>\n",
              "      <td>11.819916</td>\n",
              "      <td>19.470188</td>\n",
              "      <td>7.458681</td>\n",
              "      <td>3.987152</td>\n",
              "      <td>1.066121</td>\n",
              "      <td>5.505495</td>\n",
              "      <td>10.714792</td>\n",
              "      <td>4.510897</td>\n",
              "      <td>3.244594</td>\n",
              "      <td>4.671232</td>\n",
              "    </tr>\n",
              "  </tbody>\n",
              "</table>\n",
              "</div>\n",
              "      <button class=\"colab-df-convert\" onclick=\"convertToInteractive('df-ef0a843f-b0b4-40bf-9c66-8b83f79e2c8c')\"\n",
              "              title=\"Convert this dataframe to an interactive table.\"\n",
              "              style=\"display:none;\">\n",
              "        \n",
              "  <svg xmlns=\"http://www.w3.org/2000/svg\" height=\"24px\"viewBox=\"0 0 24 24\"\n",
              "       width=\"24px\">\n",
              "    <path d=\"M0 0h24v24H0V0z\" fill=\"none\"/>\n",
              "    <path d=\"M18.56 5.44l.94 2.06.94-2.06 2.06-.94-2.06-.94-.94-2.06-.94 2.06-2.06.94zm-11 1L8.5 8.5l.94-2.06 2.06-.94-2.06-.94L8.5 2.5l-.94 2.06-2.06.94zm10 10l.94 2.06.94-2.06 2.06-.94-2.06-.94-.94-2.06-.94 2.06-2.06.94z\"/><path d=\"M17.41 7.96l-1.37-1.37c-.4-.4-.92-.59-1.43-.59-.52 0-1.04.2-1.43.59L10.3 9.45l-7.72 7.72c-.78.78-.78 2.05 0 2.83L4 21.41c.39.39.9.59 1.41.59.51 0 1.02-.2 1.41-.59l7.78-7.78 2.81-2.81c.8-.78.8-2.07 0-2.86zM5.41 20L4 18.59l7.72-7.72 1.47 1.35L5.41 20z\"/>\n",
              "  </svg>\n",
              "      </button>\n",
              "      \n",
              "  <style>\n",
              "    .colab-df-container {\n",
              "      display:flex;\n",
              "      flex-wrap:wrap;\n",
              "      gap: 12px;\n",
              "    }\n",
              "\n",
              "    .colab-df-convert {\n",
              "      background-color: #E8F0FE;\n",
              "      border: none;\n",
              "      border-radius: 50%;\n",
              "      cursor: pointer;\n",
              "      display: none;\n",
              "      fill: #1967D2;\n",
              "      height: 32px;\n",
              "      padding: 0 0 0 0;\n",
              "      width: 32px;\n",
              "    }\n",
              "\n",
              "    .colab-df-convert:hover {\n",
              "      background-color: #E2EBFA;\n",
              "      box-shadow: 0px 1px 2px rgba(60, 64, 67, 0.3), 0px 1px 3px 1px rgba(60, 64, 67, 0.15);\n",
              "      fill: #174EA6;\n",
              "    }\n",
              "\n",
              "    [theme=dark] .colab-df-convert {\n",
              "      background-color: #3B4455;\n",
              "      fill: #D2E3FC;\n",
              "    }\n",
              "\n",
              "    [theme=dark] .colab-df-convert:hover {\n",
              "      background-color: #434B5C;\n",
              "      box-shadow: 0px 1px 3px 1px rgba(0, 0, 0, 0.15);\n",
              "      filter: drop-shadow(0px 1px 2px rgba(0, 0, 0, 0.3));\n",
              "      fill: #FFFFFF;\n",
              "    }\n",
              "  </style>\n",
              "\n",
              "      <script>\n",
              "        const buttonEl =\n",
              "          document.querySelector('#df-ef0a843f-b0b4-40bf-9c66-8b83f79e2c8c button.colab-df-convert');\n",
              "        buttonEl.style.display =\n",
              "          google.colab.kernel.accessAllowed ? 'block' : 'none';\n",
              "\n",
              "        async function convertToInteractive(key) {\n",
              "          const element = document.querySelector('#df-ef0a843f-b0b4-40bf-9c66-8b83f79e2c8c');\n",
              "          const dataTable =\n",
              "            await google.colab.kernel.invokeFunction('convertToInteractive',\n",
              "                                                     [key], {});\n",
              "          if (!dataTable) return;\n",
              "\n",
              "          const docLinkHtml = 'Like what you see? Visit the ' +\n",
              "            '<a target=\"_blank\" href=https://colab.research.google.com/notebooks/data_table.ipynb>data table notebook</a>'\n",
              "            + ' to learn more about interactive tables.';\n",
              "          element.innerHTML = '';\n",
              "          dataTable['output_type'] = 'display_data';\n",
              "          await google.colab.output.renderOutput(dataTable, element);\n",
              "          const docLink = document.createElement('div');\n",
              "          docLink.innerHTML = docLinkHtml;\n",
              "          element.appendChild(docLink);\n",
              "        }\n",
              "      </script>\n",
              "    </div>\n",
              "  </div>\n",
              "  "
            ],
            "text/plain": [
              "                 F1            F2  ...            F9           F10\n",
              "count  10428.000000  10428.000000  ...  10428.000000  10428.000000\n",
              "mean       0.001188     -0.007535  ...      0.009223      0.001401\n",
              "std        0.990934      0.953603  ...      0.997380      1.005019\n",
              "min       -3.498799     -2.426761  ...     -5.423855     -6.719324\n",
              "25%       -0.128929     -0.261797  ...     -0.372457     -0.516086\n",
              "50%        0.043885     -0.055704  ...      0.064084     -0.034513\n",
              "75%        0.204355      0.203385  ...      0.500624      0.530794\n",
              "max       11.819916     19.470188  ...      3.244594      4.671232\n",
              "\n",
              "[8 rows x 10 columns]"
            ]
          },
          "metadata": {},
          "execution_count": 309
        }
      ]
    },
    {
      "cell_type": "code",
      "source": [
        "#To determinate all the inconsistant values in a DataFrame, the Mahalanobis distance is frequenty use.\n",
        "#Here is the function to calculate the mahalanobis distance for each rows on a DataFrame\n",
        "def mahalanobis(data=None,):\n",
        "    data_mean = data - np.mean(data)\n",
        "    cov = np.cov(data.values.T)\n",
        "    inv_covmat = np.linalg.inv(cov)\n",
        "    left = np.dot(data_mean, inv_covmat)\n",
        "    mahal = np.dot(left, data_mean.T)\n",
        "    return mahal.diagonal()"
      ],
      "metadata": {
        "id": "knjHKyjAxgtu"
      },
      "execution_count": 310,
      "outputs": []
    },
    {
      "cell_type": "code",
      "source": [
        "Xtrain['mahalanobis'] = mahalanobis(data=Xtrain)\n",
        "plt.scatter(Xtrain['mahalanobis'],Xtrain.index,s=10)\n",
        "plt.xlabel('Mahalanobis Distance')\n",
        "#We Observe well 3 point with a high Mahalanobis Distance "
      ],
      "metadata": {
        "colab": {
          "base_uri": "https://localhost:8080/",
          "height": 296
        },
        "id": "ByegVLZ4SHsS",
        "outputId": "2ea55c4b-05ae-406f-b219-18d5d7dc99df"
      },
      "execution_count": 311,
      "outputs": [
        {
          "output_type": "execute_result",
          "data": {
            "text/plain": [
              "Text(0.5, 0, 'Mahalanobis Distance')"
            ]
          },
          "metadata": {},
          "execution_count": 311
        },
        {
          "output_type": "display_data",
          "data": {
            "image/png": "[encoded data removed]",
            "text/plain": [
              "<Figure size 432x288 with 1 Axes>"
            ]
          },
          "metadata": {
            "needs_background": "light"
          }
        }
      ]
    },
    {
      "cell_type": "code",
      "source": [
        "Xtrain3['mahalanobis'] = mahalanobis(data=Xtrain3)\n",
        "plt.scatter(Xtrain3['mahalanobis'],Xtrain3.index,s=2)"
      ],
      "metadata": {
        "colab": {
          "base_uri": "https://localhost:8080/",
          "height": 282
        },
        "id": "4tSDtashxgwm",
        "outputId": "6d7293c8-9d5a-46a8-ff68-9fba450b8c7c"
      },
      "execution_count": 312,
      "outputs": [
        {
          "output_type": "execute_result",
          "data": {
            "text/plain": [
              "<matplotlib.collections.PathCollection at 0x7f90ebccfc90>"
            ]
          },
          "metadata": {},
          "execution_count": 312
        },
        {
          "output_type": "display_data",
          "data": {
            "image/png": "[encoded data removed]",
            "text/plain": [
              "<Figure size 432x288 with 1 Axes>"
            ]
          },
          "metadata": {
            "needs_background": "light"
          }
        }
      ]
    },
    {
      "cell_type": "code",
      "source": [
        "#On décide enfin de suprimer toutes les lignes du dataframe qui ont une 'mahalanobis'>300"
      ],
      "metadata": {
        "id": "KdaLFcl9oyDD"
      },
      "execution_count": 313,
      "outputs": []
    },
    {
      "cell_type": "code",
      "source": [
        "avilatrainlast = avilatrain3.drop(Xtrain3.index[Xtrain3['mahalanobis'] > 240].tolist()) \n",
        "Ytrainlast=avilatrainlast.iloc[:,10]\n",
        "Xtrainlast=avilatrainlast.iloc[:, :-1]"
      ],
      "metadata": {
        "id": "YBqO9UPpoyHg"
      },
      "execution_count": 314,
      "outputs": []
    },
    {
      "cell_type": "code",
      "source": [
        "Xtrainlast['mahalanobis'] = mahalanobis(data=Xtrainlast)\n",
        "plt.scatter(Xtrainlast['mahalanobis'],Xtrainlast.index,s=2)"
      ],
      "metadata": {
        "colab": {
          "base_uri": "https://localhost:8080/",
          "height": 282
        },
        "id": "ZPuG0Cf1oyK0",
        "outputId": "eb19c8d9-bf75-4302-d7b2-af093c89adc8"
      },
      "execution_count": 315,
      "outputs": [
        {
          "output_type": "execute_result",
          "data": {
            "text/plain": [
              "<matplotlib.collections.PathCollection at 0x7f90ebc3ab50>"
            ]
          },
          "metadata": {},
          "execution_count": 315
        },
        {
          "output_type": "display_data",
          "data": {
            "image/png": "[encoded data removed]",
            "text/plain": [
              "<Figure size 432x288 with 1 Axes>"
            ]
          },
          "metadata": {
            "needs_background": "light"
          }
        }
      ]
    },
    {
      "cell_type": "markdown",
      "source": [
        "##Data Visulisation after Cleanning"
      ],
      "metadata": {
        "id": "YT-yWwCu9RiD"
      }
    },
    {
      "cell_type": "code",
      "source": [
        "Xtrainlast.describe()"
      ],
      "metadata": {
        "colab": {
          "base_uri": "https://localhost:8080/",
          "height": 364
        },
        "id": "E8XaMCCkuvTV",
        "outputId": "e2aeed2f-3523-4890-b7fb-112748b2ebc3"
      },
      "execution_count": 316,
      "outputs": [
        {
          "output_type": "execute_result",
          "data": {
            "text/html": [
              "\n",
              "  <div id=\"df-13aad0a9-bada-4fb3-a0fb-02bdcd93d10b\">\n",
              "    <div class=\"colab-df-container\">\n",
              "      <div>\n",
              "<style scoped>\n",
              "    .dataframe tbody tr th:only-of-type {\n",
              "        vertical-align: middle;\n",
              "    }\n",
              "\n",
              "    .dataframe tbody tr th {\n",
              "        vertical-align: top;\n",
              "    }\n",
              "\n",
              "    .dataframe thead th {\n",
              "        text-align: right;\n",
              "    }\n",
              "</style>\n",
              "<table border=\"1\" class=\"dataframe\">\n",
              "  <thead>\n",
              "    <tr style=\"text-align: right;\">\n",
              "      <th></th>\n",
              "      <th>F1</th>\n",
              "      <th>F2</th>\n",
              "      <th>F3</th>\n",
              "      <th>F4</th>\n",
              "      <th>F5</th>\n",
              "      <th>F6</th>\n",
              "      <th>F7</th>\n",
              "      <th>F8</th>\n",
              "      <th>F9</th>\n",
              "      <th>F10</th>\n",
              "      <th>mahalanobis</th>\n",
              "    </tr>\n",
              "  </thead>\n",
              "  <tbody>\n",
              "    <tr>\n",
              "      <th>count</th>\n",
              "      <td>10406.000000</td>\n",
              "      <td>10406.000000</td>\n",
              "      <td>10406.000000</td>\n",
              "      <td>10406.000000</td>\n",
              "      <td>10406.000000</td>\n",
              "      <td>10406.000000</td>\n",
              "      <td>10406.000000</td>\n",
              "      <td>10406.000000</td>\n",
              "      <td>10406.000000</td>\n",
              "      <td>10406.000000</td>\n",
              "      <td>10406.000000</td>\n",
              "    </tr>\n",
              "    <tr>\n",
              "      <th>mean</th>\n",
              "      <td>0.002475</td>\n",
              "      <td>-0.027098</td>\n",
              "      <td>-0.003638</td>\n",
              "      <td>-0.000834</td>\n",
              "      <td>0.013845</td>\n",
              "      <td>0.012913</td>\n",
              "      <td>0.009134</td>\n",
              "      <td>0.006782</td>\n",
              "      <td>0.014881</td>\n",
              "      <td>0.010151</td>\n",
              "      <td>9.999039</td>\n",
              "    </tr>\n",
              "    <tr>\n",
              "      <th>std</th>\n",
              "      <td>0.962941</td>\n",
              "      <td>0.755629</td>\n",
              "      <td>1.005482</td>\n",
              "      <td>1.006214</td>\n",
              "      <td>0.975199</td>\n",
              "      <td>0.992842</td>\n",
              "      <td>0.957494</td>\n",
              "      <td>0.990199</td>\n",
              "      <td>0.988599</td>\n",
              "      <td>0.981227</td>\n",
              "      <td>21.263548</td>\n",
              "    </tr>\n",
              "    <tr>\n",
              "      <th>min</th>\n",
              "      <td>-3.498799</td>\n",
              "      <td>-2.426761</td>\n",
              "      <td>-3.210528</td>\n",
              "      <td>-5.440122</td>\n",
              "      <td>-4.922215</td>\n",
              "      <td>-7.450257</td>\n",
              "      <td>-11.935457</td>\n",
              "      <td>-4.247781</td>\n",
              "      <td>-5.049677</td>\n",
              "      <td>-6.719324</td>\n",
              "      <td>0.159422</td>\n",
              "    </tr>\n",
              "    <tr>\n",
              "      <th>25%</th>\n",
              "      <td>-0.128929</td>\n",
              "      <td>-0.267686</td>\n",
              "      <td>0.064919</td>\n",
              "      <td>-0.528002</td>\n",
              "      <td>0.172340</td>\n",
              "      <td>-0.598658</td>\n",
              "      <td>-0.044076</td>\n",
              "      <td>-0.542661</td>\n",
              "      <td>-0.341275</td>\n",
              "      <td>-0.511390</td>\n",
              "      <td>2.078699</td>\n",
              "    </tr>\n",
              "    <tr>\n",
              "      <th>50%</th>\n",
              "      <td>0.043885</td>\n",
              "      <td>-0.055704</td>\n",
              "      <td>0.217845</td>\n",
              "      <td>0.095763</td>\n",
              "      <td>0.261718</td>\n",
              "      <td>-0.058835</td>\n",
              "      <td>0.220177</td>\n",
              "      <td>0.111065</td>\n",
              "      <td>0.064084</td>\n",
              "      <td>-0.031505</td>\n",
              "      <td>4.125457</td>\n",
              "    </tr>\n",
              "    <tr>\n",
              "      <th>75%</th>\n",
              "      <td>0.204355</td>\n",
              "      <td>0.203385</td>\n",
              "      <td>0.352988</td>\n",
              "      <td>0.658210</td>\n",
              "      <td>0.261718</td>\n",
              "      <td>0.564038</td>\n",
              "      <td>0.446679</td>\n",
              "      <td>0.653259</td>\n",
              "      <td>0.500624</td>\n",
              "      <td>0.532524</td>\n",
              "      <td>10.260050</td>\n",
              "    </tr>\n",
              "    <tr>\n",
              "      <th>max</th>\n",
              "      <td>11.819916</td>\n",
              "      <td>12.655362</td>\n",
              "      <td>7.458681</td>\n",
              "      <td>3.987152</td>\n",
              "      <td>1.066121</td>\n",
              "      <td>5.505495</td>\n",
              "      <td>8.902772</td>\n",
              "      <td>4.510897</td>\n",
              "      <td>3.244594</td>\n",
              "      <td>4.671232</td>\n",
              "      <td>325.556773</td>\n",
              "    </tr>\n",
              "  </tbody>\n",
              "</table>\n",
              "</div>\n",
              "      <button class=\"colab-df-convert\" onclick=\"convertToInteractive('df-13aad0a9-bada-4fb3-a0fb-02bdcd93d10b')\"\n",
              "              title=\"Convert this dataframe to an interactive table.\"\n",
              "              style=\"display:none;\">\n",
              "        \n",
              "  <svg xmlns=\"http://www.w3.org/2000/svg\" height=\"24px\"viewBox=\"0 0 24 24\"\n",
              "       width=\"24px\">\n",
              "    <path d=\"M0 0h24v24H0V0z\" fill=\"none\"/>\n",
              "    <path d=\"M18.56 5.44l.94 2.06.94-2.06 2.06-.94-2.06-.94-.94-2.06-.94 2.06-2.06.94zm-11 1L8.5 8.5l.94-2.06 2.06-.94-2.06-.94L8.5 2.5l-.94 2.06-2.06.94zm10 10l.94 2.06.94-2.06 2.06-.94-2.06-.94-.94-2.06-.94 2.06-2.06.94z\"/><path d=\"M17.41 7.96l-1.37-1.37c-.4-.4-.92-.59-1.43-.59-.52 0-1.04.2-1.43.59L10.3 9.45l-7.72 7.72c-.78.78-.78 2.05 0 2.83L4 21.41c.39.39.9.59 1.41.59.51 0 1.02-.2 1.41-.59l7.78-7.78 2.81-2.81c.8-.78.8-2.07 0-2.86zM5.41 20L4 18.59l7.72-7.72 1.47 1.35L5.41 20z\"/>\n",
              "  </svg>\n",
              "      </button>\n",
              "      \n",
              "  <style>\n",
              "    .colab-df-container {\n",
              "      display:flex;\n",
              "      flex-wrap:wrap;\n",
              "      gap: 12px;\n",
              "    }\n",
              "\n",
              "    .colab-df-convert {\n",
              "      background-color: #E8F0FE;\n",
              "      border: none;\n",
              "      border-radius: 50%;\n",
              "      cursor: pointer;\n",
              "      display: none;\n",
              "      fill: #1967D2;\n",
              "      height: 32px;\n",
              "      padding: 0 0 0 0;\n",
              "      width: 32px;\n",
              "    }\n",
              "\n",
              "    .colab-df-convert:hover {\n",
              "      background-color: #E2EBFA;\n",
              "      box-shadow: 0px 1px 2px rgba(60, 64, 67, 0.3), 0px 1px 3px 1px rgba(60, 64, 67, 0.15);\n",
              "      fill: #174EA6;\n",
              "    }\n",
              "\n",
              "    [theme=dark] .colab-df-convert {\n",
              "      background-color: #3B4455;\n",
              "      fill: #D2E3FC;\n",
              "    }\n",
              "\n",
              "    [theme=dark] .colab-df-convert:hover {\n",
              "      background-color: #434B5C;\n",
              "      box-shadow: 0px 1px 3px 1px rgba(0, 0, 0, 0.15);\n",
              "      filter: drop-shadow(0px 1px 2px rgba(0, 0, 0, 0.3));\n",
              "      fill: #FFFFFF;\n",
              "    }\n",
              "  </style>\n",
              "\n",
              "      <script>\n",
              "        const buttonEl =\n",
              "          document.querySelector('#df-13aad0a9-bada-4fb3-a0fb-02bdcd93d10b button.colab-df-convert');\n",
              "        buttonEl.style.display =\n",
              "          google.colab.kernel.accessAllowed ? 'block' : 'none';\n",
              "\n",
              "        async function convertToInteractive(key) {\n",
              "          const element = document.querySelector('#df-13aad0a9-bada-4fb3-a0fb-02bdcd93d10b');\n",
              "          const dataTable =\n",
              "            await google.colab.kernel.invokeFunction('convertToInteractive',\n",
              "                                                     [key], {});\n",
              "          if (!dataTable) return;\n",
              "\n",
              "          const docLinkHtml = 'Like what you see? Visit the ' +\n",
              "            '<a target=\"_blank\" href=https://colab.research.google.com/notebooks/data_table.ipynb>data table notebook</a>'\n",
              "            + ' to learn more about interactive tables.';\n",
              "          element.innerHTML = '';\n",
              "          dataTable['output_type'] = 'display_data';\n",
              "          await google.colab.output.renderOutput(dataTable, element);\n",
              "          const docLink = document.createElement('div');\n",
              "          docLink.innerHTML = docLinkHtml;\n",
              "          element.appendChild(docLink);\n",
              "        }\n",
              "      </script>\n",
              "    </div>\n",
              "  </div>\n",
              "  "
            ],
            "text/plain": [
              "                 F1            F2  ...           F10   mahalanobis\n",
              "count  10406.000000  10406.000000  ...  10406.000000  10406.000000\n",
              "mean       0.002475     -0.027098  ...      0.010151      9.999039\n",
              "std        0.962941      0.755629  ...      0.981227     21.263548\n",
              "min       -3.498799     -2.426761  ...     -6.719324      0.159422\n",
              "25%       -0.128929     -0.267686  ...     -0.511390      2.078699\n",
              "50%        0.043885     -0.055704  ...     -0.031505      4.125457\n",
              "75%        0.204355      0.203385  ...      0.532524     10.260050\n",
              "max       11.819916     12.655362  ...      4.671232    325.556773\n",
              "\n",
              "[8 rows x 11 columns]"
            ]
          },
          "metadata": {},
          "execution_count": 316
        }
      ]
    },
    {
      "cell_type": "code",
      "source": [
        "plt.figure(figsize=(6, 5))\n",
        "\n",
        "plt.imshow(Xtrainlast.corr(), aspect='auto')\n",
        "plt.xticks(range(Xtrainlast.shape[1]),colums2, rotation=45)\n",
        "plt.yticks(range(Xtrainlast.shape[1]),colums2)\n",
        "plt.colorbar()"
      ],
      "metadata": {
        "colab": {
          "base_uri": "https://localhost:8080/",
          "height": 383
        },
        "id": "wGCAVOXlsU4c",
        "outputId": "a458c3e7-9494-4d32-87cf-0082a9c3507b"
      },
      "execution_count": 317,
      "outputs": [
        {
          "output_type": "execute_result",
          "data": {
            "text/plain": [
              "<matplotlib.colorbar.Colorbar at 0x7f90ebb36810>"
            ]
          },
          "metadata": {},
          "execution_count": 317
        },
        {
          "output_type": "display_data",
          "data": {
            "image/png": "[encoded data removed]",
            "text/plain": [
              "<Figure size 432x360 with 2 Axes>"
            ]
          },
          "metadata": {
            "needs_background": "light"
          }
        }
      ]
    },
    {
      "cell_type": "code",
      "source": [
        "#On observe une corélation élevé entre les données F6 et F10, nous allons obsesver leurs répartitions sur un graphique"
      ],
      "metadata": {
        "id": "_DEIX_GwsVCv"
      },
      "execution_count": 318,
      "outputs": []
    },
    {
      "cell_type": "code",
      "source": [
        "plt.scatter(Xtrainlast['F6'],Xtrainlast['F10'],s=2)"
      ],
      "metadata": {
        "id": "LACBfoWbsVFm",
        "colab": {
          "base_uri": "https://localhost:8080/",
          "height": 282
        },
        "outputId": "f1930f43-e34f-423a-8130-0d9b492d4d00"
      },
      "execution_count": 319,
      "outputs": [
        {
          "output_type": "execute_result",
          "data": {
            "text/plain": [
              "<matplotlib.collections.PathCollection at 0x7f90ebb66f10>"
            ]
          },
          "metadata": {},
          "execution_count": 319
        },
        {
          "output_type": "display_data",
          "data": {
            "image/png": "[encoded data removed]",
            "text/plain": [
              "<Figure size 432x288 with 1 Axes>"
            ]
          },
          "metadata": {
            "needs_background": "light"
          }
        }
      ]
    },
    {
      "cell_type": "code",
      "source": [
        "#On peut aussi noter a partir de la matrice de corélation que la colonne F4 possède une corélation non négligeable avec 4 autres colonnes. Nous allons donc observer le PCA de cette base de données pour en déduire les colonnes les plus intéressantes pour la prédictions comme vu dans le cours de Machine Learning"
      ],
      "metadata": {
        "id": "U5G9H7tFElkD"
      },
      "execution_count": 320,
      "outputs": []
    },
    {
      "cell_type": "code",
      "source": [
        "del Xtrainlast['mahalanobis']"
      ],
      "metadata": {
        "id": "QVG201qRElmb"
      },
      "execution_count": 321,
      "outputs": []
    },
    {
      "cell_type": "code",
      "source": [
        ""
      ],
      "metadata": {
        "id": "1jlPpldoElq_"
      },
      "execution_count": 321,
      "outputs": []
    },
    {
      "cell_type": "code",
      "source": [
        "#dans le readme il est indiqué que la bdd est déja scale avec la Z-normalized method. il n'est donc pas nécessaire de le scale a nouveau avec la libraire sklearn"
      ],
      "metadata": {
        "id": "TurG7Ya6Cz4V"
      },
      "execution_count": 322,
      "outputs": []
    },
    {
      "cell_type": "code",
      "source": [
        "pca = PCA()\n",
        "principalComponents = pca.fit_transform(Xtrainlast)\n",
        "plt.plot(pca.explained_variance_ratio_)\n",
        "plt.xticks(np.arange(0, 10, step=1),range(1,11))\n",
        "plt.ylabel('Variance')\n",
        "plt.xlabel('Columns')"
      ],
      "metadata": {
        "id": "bXPTgdRxCz7d",
        "colab": {
          "base_uri": "https://localhost:8080/",
          "height": 298
        },
        "outputId": "306e88c2-ba0c-4965-a334-4bd0a98a9f4b"
      },
      "execution_count": 323,
      "outputs": [
        {
          "output_type": "execute_result",
          "data": {
            "text/plain": [
              "Text(0.5, 0, 'Columns')"
            ]
          },
          "metadata": {},
          "execution_count": 323
        },
        {
          "output_type": "display_data",
          "data": {
            "image/png": "[encoded data removed]",
            "text/plain": [
              "<Figure size 432x288 with 1 Axes>"
            ]
          },
          "metadata": {
            "needs_background": "light"
          }
        }
      ]
    },
    {
      "cell_type": "code",
      "source": [
        ""
      ],
      "metadata": {
        "id": "4LXdi0M0Cz-O"
      },
      "execution_count": 323,
      "outputs": []
    },
    {
      "cell_type": "code",
      "source": [
        "#On initialise les 4 dictionnaires suivants pour stocker les données obtenus \n",
        "accuracy_stock={}\n",
        "precision_stock={}\n",
        "recall_stock={}\n",
        "f1_score_stock={}"
      ],
      "metadata": {
        "id": "HDt0Ry-KC0BC"
      },
      "execution_count": 324,
      "outputs": []
    },
    {
      "cell_type": "code",
      "source": [
        "#logistical regression\n",
        "log_reg=LogisticRegression()\n",
        "log_reg.fit(Xtrainlast, Ytrainlast)\n",
        "pred=log_reg.predict(Xtest)\n",
        "accuracy=accuracy_score(Ytest,pred)\n",
        "precision, recall, f1_score, _ = precision_recall_fscore_support(Ytest,pred, average='macro')\n",
        "print(confusion_matrix(Ytest,pred))\n",
        "accuracy\n",
        "accuracy_stock[\"log_reg\"]=accuracy\n",
        "precision_stock[\"log_reg\"]=precision\n",
        "recall_stock[\"log_reg\"]=recall\n",
        "f1_score_stock[\"log_reg\"]=f1_score"
      ],
      "metadata": {
        "id": "GDsopukKC0GK",
        "colab": {
          "base_uri": "https://localhost:8080/"
        },
        "outputId": "6c21b269-c472-48d0-95cf-9446428f79f8"
      },
      "execution_count": 325,
      "outputs": [
        {
          "output_type": "stream",
          "name": "stdout",
          "text": [
            "[[4001    0    1    3   64  137   23   25   20    0    7    5]\n",
            " [   0    5    0    0    0    0    0    0    0    0    0    0]\n",
            " [  63    0    0    0   14   16    4    2    4    0    0    0]\n",
            " [ 287    0    0    0   38   10    0   15    1    0    2    0]\n",
            " [ 642    0    0    0  292   55    3   27   14    0   57    5]\n",
            " [1735    0    0    1   16  165   10   12   17    0    0    6]\n",
            " [ 326    0    0    0   14   34   14   55    0    0    4    0]\n",
            " [ 277    0    0    0   48   46    1  132   14    0    1    1]\n",
            " [  40    0    0    0    5   14    0    8  722    0   24   19]\n",
            " [  30    0    0    0   10    0    0    0    0    3    2    0]\n",
            " [  48    0    0    0   37    3    0    0   24    5  369   36]\n",
            " [  31    0    0    0    3    1    0    0   33    0   29  170]]\n"
          ]
        },
        {
          "output_type": "stream",
          "name": "stderr",
          "text": [
            "/usr/local/lib/python3.7/dist-packages/sklearn/linear_model/_logistic.py:818: ConvergenceWarning: lbfgs failed to converge (status=1):\n",
            "STOP: TOTAL NO. of ITERATIONS REACHED LIMIT.\n",
            "\n",
            "Increase the number of iterations (max_iter) or scale the data as shown in:\n",
            "    https://scikit-learn.org/stable/modules/preprocessing.html\n",
            "Please also refer to the documentation for alternative solver options:\n",
            "    https://scikit-learn.org/stable/modules/linear_model.html#logistic-regression\n",
            "  extra_warning_msg=_LOGISTIC_SOLVER_CONVERGENCE_MSG,\n"
          ]
        }
      ]
    },
    {
      "cell_type": "code",
      "source": [
        "#Logistical Regression PCA\n",
        "log_reg_pca=LogisticRegression()\n",
        "log_reg_pca.fit(principalComponents, Ytrainlast)\n",
        "pred=log_reg_pca.predict(pca.transform(Xtest))\n",
        "accuracy=accuracy_score(Ytest,pred)\n",
        "precision, recall, f1_score, _ = precision_recall_fscore_support(Ytest,pred, average='macro')\n",
        "print(confusion_matrix(Ytest,pred))\n",
        "accuracy_stock[\"log_reg_pca\"]=accuracy\n",
        "precision_stock[\"log_reg_pca\"]=precision\n",
        "recall_stock[\"log_reg_pca\"]=recall\n",
        "f1_score_stock[\"log_reg_pca\"]=f1_score"
      ],
      "metadata": {
        "id": "pT6frfb6nkho",
        "colab": {
          "base_uri": "https://localhost:8080/"
        },
        "outputId": "b46de715-c898-46fa-881a-6696e913e620"
      },
      "execution_count": 326,
      "outputs": [
        {
          "output_type": "stream",
          "name": "stdout",
          "text": [
            "[[3999    0    0    3   65  138   24   25   20    0    7    5]\n",
            " [   0    5    0    0    0    0    0    0    0    0    0    0]\n",
            " [  63    0    0    0   14   16    4    2    4    0    0    0]\n",
            " [ 287    0    0    0   38   10    0   15    1    0    2    0]\n",
            " [ 642    0    0    0  292   55    3   27   14    0   57    5]\n",
            " [1734    0    0    1   16  167   10   12   16    0    0    6]\n",
            " [ 325    0    0    0   14   35   14   55    0    0    4    0]\n",
            " [ 276    0    0    0   48   47    1  132   14    0    1    1]\n",
            " [  40    0    0    0    5   15    0    8  721    0   24   19]\n",
            " [  30    0    0    0   10    0    0    0    0    3    2    0]\n",
            " [  48    0    0    0   37    3    0    0   24    5  369   36]\n",
            " [  31    0    0    0    3    1    0    0   33    0   29  170]]\n"
          ]
        },
        {
          "output_type": "stream",
          "name": "stderr",
          "text": [
            "/usr/local/lib/python3.7/dist-packages/sklearn/linear_model/_logistic.py:818: ConvergenceWarning: lbfgs failed to converge (status=1):\n",
            "STOP: TOTAL NO. of ITERATIONS REACHED LIMIT.\n",
            "\n",
            "Increase the number of iterations (max_iter) or scale the data as shown in:\n",
            "    https://scikit-learn.org/stable/modules/preprocessing.html\n",
            "Please also refer to the documentation for alternative solver options:\n",
            "    https://scikit-learn.org/stable/modules/linear_model.html#logistic-regression\n",
            "  extra_warning_msg=_LOGISTIC_SOLVER_CONVERGENCE_MSG,\n",
            "/usr/local/lib/python3.7/dist-packages/sklearn/metrics/_classification.py:1308: UndefinedMetricWarning: Precision and F-score are ill-defined and being set to 0.0 in labels with no predicted samples. Use `zero_division` parameter to control this behavior.\n",
            "  _warn_prf(average, modifier, msg_start, len(result))\n"
          ]
        }
      ]
    },
    {
      "cell_type": "code",
      "source": [
        ""
      ],
      "metadata": {
        "id": "i3R51U1_nkkh"
      },
      "execution_count": 326,
      "outputs": []
    },
    {
      "cell_type": "code",
      "source": [
        "n=[1,3,5,7]\n",
        "accuracy=0\n",
        "matconf=[]\n",
        "besti=0\n",
        "for i in n:\n",
        "\n",
        "  knn = KNeighborsClassifier(i)\n",
        "  knn.fit(Xtrainlast,Ytrainlast)\n",
        "  pred= knn.predict(Xtest)\n",
        "  accuracyi=accuracy_score(Ytest,pred)\n",
        "  precisioni, recalli, f1_scorei, _ = precision_recall_fscore_support(Ytest,pred, average='macro')\n",
        "  matconfi=confusion_matrix(Ytest,pred)\n",
        "  if accuracy< accuracyi:\n",
        "    accuracy,besti,precision, recall, f1_score,matconf=accuracyi,i,precisioni, recalli, f1_scorei,matconfi\n",
        "accuracy_stock[\"knn\"]=accuracy\n",
        "precision_stock[\"knn\"]=precision\n",
        "recall_stock[\"knn\"]=recall\n",
        "f1_score_stock[\"knn\"]=f1_score\n",
        "print(matconf)"
      ],
      "metadata": {
        "id": "QlxeBQxKnkm0",
        "colab": {
          "base_uri": "https://localhost:8080/"
        },
        "outputId": "c35706dc-cf41-4010-e3b9-fb5f90f84709"
      },
      "execution_count": 327,
      "outputs": [
        {
          "output_type": "stream",
          "name": "stdout",
          "text": [
            "[[3686    0    2   18   49  446   44   33    2    0    3    3]\n",
            " [   0    5    0    0    0    0    0    0    0    0    0    0]\n",
            " [  40    0   41    2    8   12    0    0    0    0    0    0]\n",
            " [  84    0    6  195   24   36    1    5    1    0    1    0]\n",
            " [ 215    0   11   30  712   65   11   38    1    0   10    2]\n",
            " [ 586    0    2    8   16 1305   32   11    2    0    0    0]\n",
            " [ 131    0    0    0   22   52  235    6    0    0    1    0]\n",
            " [ 146    0    5    3   41   41    8  275    0    0    1    0]\n",
            " [  26    0    0    2    4    3    1    1  788    0    1    6]\n",
            " [  12    0    0    0    3    1    0    0    0   27    2    0]\n",
            " [  36    0    0    3   15    2    0    5    3    0  435   23]\n",
            " [  25    0    0    4    8    1    0    0   18    0   10  201]]\n"
          ]
        }
      ]
    },
    {
      "cell_type": "code",
      "source": [
        "#Random Forest\n",
        "rand_for=RandomForestClassifier()\n",
        "rand_for.fit(Xtrainlast,Ytrainlast)\n",
        "pred=rand_for.predict(Xtest)\n",
        "accuracy=accuracy_score(Ytest,pred)\n",
        "precision, recall, f1_score, _ = precision_recall_fscore_support(Ytest,pred, average='macro')\n",
        "print(confusion_matrix(Ytest,pred))\n",
        "accuracy\n",
        "accuracy_stock[\"rand_for\"]=accuracy\n",
        "precision_stock[\"rand_for\"]=precision\n",
        "recall_stock[\"rand_for\"]=recall\n",
        "f1_score_stock[\"rand_for\"]=f1_score"
      ],
      "metadata": {
        "id": "fWaIpvRenkpk",
        "colab": {
          "base_uri": "https://localhost:8080/"
        },
        "outputId": "2cd3596f-51cd-4dd6-801e-a78cc0366861"
      },
      "execution_count": 328,
      "outputs": [
        {
          "output_type": "stream",
          "name": "stdout",
          "text": [
            "[[4261    0    0    0    5   11    2    5    2    0    0    0]\n",
            " [   0    5    0    0    0    0    0    0    0    0    0    0]\n",
            " [   6    0   96    0    1    0    0    0    0    0    0    0]\n",
            " [   0    0    0  346    7    0    0    0    0    0    0    0]\n",
            " [  21    0    0    0 1071    0    0    0    0    0    3    0]\n",
            " [  39    0    0    0    4 1916    2    1    0    0    0    0]\n",
            " [  12    0    0    0    1    1  433    0    0    0    0    0]\n",
            " [  14    0    3    0    1    0    0  502    0    0    0    0]\n",
            " [   4    0    0    0    0    0    0    0  828    0    0    0]\n",
            " [   0    0    0    0    0    0    0    0    0   45    0    0]\n",
            " [   7    0    0    0    6    0    0    0    0    0  509    0]\n",
            " [   0    0    0    0    1    0    0    0    0    0    0  266]]\n"
          ]
        }
      ]
    },
    {
      "cell_type": "code",
      "source": [
        "#Random Forest PCA\n",
        "rand_for_pca=RandomForestClassifier()\n",
        "rand_for_pca.fit(principalComponents, Ytrainlast)\n",
        "pred=rand_for_pca.predict(pca.transform(Xtest))\n",
        "accuracy=accuracy_score(Ytest,pred)\n",
        "precision, recall, f1_score, _ = precision_recall_fscore_support(Ytest,pred, average='macro')\n",
        "print(confusion_matrix(Ytest,pred))\n",
        "accuracy\n",
        "accuracy_stock[\"rand_for_pca\"]=accuracy\n",
        "precision_stock[\"rand_for_pca\"]=precision\n",
        "recall_stock[\"rand_for_pca\"]=recall\n",
        "f1_score_stock[\"rand_for_pca\"]=f1_score"
      ],
      "metadata": {
        "id": "bUPPDgknnksS",
        "colab": {
          "base_uri": "https://localhost:8080/"
        },
        "outputId": "1665ca27-7af5-4f91-ed89-bc18eb7a436b"
      },
      "execution_count": 329,
      "outputs": [
        {
          "output_type": "stream",
          "name": "stdout",
          "text": [
            "[[3913    0    1    5   29  261   34   24   11    0    6    2]\n",
            " [   0    4    0    0    0    1    0    0    0    0    0    0]\n",
            " [  40    0   22    1   17   14    0    4    5    0    0    0]\n",
            " [  93    0    0  172   52   30    1    2    0    0    3    0]\n",
            " [ 197    0    0    9  777   61    8   20    2    0   11   10]\n",
            " [ 697    0    0    0   16 1198   34    6    6    0    0    5]\n",
            " [ 119    0    0    0   25   36  256    8    0    0    3    0]\n",
            " [ 147    0    1    0   45   27   10  286    3    0    1    0]\n",
            " [  34    0    0    0    3    4    0    0  791    0    0    0]\n",
            " [  14    0    0    0    1    0    1    0    0   27    2    0]\n",
            " [  35    0    0    0   23    0    0    4    3    0  436   21]\n",
            " [  26    0    0    1   14    0    0    0   16    0   14  196]]\n"
          ]
        }
      ]
    },
    {
      "cell_type": "code",
      "source": [
        "print('Model         |    Accuracy\\t|\\tPrecision\\t|\\t recall \\t|\\tf1_score\\t|')\n",
        "for i in accuracy_stock.keys(): \n",
        "  print(i,end='')\n",
        "  for a in range(len(i),14):\n",
        "    print(' ', end='')\n",
        "  print('|    '+str(round(accuracy_stock[i],6))+'\\t',end='')\n",
        "  print('|\\t'+str(round(precision_stock[i],6))+'\\t',end='')\n",
        "  print('|\\t'+str(round(recall_stock[i],7))+'\\t',end='')\n",
        "  print('|\\t'+str(round(f1_score_stock[i],6))+'\\t|')"
      ],
      "metadata": {
        "colab": {
          "base_uri": "https://localhost:8080/"
        },
        "id": "W2VyuukzO9af",
        "outputId": "628f052a-e292-4e89-d40e-d8ef74e43c01"
      },
      "execution_count": 330,
      "outputs": [
        {
          "output_type": "stream",
          "name": "stdout",
          "text": [
            "Model         |    Accuracy\t|\tPrecision\t|\t recall \t|\tf1_score\t|\n",
            "log_reg       |    0.56271\t|\t0.485319\t|\t0.4039576\t|\t0.410453\t|\n",
            "log_reg_pca   |    0.562614\t|\t0.484923\t|\t0.4039035\t|\t0.410516\t|\n",
            "knn           |    0.757402\t|\t0.811962\t|\t0.692806\t|\t0.74124\t|\n",
            "rand_for      |    0.984766\t|\t0.990578\t|\t0.980135\t|\t0.985275\t|\n",
            "rand_for_pca  |    0.773977\t|\t0.860667\t|\t0.6647306\t|\t0.729154\t|\n"
          ]
        }
      ]
    },
    {
      "cell_type": "code",
      "source": [
        ""
      ],
      "metadata": {
        "id": "5m5M5TnzO9dT"
      },
      "execution_count": 330,
      "outputs": []
    }
  ]
}